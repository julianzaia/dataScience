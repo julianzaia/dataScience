{
  "nbformat": 4,
  "nbformat_minor": 0,
  "metadata": {
    "colab": {
      "provenance": [],
      "toc_visible": true,
      "authorship_tag": "ABX9TyPKNqq0jR8zc6zdVJZjy7ij",
      "include_colab_link": true
    },
    "kernelspec": {
      "name": "python3",
      "display_name": "Python 3"
    },
    "language_info": {
      "name": "python"
    }
  },
  "cells": [
    {
      "cell_type": "markdown",
      "metadata": {
        "id": "view-in-github",
        "colab_type": "text"
      },
      "source": [
        "<a href=\"https://colab.research.google.com/github/julianzaia/dataScience/blob/main/Options_ListFetching.ipynb\" target=\"_parent\"><img src=\"https://colab.research.google.com/assets/colab-badge.svg\" alt=\"Open In Colab\"/></a>"
      ]
    },
    {
      "cell_type": "code",
      "execution_count": 1,
      "metadata": {
        "colab": {
          "base_uri": "https://localhost:8080/"
        },
        "id": "Xtj0QlDpCftD",
        "outputId": "4c22c8fa-bac7-4918-a9f0-eb5334e6790e"
      },
      "outputs": [
        {
          "output_type": "stream",
          "name": "stdout",
          "text": [
            "Looking in indexes: https://pypi.org/simple, https://us-python.pkg.dev/colab-wheels/public/simple/\n",
            "Requirement already satisfied: yfinance in /usr/local/lib/python3.10/dist-packages (0.2.18)\n",
            "Requirement already satisfied: pandas>=1.3.0 in /usr/local/lib/python3.10/dist-packages (from yfinance) (1.5.3)\n",
            "Requirement already satisfied: numpy>=1.16.5 in /usr/local/lib/python3.10/dist-packages (from yfinance) (1.22.4)\n",
            "Requirement already satisfied: requests>=2.26 in /usr/local/lib/python3.10/dist-packages (from yfinance) (2.27.1)\n",
            "Requirement already satisfied: multitasking>=0.0.7 in /usr/local/lib/python3.10/dist-packages (from yfinance) (0.0.11)\n",
            "Requirement already satisfied: lxml>=4.9.1 in /usr/local/lib/python3.10/dist-packages (from yfinance) (4.9.2)\n",
            "Requirement already satisfied: appdirs>=1.4.4 in /usr/local/lib/python3.10/dist-packages (from yfinance) (1.4.4)\n",
            "Requirement already satisfied: pytz>=2022.5 in /usr/local/lib/python3.10/dist-packages (from yfinance) (2022.7.1)\n",
            "Requirement already satisfied: frozendict>=2.3.4 in /usr/local/lib/python3.10/dist-packages (from yfinance) (2.3.7)\n",
            "Requirement already satisfied: cryptography>=3.3.2 in /usr/local/lib/python3.10/dist-packages (from yfinance) (40.0.2)\n",
            "Requirement already satisfied: beautifulsoup4>=4.11.1 in /usr/local/lib/python3.10/dist-packages (from yfinance) (4.11.2)\n",
            "Requirement already satisfied: html5lib>=1.1 in /usr/local/lib/python3.10/dist-packages (from yfinance) (1.1)\n",
            "Requirement already satisfied: soupsieve>1.2 in /usr/local/lib/python3.10/dist-packages (from beautifulsoup4>=4.11.1->yfinance) (2.4.1)\n",
            "Requirement already satisfied: cffi>=1.12 in /usr/local/lib/python3.10/dist-packages (from cryptography>=3.3.2->yfinance) (1.15.1)\n",
            "Requirement already satisfied: six>=1.9 in /usr/local/lib/python3.10/dist-packages (from html5lib>=1.1->yfinance) (1.16.0)\n",
            "Requirement already satisfied: webencodings in /usr/local/lib/python3.10/dist-packages (from html5lib>=1.1->yfinance) (0.5.1)\n",
            "Requirement already satisfied: python-dateutil>=2.8.1 in /usr/local/lib/python3.10/dist-packages (from pandas>=1.3.0->yfinance) (2.8.2)\n",
            "Requirement already satisfied: urllib3<1.27,>=1.21.1 in /usr/local/lib/python3.10/dist-packages (from requests>=2.26->yfinance) (1.26.15)\n",
            "Requirement already satisfied: certifi>=2017.4.17 in /usr/local/lib/python3.10/dist-packages (from requests>=2.26->yfinance) (2022.12.7)\n",
            "Requirement already satisfied: charset-normalizer~=2.0.0 in /usr/local/lib/python3.10/dist-packages (from requests>=2.26->yfinance) (2.0.12)\n",
            "Requirement already satisfied: idna<4,>=2.5 in /usr/local/lib/python3.10/dist-packages (from requests>=2.26->yfinance) (3.4)\n",
            "Requirement already satisfied: pycparser in /usr/local/lib/python3.10/dist-packages (from cffi>=1.12->cryptography>=3.3.2->yfinance) (2.21)\n",
            "Looking in indexes: https://pypi.org/simple, https://us-python.pkg.dev/colab-wheels/public/simple/\n",
            "Requirement already satisfied: pandas_datareader in /usr/local/lib/python3.10/dist-packages (0.10.0)\n",
            "Requirement already satisfied: lxml in /usr/local/lib/python3.10/dist-packages (from pandas_datareader) (4.9.2)\n",
            "Requirement already satisfied: pandas>=0.23 in /usr/local/lib/python3.10/dist-packages (from pandas_datareader) (1.5.3)\n",
            "Requirement already satisfied: requests>=2.19.0 in /usr/local/lib/python3.10/dist-packages (from pandas_datareader) (2.27.1)\n",
            "Requirement already satisfied: python-dateutil>=2.8.1 in /usr/local/lib/python3.10/dist-packages (from pandas>=0.23->pandas_datareader) (2.8.2)\n",
            "Requirement already satisfied: pytz>=2020.1 in /usr/local/lib/python3.10/dist-packages (from pandas>=0.23->pandas_datareader) (2022.7.1)\n",
            "Requirement already satisfied: numpy>=1.21.0 in /usr/local/lib/python3.10/dist-packages (from pandas>=0.23->pandas_datareader) (1.22.4)\n",
            "Requirement already satisfied: urllib3<1.27,>=1.21.1 in /usr/local/lib/python3.10/dist-packages (from requests>=2.19.0->pandas_datareader) (1.26.15)\n",
            "Requirement already satisfied: certifi>=2017.4.17 in /usr/local/lib/python3.10/dist-packages (from requests>=2.19.0->pandas_datareader) (2022.12.7)\n",
            "Requirement already satisfied: charset-normalizer~=2.0.0 in /usr/local/lib/python3.10/dist-packages (from requests>=2.19.0->pandas_datareader) (2.0.12)\n",
            "Requirement already satisfied: idna<4,>=2.5 in /usr/local/lib/python3.10/dist-packages (from requests>=2.19.0->pandas_datareader) (3.4)\n",
            "Requirement already satisfied: six>=1.5 in /usr/local/lib/python3.10/dist-packages (from python-dateutil>=2.8.1->pandas>=0.23->pandas_datareader) (1.16.0)\n",
            "Looking in indexes: https://pypi.org/simple, https://us-python.pkg.dev/colab-wheels/public/simple/\n",
            "Requirement already satisfied: pandas-datareader in /usr/local/lib/python3.10/dist-packages (0.10.0)\n",
            "Requirement already satisfied: lxml in /usr/local/lib/python3.10/dist-packages (from pandas-datareader) (4.9.2)\n",
            "Requirement already satisfied: pandas>=0.23 in /usr/local/lib/python3.10/dist-packages (from pandas-datareader) (1.5.3)\n",
            "Requirement already satisfied: requests>=2.19.0 in /usr/local/lib/python3.10/dist-packages (from pandas-datareader) (2.27.1)\n",
            "Requirement already satisfied: python-dateutil>=2.8.1 in /usr/local/lib/python3.10/dist-packages (from pandas>=0.23->pandas-datareader) (2.8.2)\n",
            "Requirement already satisfied: pytz>=2020.1 in /usr/local/lib/python3.10/dist-packages (from pandas>=0.23->pandas-datareader) (2022.7.1)\n",
            "Requirement already satisfied: numpy>=1.21.0 in /usr/local/lib/python3.10/dist-packages (from pandas>=0.23->pandas-datareader) (1.22.4)\n",
            "Requirement already satisfied: urllib3<1.27,>=1.21.1 in /usr/local/lib/python3.10/dist-packages (from requests>=2.19.0->pandas-datareader) (1.26.15)\n",
            "Requirement already satisfied: certifi>=2017.4.17 in /usr/local/lib/python3.10/dist-packages (from requests>=2.19.0->pandas-datareader) (2022.12.7)\n",
            "Requirement already satisfied: charset-normalizer~=2.0.0 in /usr/local/lib/python3.10/dist-packages (from requests>=2.19.0->pandas-datareader) (2.0.12)\n",
            "Requirement already satisfied: idna<4,>=2.5 in /usr/local/lib/python3.10/dist-packages (from requests>=2.19.0->pandas-datareader) (3.4)\n",
            "Requirement already satisfied: six>=1.5 in /usr/local/lib/python3.10/dist-packages (from python-dateutil>=2.8.1->pandas>=0.23->pandas-datareader) (1.16.0)\n"
          ]
        }
      ],
      "source": [
        "from pandas.io.excel import ExcelWriter\n",
        "!pip install yfinance\n",
        "!pip3 install pandas_datareader\n",
        "!pip install --upgrade pandas-datareader\n",
        "import pandas_datareader \n",
        "import pandas_datareader as web"
      ]
    },
    {
      "cell_type": "code",
      "source": [
        "import pandas as pd\n",
        "import numpy as np\n",
        "from matplotlib import pyplot as plt\n",
        "import seaborn as sns\n",
        "import datetime as dt"
      ],
      "metadata": {
        "id": "O4wjT1bCC6qc"
      },
      "execution_count": 1,
      "outputs": []
    },
    {
      "cell_type": "code",
      "source": [
        "# IMPORT REQUIRED LIBRARY\n",
        "import yfinance as yf\n",
        "\n",
        "# CREATE A TICKER INSTANCE FOR TESLA\n",
        "tsla = yf.Ticker('TSLA')\n",
        "\n",
        "# FETCH OPTIONS CHAIN DATA FOR THE COMPANY\n",
        "tsla_options = tsla.option_chain()\n",
        "\n",
        "# ACCESS BOTH THE CALLS AND PUTS AND STORE THEM IN THEIR RESPECTIVE VARIABLES\n",
        "tsla_puts = tsla_options.puts\n",
        "tsla_calls = tsla_options.calls"
      ],
      "metadata": {
        "id": "DU27vhZpDguF"
      },
      "execution_count": 2,
      "outputs": []
    },
    {
      "cell_type": "code",
      "source": [
        "tsla_puts"
      ],
      "metadata": {
        "colab": {
          "base_uri": "https://localhost:8080/",
          "height": 661
        },
        "id": "T9y8J_edGhe6",
        "outputId": "12209add-97c1-43c3-d214-058c59b87b69"
      },
      "execution_count": 3,
      "outputs": [
        {
          "output_type": "execute_result",
          "data": {
            "text/plain": [
              "         contractSymbol             lastTradeDate  strike  lastPrice     bid  \\\n",
              "0   TSLA230526P00020000 2023-05-25 15:14:04+00:00    20.0       0.01    0.00   \n",
              "1   TSLA230526P00030000 2023-05-23 17:21:54+00:00    30.0       0.01    0.00   \n",
              "2   TSLA230526P00040000 2023-04-28 16:15:34+00:00    40.0       0.01    0.00   \n",
              "3   TSLA230526P00050000 2023-04-28 16:15:57+00:00    50.0       0.01    0.00   \n",
              "4   TSLA230526P00060000 2023-05-09 18:54:06+00:00    60.0       0.01    0.00   \n",
              "..                  ...                       ...     ...        ...     ...   \n",
              "78  TSLA230526P00300000 2023-05-24 14:08:31+00:00   300.0     120.65  114.55   \n",
              "79  TSLA230526P00310000 2023-05-24 17:03:37+00:00   310.0     128.14  124.55   \n",
              "80  TSLA230526P00340000 2023-05-19 14:27:10+00:00   340.0     159.00  154.70   \n",
              "81  TSLA230526P00350000 2023-05-22 15:32:22+00:00   350.0     164.12  164.65   \n",
              "82  TSLA230526P00360000 2023-05-22 13:32:48+00:00   360.0     177.45  174.65   \n",
              "\n",
              "       ask  change  percentChange  volume  openInterest  impliedVolatility  \\\n",
              "0     0.01     0.0            0.0    12.0           416           9.000004   \n",
              "1     0.01     0.0            0.0     2.0             2           7.500001   \n",
              "2     0.01     0.0            0.0     1.0             1           6.250002   \n",
              "3     0.01     0.0            0.0    25.0           339           5.375003   \n",
              "4     0.01     0.0            0.0     7.0            48           4.625004   \n",
              "..     ...     ...            ...     ...           ...                ...   \n",
              "78  115.15     0.0            0.0     8.0             0           2.937503   \n",
              "79  125.15     0.0            0.0     1.0             1           3.103518   \n",
              "80  154.90     0.0            0.0     1.0             0           3.457033   \n",
              "81  164.90     0.0            0.0     2.0             0           3.535157   \n",
              "82  174.85     0.0            0.0     1.0             1           3.597657   \n",
              "\n",
              "    inTheMoney contractSize currency  \n",
              "0        False      REGULAR      USD  \n",
              "1        False      REGULAR      USD  \n",
              "2        False      REGULAR      USD  \n",
              "3        False      REGULAR      USD  \n",
              "4        False      REGULAR      USD  \n",
              "..         ...          ...      ...  \n",
              "78        True      REGULAR      USD  \n",
              "79        True      REGULAR      USD  \n",
              "80        True      REGULAR      USD  \n",
              "81        True      REGULAR      USD  \n",
              "82        True      REGULAR      USD  \n",
              "\n",
              "[83 rows x 14 columns]"
            ],
            "text/html": [
              "\n",
              "  <div id=\"df-54e803e1-767a-4dcc-ba3a-ae43498c43e1\">\n",
              "    <div class=\"colab-df-container\">\n",
              "      <div>\n",
              "<style scoped>\n",
              "    .dataframe tbody tr th:only-of-type {\n",
              "        vertical-align: middle;\n",
              "    }\n",
              "\n",
              "    .dataframe tbody tr th {\n",
              "        vertical-align: top;\n",
              "    }\n",
              "\n",
              "    .dataframe thead th {\n",
              "        text-align: right;\n",
              "    }\n",
              "</style>\n",
              "<table border=\"1\" class=\"dataframe\">\n",
              "  <thead>\n",
              "    <tr style=\"text-align: right;\">\n",
              "      <th></th>\n",
              "      <th>contractSymbol</th>\n",
              "      <th>lastTradeDate</th>\n",
              "      <th>strike</th>\n",
              "      <th>lastPrice</th>\n",
              "      <th>bid</th>\n",
              "      <th>ask</th>\n",
              "      <th>change</th>\n",
              "      <th>percentChange</th>\n",
              "      <th>volume</th>\n",
              "      <th>openInterest</th>\n",
              "      <th>impliedVolatility</th>\n",
              "      <th>inTheMoney</th>\n",
              "      <th>contractSize</th>\n",
              "      <th>currency</th>\n",
              "    </tr>\n",
              "  </thead>\n",
              "  <tbody>\n",
              "    <tr>\n",
              "      <th>0</th>\n",
              "      <td>TSLA230526P00020000</td>\n",
              "      <td>2023-05-25 15:14:04+00:00</td>\n",
              "      <td>20.0</td>\n",
              "      <td>0.01</td>\n",
              "      <td>0.00</td>\n",
              "      <td>0.01</td>\n",
              "      <td>0.0</td>\n",
              "      <td>0.0</td>\n",
              "      <td>12.0</td>\n",
              "      <td>416</td>\n",
              "      <td>9.000004</td>\n",
              "      <td>False</td>\n",
              "      <td>REGULAR</td>\n",
              "      <td>USD</td>\n",
              "    </tr>\n",
              "    <tr>\n",
              "      <th>1</th>\n",
              "      <td>TSLA230526P00030000</td>\n",
              "      <td>2023-05-23 17:21:54+00:00</td>\n",
              "      <td>30.0</td>\n",
              "      <td>0.01</td>\n",
              "      <td>0.00</td>\n",
              "      <td>0.01</td>\n",
              "      <td>0.0</td>\n",
              "      <td>0.0</td>\n",
              "      <td>2.0</td>\n",
              "      <td>2</td>\n",
              "      <td>7.500001</td>\n",
              "      <td>False</td>\n",
              "      <td>REGULAR</td>\n",
              "      <td>USD</td>\n",
              "    </tr>\n",
              "    <tr>\n",
              "      <th>2</th>\n",
              "      <td>TSLA230526P00040000</td>\n",
              "      <td>2023-04-28 16:15:34+00:00</td>\n",
              "      <td>40.0</td>\n",
              "      <td>0.01</td>\n",
              "      <td>0.00</td>\n",
              "      <td>0.01</td>\n",
              "      <td>0.0</td>\n",
              "      <td>0.0</td>\n",
              "      <td>1.0</td>\n",
              "      <td>1</td>\n",
              "      <td>6.250002</td>\n",
              "      <td>False</td>\n",
              "      <td>REGULAR</td>\n",
              "      <td>USD</td>\n",
              "    </tr>\n",
              "    <tr>\n",
              "      <th>3</th>\n",
              "      <td>TSLA230526P00050000</td>\n",
              "      <td>2023-04-28 16:15:57+00:00</td>\n",
              "      <td>50.0</td>\n",
              "      <td>0.01</td>\n",
              "      <td>0.00</td>\n",
              "      <td>0.01</td>\n",
              "      <td>0.0</td>\n",
              "      <td>0.0</td>\n",
              "      <td>25.0</td>\n",
              "      <td>339</td>\n",
              "      <td>5.375003</td>\n",
              "      <td>False</td>\n",
              "      <td>REGULAR</td>\n",
              "      <td>USD</td>\n",
              "    </tr>\n",
              "    <tr>\n",
              "      <th>4</th>\n",
              "      <td>TSLA230526P00060000</td>\n",
              "      <td>2023-05-09 18:54:06+00:00</td>\n",
              "      <td>60.0</td>\n",
              "      <td>0.01</td>\n",
              "      <td>0.00</td>\n",
              "      <td>0.01</td>\n",
              "      <td>0.0</td>\n",
              "      <td>0.0</td>\n",
              "      <td>7.0</td>\n",
              "      <td>48</td>\n",
              "      <td>4.625004</td>\n",
              "      <td>False</td>\n",
              "      <td>REGULAR</td>\n",
              "      <td>USD</td>\n",
              "    </tr>\n",
              "    <tr>\n",
              "      <th>...</th>\n",
              "      <td>...</td>\n",
              "      <td>...</td>\n",
              "      <td>...</td>\n",
              "      <td>...</td>\n",
              "      <td>...</td>\n",
              "      <td>...</td>\n",
              "      <td>...</td>\n",
              "      <td>...</td>\n",
              "      <td>...</td>\n",
              "      <td>...</td>\n",
              "      <td>...</td>\n",
              "      <td>...</td>\n",
              "      <td>...</td>\n",
              "      <td>...</td>\n",
              "    </tr>\n",
              "    <tr>\n",
              "      <th>78</th>\n",
              "      <td>TSLA230526P00300000</td>\n",
              "      <td>2023-05-24 14:08:31+00:00</td>\n",
              "      <td>300.0</td>\n",
              "      <td>120.65</td>\n",
              "      <td>114.55</td>\n",
              "      <td>115.15</td>\n",
              "      <td>0.0</td>\n",
              "      <td>0.0</td>\n",
              "      <td>8.0</td>\n",
              "      <td>0</td>\n",
              "      <td>2.937503</td>\n",
              "      <td>True</td>\n",
              "      <td>REGULAR</td>\n",
              "      <td>USD</td>\n",
              "    </tr>\n",
              "    <tr>\n",
              "      <th>79</th>\n",
              "      <td>TSLA230526P00310000</td>\n",
              "      <td>2023-05-24 17:03:37+00:00</td>\n",
              "      <td>310.0</td>\n",
              "      <td>128.14</td>\n",
              "      <td>124.55</td>\n",
              "      <td>125.15</td>\n",
              "      <td>0.0</td>\n",
              "      <td>0.0</td>\n",
              "      <td>1.0</td>\n",
              "      <td>1</td>\n",
              "      <td>3.103518</td>\n",
              "      <td>True</td>\n",
              "      <td>REGULAR</td>\n",
              "      <td>USD</td>\n",
              "    </tr>\n",
              "    <tr>\n",
              "      <th>80</th>\n",
              "      <td>TSLA230526P00340000</td>\n",
              "      <td>2023-05-19 14:27:10+00:00</td>\n",
              "      <td>340.0</td>\n",
              "      <td>159.00</td>\n",
              "      <td>154.70</td>\n",
              "      <td>154.90</td>\n",
              "      <td>0.0</td>\n",
              "      <td>0.0</td>\n",
              "      <td>1.0</td>\n",
              "      <td>0</td>\n",
              "      <td>3.457033</td>\n",
              "      <td>True</td>\n",
              "      <td>REGULAR</td>\n",
              "      <td>USD</td>\n",
              "    </tr>\n",
              "    <tr>\n",
              "      <th>81</th>\n",
              "      <td>TSLA230526P00350000</td>\n",
              "      <td>2023-05-22 15:32:22+00:00</td>\n",
              "      <td>350.0</td>\n",
              "      <td>164.12</td>\n",
              "      <td>164.65</td>\n",
              "      <td>164.90</td>\n",
              "      <td>0.0</td>\n",
              "      <td>0.0</td>\n",
              "      <td>2.0</td>\n",
              "      <td>0</td>\n",
              "      <td>3.535157</td>\n",
              "      <td>True</td>\n",
              "      <td>REGULAR</td>\n",
              "      <td>USD</td>\n",
              "    </tr>\n",
              "    <tr>\n",
              "      <th>82</th>\n",
              "      <td>TSLA230526P00360000</td>\n",
              "      <td>2023-05-22 13:32:48+00:00</td>\n",
              "      <td>360.0</td>\n",
              "      <td>177.45</td>\n",
              "      <td>174.65</td>\n",
              "      <td>174.85</td>\n",
              "      <td>0.0</td>\n",
              "      <td>0.0</td>\n",
              "      <td>1.0</td>\n",
              "      <td>1</td>\n",
              "      <td>3.597657</td>\n",
              "      <td>True</td>\n",
              "      <td>REGULAR</td>\n",
              "      <td>USD</td>\n",
              "    </tr>\n",
              "  </tbody>\n",
              "</table>\n",
              "<p>83 rows × 14 columns</p>\n",
              "</div>\n",
              "      <button class=\"colab-df-convert\" onclick=\"convertToInteractive('df-54e803e1-767a-4dcc-ba3a-ae43498c43e1')\"\n",
              "              title=\"Convert this dataframe to an interactive table.\"\n",
              "              style=\"display:none;\">\n",
              "        \n",
              "  <svg xmlns=\"http://www.w3.org/2000/svg\" height=\"24px\"viewBox=\"0 0 24 24\"\n",
              "       width=\"24px\">\n",
              "    <path d=\"M0 0h24v24H0V0z\" fill=\"none\"/>\n",
              "    <path d=\"M18.56 5.44l.94 2.06.94-2.06 2.06-.94-2.06-.94-.94-2.06-.94 2.06-2.06.94zm-11 1L8.5 8.5l.94-2.06 2.06-.94-2.06-.94L8.5 2.5l-.94 2.06-2.06.94zm10 10l.94 2.06.94-2.06 2.06-.94-2.06-.94-.94-2.06-.94 2.06-2.06.94z\"/><path d=\"M17.41 7.96l-1.37-1.37c-.4-.4-.92-.59-1.43-.59-.52 0-1.04.2-1.43.59L10.3 9.45l-7.72 7.72c-.78.78-.78 2.05 0 2.83L4 21.41c.39.39.9.59 1.41.59.51 0 1.02-.2 1.41-.59l7.78-7.78 2.81-2.81c.8-.78.8-2.07 0-2.86zM5.41 20L4 18.59l7.72-7.72 1.47 1.35L5.41 20z\"/>\n",
              "  </svg>\n",
              "      </button>\n",
              "      \n",
              "  <style>\n",
              "    .colab-df-container {\n",
              "      display:flex;\n",
              "      flex-wrap:wrap;\n",
              "      gap: 12px;\n",
              "    }\n",
              "\n",
              "    .colab-df-convert {\n",
              "      background-color: #E8F0FE;\n",
              "      border: none;\n",
              "      border-radius: 50%;\n",
              "      cursor: pointer;\n",
              "      display: none;\n",
              "      fill: #1967D2;\n",
              "      height: 32px;\n",
              "      padding: 0 0 0 0;\n",
              "      width: 32px;\n",
              "    }\n",
              "\n",
              "    .colab-df-convert:hover {\n",
              "      background-color: #E2EBFA;\n",
              "      box-shadow: 0px 1px 2px rgba(60, 64, 67, 0.3), 0px 1px 3px 1px rgba(60, 64, 67, 0.15);\n",
              "      fill: #174EA6;\n",
              "    }\n",
              "\n",
              "    [theme=dark] .colab-df-convert {\n",
              "      background-color: #3B4455;\n",
              "      fill: #D2E3FC;\n",
              "    }\n",
              "\n",
              "    [theme=dark] .colab-df-convert:hover {\n",
              "      background-color: #434B5C;\n",
              "      box-shadow: 0px 1px 3px 1px rgba(0, 0, 0, 0.15);\n",
              "      filter: drop-shadow(0px 1px 2px rgba(0, 0, 0, 0.3));\n",
              "      fill: #FFFFFF;\n",
              "    }\n",
              "  </style>\n",
              "\n",
              "      <script>\n",
              "        const buttonEl =\n",
              "          document.querySelector('#df-54e803e1-767a-4dcc-ba3a-ae43498c43e1 button.colab-df-convert');\n",
              "        buttonEl.style.display =\n",
              "          google.colab.kernel.accessAllowed ? 'block' : 'none';\n",
              "\n",
              "        async function convertToInteractive(key) {\n",
              "          const element = document.querySelector('#df-54e803e1-767a-4dcc-ba3a-ae43498c43e1');\n",
              "          const dataTable =\n",
              "            await google.colab.kernel.invokeFunction('convertToInteractive',\n",
              "                                                     [key], {});\n",
              "          if (!dataTable) return;\n",
              "\n",
              "          const docLinkHtml = 'Like what you see? Visit the ' +\n",
              "            '<a target=\"_blank\" href=https://colab.research.google.com/notebooks/data_table.ipynb>data table notebook</a>'\n",
              "            + ' to learn more about interactive tables.';\n",
              "          element.innerHTML = '';\n",
              "          dataTable['output_type'] = 'display_data';\n",
              "          await google.colab.output.renderOutput(dataTable, element);\n",
              "          const docLink = document.createElement('div');\n",
              "          docLink.innerHTML = docLinkHtml;\n",
              "          element.appendChild(docLink);\n",
              "        }\n",
              "      </script>\n",
              "    </div>\n",
              "  </div>\n",
              "  "
            ]
          },
          "metadata": {},
          "execution_count": 3
        }
      ]
    },
    {
      "cell_type": "code",
      "source": [
        "import yfinance as yf\n",
        "import pandas as pd\n",
        "\n",
        "yf.pdr_override()\n",
        "# Acá pones los tickers de las bluechips\n",
        "blue_chips = [\"AAPL\", \"MSFT\", \"AMZN\", \"GOOGL\", \"FB\", \"JPM\", \"WMT\", \"UNH\", \"BAC\", \"TSLA\"]\n",
        "stocklist = blue_chips\n",
        "optionsX = pd.DataFrame()\n",
        "\n",
        "for x in stocklist:\n",
        "    print(x)\n",
        "    tk = yf.Ticker(x)  \n",
        "    exps = tk.options  #expiration dates\n",
        "    try:\n",
        "        for e in exps:\n",
        "            print(e)\n",
        "            opt = tk.option_chain(e)\n",
        "            opt = pd.DataFrame().append(opt.calls).append(opt.puts)\n",
        "            #modificar la fecha de vencimiento \n",
        "            opt['expirationDate'] = \"2025-01-01\"\n",
        "            opt['Symbol'] = x\n",
        "            optionsX = optionsX.append(opt, ignore_index=True)\n",
        "    except:\n",
        "        pass\n",
        "optionsX"
      ],
      "metadata": {
        "colab": {
          "base_uri": "https://localhost:8080/",
          "height": 1000
        },
        "id": "xO1grZR6ap3-",
        "outputId": "d7de0b2c-c4dc-40c6-e094-ad169eb2d3e7"
      },
      "execution_count": 4,
      "outputs": [
        {
          "output_type": "stream",
          "name": "stdout",
          "text": [
            "AAPL\n",
            "2023-05-26\n"
          ]
        },
        {
          "output_type": "stream",
          "name": "stderr",
          "text": [
            "<ipython-input-4-75812940887c>:18: FutureWarning: The frame.append method is deprecated and will be removed from pandas in a future version. Use pandas.concat instead.\n",
            "  opt = pd.DataFrame().append(opt.calls).append(opt.puts)\n",
            "<ipython-input-4-75812940887c>:21: FutureWarning: The frame.append method is deprecated and will be removed from pandas in a future version. Use pandas.concat instead.\n",
            "  optionsX = optionsX.append(opt, ignore_index=True)\n",
            "<ipython-input-4-75812940887c>:18: FutureWarning: The frame.append method is deprecated and will be removed from pandas in a future version. Use pandas.concat instead.\n",
            "  opt = pd.DataFrame().append(opt.calls).append(opt.puts)\n",
            "<ipython-input-4-75812940887c>:21: FutureWarning: The frame.append method is deprecated and will be removed from pandas in a future version. Use pandas.concat instead.\n",
            "  optionsX = optionsX.append(opt, ignore_index=True)\n"
          ]
        },
        {
          "output_type": "stream",
          "name": "stdout",
          "text": [
            "2023-06-02\n",
            "2023-06-09\n"
          ]
        },
        {
          "output_type": "stream",
          "name": "stderr",
          "text": [
            "<ipython-input-4-75812940887c>:18: FutureWarning: The frame.append method is deprecated and will be removed from pandas in a future version. Use pandas.concat instead.\n",
            "  opt = pd.DataFrame().append(opt.calls).append(opt.puts)\n",
            "<ipython-input-4-75812940887c>:21: FutureWarning: The frame.append method is deprecated and will be removed from pandas in a future version. Use pandas.concat instead.\n",
            "  optionsX = optionsX.append(opt, ignore_index=True)\n",
            "<ipython-input-4-75812940887c>:18: FutureWarning: The frame.append method is deprecated and will be removed from pandas in a future version. Use pandas.concat instead.\n",
            "  opt = pd.DataFrame().append(opt.calls).append(opt.puts)\n",
            "<ipython-input-4-75812940887c>:21: FutureWarning: The frame.append method is deprecated and will be removed from pandas in a future version. Use pandas.concat instead.\n",
            "  optionsX = optionsX.append(opt, ignore_index=True)\n"
          ]
        },
        {
          "output_type": "stream",
          "name": "stdout",
          "text": [
            "2023-06-16\n",
            "2023-06-23\n"
          ]
        },
        {
          "output_type": "stream",
          "name": "stderr",
          "text": [
            "<ipython-input-4-75812940887c>:18: FutureWarning: The frame.append method is deprecated and will be removed from pandas in a future version. Use pandas.concat instead.\n",
            "  opt = pd.DataFrame().append(opt.calls).append(opt.puts)\n",
            "<ipython-input-4-75812940887c>:21: FutureWarning: The frame.append method is deprecated and will be removed from pandas in a future version. Use pandas.concat instead.\n",
            "  optionsX = optionsX.append(opt, ignore_index=True)\n",
            "<ipython-input-4-75812940887c>:18: FutureWarning: The frame.append method is deprecated and will be removed from pandas in a future version. Use pandas.concat instead.\n",
            "  opt = pd.DataFrame().append(opt.calls).append(opt.puts)\n",
            "<ipython-input-4-75812940887c>:21: FutureWarning: The frame.append method is deprecated and will be removed from pandas in a future version. Use pandas.concat instead.\n",
            "  optionsX = optionsX.append(opt, ignore_index=True)\n",
            "<ipython-input-4-75812940887c>:18: FutureWarning: The frame.append method is deprecated and will be removed from pandas in a future version. Use pandas.concat instead.\n",
            "  opt = pd.DataFrame().append(opt.calls).append(opt.puts)\n"
          ]
        },
        {
          "output_type": "stream",
          "name": "stdout",
          "text": [
            "2023-06-30\n",
            "2023-07-21\n"
          ]
        },
        {
          "output_type": "stream",
          "name": "stderr",
          "text": [
            "<ipython-input-4-75812940887c>:21: FutureWarning: The frame.append method is deprecated and will be removed from pandas in a future version. Use pandas.concat instead.\n",
            "  optionsX = optionsX.append(opt, ignore_index=True)\n",
            "<ipython-input-4-75812940887c>:18: FutureWarning: The frame.append method is deprecated and will be removed from pandas in a future version. Use pandas.concat instead.\n",
            "  opt = pd.DataFrame().append(opt.calls).append(opt.puts)\n",
            "<ipython-input-4-75812940887c>:21: FutureWarning: The frame.append method is deprecated and will be removed from pandas in a future version. Use pandas.concat instead.\n",
            "  optionsX = optionsX.append(opt, ignore_index=True)\n"
          ]
        },
        {
          "output_type": "stream",
          "name": "stdout",
          "text": [
            "2023-08-18\n",
            "2023-09-15\n"
          ]
        },
        {
          "output_type": "stream",
          "name": "stderr",
          "text": [
            "<ipython-input-4-75812940887c>:18: FutureWarning: The frame.append method is deprecated and will be removed from pandas in a future version. Use pandas.concat instead.\n",
            "  opt = pd.DataFrame().append(opt.calls).append(opt.puts)\n",
            "<ipython-input-4-75812940887c>:21: FutureWarning: The frame.append method is deprecated and will be removed from pandas in a future version. Use pandas.concat instead.\n",
            "  optionsX = optionsX.append(opt, ignore_index=True)\n",
            "<ipython-input-4-75812940887c>:18: FutureWarning: The frame.append method is deprecated and will be removed from pandas in a future version. Use pandas.concat instead.\n",
            "  opt = pd.DataFrame().append(opt.calls).append(opt.puts)\n",
            "<ipython-input-4-75812940887c>:21: FutureWarning: The frame.append method is deprecated and will be removed from pandas in a future version. Use pandas.concat instead.\n",
            "  optionsX = optionsX.append(opt, ignore_index=True)\n"
          ]
        },
        {
          "output_type": "stream",
          "name": "stdout",
          "text": [
            "2023-10-20\n",
            "2023-11-17\n"
          ]
        },
        {
          "output_type": "stream",
          "name": "stderr",
          "text": [
            "<ipython-input-4-75812940887c>:18: FutureWarning: The frame.append method is deprecated and will be removed from pandas in a future version. Use pandas.concat instead.\n",
            "  opt = pd.DataFrame().append(opt.calls).append(opt.puts)\n",
            "<ipython-input-4-75812940887c>:21: FutureWarning: The frame.append method is deprecated and will be removed from pandas in a future version. Use pandas.concat instead.\n",
            "  optionsX = optionsX.append(opt, ignore_index=True)\n"
          ]
        },
        {
          "output_type": "stream",
          "name": "stdout",
          "text": [
            "2023-12-15\n"
          ]
        },
        {
          "output_type": "stream",
          "name": "stderr",
          "text": [
            "<ipython-input-4-75812940887c>:18: FutureWarning: The frame.append method is deprecated and will be removed from pandas in a future version. Use pandas.concat instead.\n",
            "  opt = pd.DataFrame().append(opt.calls).append(opt.puts)\n",
            "<ipython-input-4-75812940887c>:21: FutureWarning: The frame.append method is deprecated and will be removed from pandas in a future version. Use pandas.concat instead.\n",
            "  optionsX = optionsX.append(opt, ignore_index=True)\n",
            "<ipython-input-4-75812940887c>:18: FutureWarning: The frame.append method is deprecated and will be removed from pandas in a future version. Use pandas.concat instead.\n",
            "  opt = pd.DataFrame().append(opt.calls).append(opt.puts)\n",
            "<ipython-input-4-75812940887c>:21: FutureWarning: The frame.append method is deprecated and will be removed from pandas in a future version. Use pandas.concat instead.\n",
            "  optionsX = optionsX.append(opt, ignore_index=True)\n"
          ]
        },
        {
          "output_type": "stream",
          "name": "stdout",
          "text": [
            "2024-01-19\n",
            "2024-03-15\n"
          ]
        },
        {
          "output_type": "stream",
          "name": "stderr",
          "text": [
            "<ipython-input-4-75812940887c>:18: FutureWarning: The frame.append method is deprecated and will be removed from pandas in a future version. Use pandas.concat instead.\n",
            "  opt = pd.DataFrame().append(opt.calls).append(opt.puts)\n",
            "<ipython-input-4-75812940887c>:21: FutureWarning: The frame.append method is deprecated and will be removed from pandas in a future version. Use pandas.concat instead.\n",
            "  optionsX = optionsX.append(opt, ignore_index=True)\n",
            "<ipython-input-4-75812940887c>:18: FutureWarning: The frame.append method is deprecated and will be removed from pandas in a future version. Use pandas.concat instead.\n",
            "  opt = pd.DataFrame().append(opt.calls).append(opt.puts)\n",
            "<ipython-input-4-75812940887c>:21: FutureWarning: The frame.append method is deprecated and will be removed from pandas in a future version. Use pandas.concat instead.\n",
            "  optionsX = optionsX.append(opt, ignore_index=True)\n"
          ]
        },
        {
          "output_type": "stream",
          "name": "stdout",
          "text": [
            "2024-06-21\n",
            "2024-09-20\n"
          ]
        },
        {
          "output_type": "stream",
          "name": "stderr",
          "text": [
            "<ipython-input-4-75812940887c>:18: FutureWarning: The frame.append method is deprecated and will be removed from pandas in a future version. Use pandas.concat instead.\n",
            "  opt = pd.DataFrame().append(opt.calls).append(opt.puts)\n",
            "<ipython-input-4-75812940887c>:21: FutureWarning: The frame.append method is deprecated and will be removed from pandas in a future version. Use pandas.concat instead.\n",
            "  optionsX = optionsX.append(opt, ignore_index=True)\n"
          ]
        },
        {
          "output_type": "stream",
          "name": "stdout",
          "text": [
            "2024-12-20\n"
          ]
        },
        {
          "output_type": "stream",
          "name": "stderr",
          "text": [
            "<ipython-input-4-75812940887c>:18: FutureWarning: The frame.append method is deprecated and will be removed from pandas in a future version. Use pandas.concat instead.\n",
            "  opt = pd.DataFrame().append(opt.calls).append(opt.puts)\n",
            "<ipython-input-4-75812940887c>:21: FutureWarning: The frame.append method is deprecated and will be removed from pandas in a future version. Use pandas.concat instead.\n",
            "  optionsX = optionsX.append(opt, ignore_index=True)\n",
            "<ipython-input-4-75812940887c>:18: FutureWarning: The frame.append method is deprecated and will be removed from pandas in a future version. Use pandas.concat instead.\n",
            "  opt = pd.DataFrame().append(opt.calls).append(opt.puts)\n",
            "<ipython-input-4-75812940887c>:21: FutureWarning: The frame.append method is deprecated and will be removed from pandas in a future version. Use pandas.concat instead.\n",
            "  optionsX = optionsX.append(opt, ignore_index=True)\n"
          ]
        },
        {
          "output_type": "stream",
          "name": "stdout",
          "text": [
            "2025-01-17\n",
            "2025-06-20\n"
          ]
        },
        {
          "output_type": "stream",
          "name": "stderr",
          "text": [
            "<ipython-input-4-75812940887c>:18: FutureWarning: The frame.append method is deprecated and will be removed from pandas in a future version. Use pandas.concat instead.\n",
            "  opt = pd.DataFrame().append(opt.calls).append(opt.puts)\n",
            "<ipython-input-4-75812940887c>:21: FutureWarning: The frame.append method is deprecated and will be removed from pandas in a future version. Use pandas.concat instead.\n",
            "  optionsX = optionsX.append(opt, ignore_index=True)\n",
            "<ipython-input-4-75812940887c>:18: FutureWarning: The frame.append method is deprecated and will be removed from pandas in a future version. Use pandas.concat instead.\n",
            "  opt = pd.DataFrame().append(opt.calls).append(opt.puts)\n",
            "<ipython-input-4-75812940887c>:21: FutureWarning: The frame.append method is deprecated and will be removed from pandas in a future version. Use pandas.concat instead.\n",
            "  optionsX = optionsX.append(opt, ignore_index=True)\n"
          ]
        },
        {
          "output_type": "stream",
          "name": "stdout",
          "text": [
            "2025-12-19\n",
            "MSFT\n",
            "2023-05-26\n",
            "2023-06-02\n"
          ]
        },
        {
          "output_type": "stream",
          "name": "stderr",
          "text": [
            "<ipython-input-4-75812940887c>:18: FutureWarning: The frame.append method is deprecated and will be removed from pandas in a future version. Use pandas.concat instead.\n",
            "  opt = pd.DataFrame().append(opt.calls).append(opt.puts)\n",
            "<ipython-input-4-75812940887c>:21: FutureWarning: The frame.append method is deprecated and will be removed from pandas in a future version. Use pandas.concat instead.\n",
            "  optionsX = optionsX.append(opt, ignore_index=True)\n",
            "<ipython-input-4-75812940887c>:18: FutureWarning: The frame.append method is deprecated and will be removed from pandas in a future version. Use pandas.concat instead.\n",
            "  opt = pd.DataFrame().append(opt.calls).append(opt.puts)\n",
            "<ipython-input-4-75812940887c>:21: FutureWarning: The frame.append method is deprecated and will be removed from pandas in a future version. Use pandas.concat instead.\n",
            "  optionsX = optionsX.append(opt, ignore_index=True)\n"
          ]
        },
        {
          "output_type": "stream",
          "name": "stdout",
          "text": [
            "2023-06-09\n"
          ]
        },
        {
          "output_type": "stream",
          "name": "stderr",
          "text": [
            "<ipython-input-4-75812940887c>:18: FutureWarning: The frame.append method is deprecated and will be removed from pandas in a future version. Use pandas.concat instead.\n",
            "  opt = pd.DataFrame().append(opt.calls).append(opt.puts)\n",
            "<ipython-input-4-75812940887c>:21: FutureWarning: The frame.append method is deprecated and will be removed from pandas in a future version. Use pandas.concat instead.\n",
            "  optionsX = optionsX.append(opt, ignore_index=True)\n",
            "<ipython-input-4-75812940887c>:18: FutureWarning: The frame.append method is deprecated and will be removed from pandas in a future version. Use pandas.concat instead.\n",
            "  opt = pd.DataFrame().append(opt.calls).append(opt.puts)\n",
            "<ipython-input-4-75812940887c>:21: FutureWarning: The frame.append method is deprecated and will be removed from pandas in a future version. Use pandas.concat instead.\n",
            "  optionsX = optionsX.append(opt, ignore_index=True)\n"
          ]
        },
        {
          "output_type": "stream",
          "name": "stdout",
          "text": [
            "2023-06-16\n",
            "2023-06-23\n"
          ]
        },
        {
          "output_type": "stream",
          "name": "stderr",
          "text": [
            "<ipython-input-4-75812940887c>:18: FutureWarning: The frame.append method is deprecated and will be removed from pandas in a future version. Use pandas.concat instead.\n",
            "  opt = pd.DataFrame().append(opt.calls).append(opt.puts)\n",
            "<ipython-input-4-75812940887c>:21: FutureWarning: The frame.append method is deprecated and will be removed from pandas in a future version. Use pandas.concat instead.\n",
            "  optionsX = optionsX.append(opt, ignore_index=True)\n",
            "<ipython-input-4-75812940887c>:18: FutureWarning: The frame.append method is deprecated and will be removed from pandas in a future version. Use pandas.concat instead.\n",
            "  opt = pd.DataFrame().append(opt.calls).append(opt.puts)\n",
            "<ipython-input-4-75812940887c>:21: FutureWarning: The frame.append method is deprecated and will be removed from pandas in a future version. Use pandas.concat instead.\n",
            "  optionsX = optionsX.append(opt, ignore_index=True)\n"
          ]
        },
        {
          "output_type": "stream",
          "name": "stdout",
          "text": [
            "2023-06-30\n",
            "2023-07-21\n"
          ]
        },
        {
          "output_type": "stream",
          "name": "stderr",
          "text": [
            "<ipython-input-4-75812940887c>:18: FutureWarning: The frame.append method is deprecated and will be removed from pandas in a future version. Use pandas.concat instead.\n",
            "  opt = pd.DataFrame().append(opt.calls).append(opt.puts)\n",
            "<ipython-input-4-75812940887c>:21: FutureWarning: The frame.append method is deprecated and will be removed from pandas in a future version. Use pandas.concat instead.\n",
            "  optionsX = optionsX.append(opt, ignore_index=True)\n",
            "<ipython-input-4-75812940887c>:18: FutureWarning: The frame.append method is deprecated and will be removed from pandas in a future version. Use pandas.concat instead.\n",
            "  opt = pd.DataFrame().append(opt.calls).append(opt.puts)\n",
            "<ipython-input-4-75812940887c>:21: FutureWarning: The frame.append method is deprecated and will be removed from pandas in a future version. Use pandas.concat instead.\n",
            "  optionsX = optionsX.append(opt, ignore_index=True)\n"
          ]
        },
        {
          "output_type": "stream",
          "name": "stdout",
          "text": [
            "2023-08-18\n",
            "2023-09-15\n"
          ]
        },
        {
          "output_type": "stream",
          "name": "stderr",
          "text": [
            "<ipython-input-4-75812940887c>:18: FutureWarning: The frame.append method is deprecated and will be removed from pandas in a future version. Use pandas.concat instead.\n",
            "  opt = pd.DataFrame().append(opt.calls).append(opt.puts)\n",
            "<ipython-input-4-75812940887c>:21: FutureWarning: The frame.append method is deprecated and will be removed from pandas in a future version. Use pandas.concat instead.\n",
            "  optionsX = optionsX.append(opt, ignore_index=True)\n",
            "<ipython-input-4-75812940887c>:18: FutureWarning: The frame.append method is deprecated and will be removed from pandas in a future version. Use pandas.concat instead.\n",
            "  opt = pd.DataFrame().append(opt.calls).append(opt.puts)\n",
            "<ipython-input-4-75812940887c>:21: FutureWarning: The frame.append method is deprecated and will be removed from pandas in a future version. Use pandas.concat instead.\n",
            "  optionsX = optionsX.append(opt, ignore_index=True)\n"
          ]
        },
        {
          "output_type": "stream",
          "name": "stdout",
          "text": [
            "2023-10-20\n",
            "2023-11-17\n"
          ]
        },
        {
          "output_type": "stream",
          "name": "stderr",
          "text": [
            "<ipython-input-4-75812940887c>:18: FutureWarning: The frame.append method is deprecated and will be removed from pandas in a future version. Use pandas.concat instead.\n",
            "  opt = pd.DataFrame().append(opt.calls).append(opt.puts)\n",
            "<ipython-input-4-75812940887c>:21: FutureWarning: The frame.append method is deprecated and will be removed from pandas in a future version. Use pandas.concat instead.\n",
            "  optionsX = optionsX.append(opt, ignore_index=True)\n",
            "<ipython-input-4-75812940887c>:18: FutureWarning: The frame.append method is deprecated and will be removed from pandas in a future version. Use pandas.concat instead.\n",
            "  opt = pd.DataFrame().append(opt.calls).append(opt.puts)\n",
            "<ipython-input-4-75812940887c>:21: FutureWarning: The frame.append method is deprecated and will be removed from pandas in a future version. Use pandas.concat instead.\n",
            "  optionsX = optionsX.append(opt, ignore_index=True)\n"
          ]
        },
        {
          "output_type": "stream",
          "name": "stdout",
          "text": [
            "2023-12-15\n",
            "2024-01-19\n"
          ]
        },
        {
          "output_type": "stream",
          "name": "stderr",
          "text": [
            "<ipython-input-4-75812940887c>:18: FutureWarning: The frame.append method is deprecated and will be removed from pandas in a future version. Use pandas.concat instead.\n",
            "  opt = pd.DataFrame().append(opt.calls).append(opt.puts)\n",
            "<ipython-input-4-75812940887c>:21: FutureWarning: The frame.append method is deprecated and will be removed from pandas in a future version. Use pandas.concat instead.\n",
            "  optionsX = optionsX.append(opt, ignore_index=True)\n",
            "<ipython-input-4-75812940887c>:18: FutureWarning: The frame.append method is deprecated and will be removed from pandas in a future version. Use pandas.concat instead.\n",
            "  opt = pd.DataFrame().append(opt.calls).append(opt.puts)\n",
            "<ipython-input-4-75812940887c>:21: FutureWarning: The frame.append method is deprecated and will be removed from pandas in a future version. Use pandas.concat instead.\n",
            "  optionsX = optionsX.append(opt, ignore_index=True)\n"
          ]
        },
        {
          "output_type": "stream",
          "name": "stdout",
          "text": [
            "2024-03-15\n",
            "2024-06-21\n"
          ]
        },
        {
          "output_type": "stream",
          "name": "stderr",
          "text": [
            "<ipython-input-4-75812940887c>:18: FutureWarning: The frame.append method is deprecated and will be removed from pandas in a future version. Use pandas.concat instead.\n",
            "  opt = pd.DataFrame().append(opt.calls).append(opt.puts)\n",
            "<ipython-input-4-75812940887c>:21: FutureWarning: The frame.append method is deprecated and will be removed from pandas in a future version. Use pandas.concat instead.\n",
            "  optionsX = optionsX.append(opt, ignore_index=True)\n"
          ]
        },
        {
          "output_type": "stream",
          "name": "stdout",
          "text": [
            "2024-12-20\n"
          ]
        },
        {
          "output_type": "stream",
          "name": "stderr",
          "text": [
            "<ipython-input-4-75812940887c>:18: FutureWarning: The frame.append method is deprecated and will be removed from pandas in a future version. Use pandas.concat instead.\n",
            "  opt = pd.DataFrame().append(opt.calls).append(opt.puts)\n",
            "<ipython-input-4-75812940887c>:21: FutureWarning: The frame.append method is deprecated and will be removed from pandas in a future version. Use pandas.concat instead.\n",
            "  optionsX = optionsX.append(opt, ignore_index=True)\n"
          ]
        },
        {
          "output_type": "stream",
          "name": "stdout",
          "text": [
            "2025-01-17\n"
          ]
        },
        {
          "output_type": "stream",
          "name": "stderr",
          "text": [
            "<ipython-input-4-75812940887c>:18: FutureWarning: The frame.append method is deprecated and will be removed from pandas in a future version. Use pandas.concat instead.\n",
            "  opt = pd.DataFrame().append(opt.calls).append(opt.puts)\n",
            "<ipython-input-4-75812940887c>:21: FutureWarning: The frame.append method is deprecated and will be removed from pandas in a future version. Use pandas.concat instead.\n",
            "  optionsX = optionsX.append(opt, ignore_index=True)\n",
            "<ipython-input-4-75812940887c>:18: FutureWarning: The frame.append method is deprecated and will be removed from pandas in a future version. Use pandas.concat instead.\n",
            "  opt = pd.DataFrame().append(opt.calls).append(opt.puts)\n",
            "<ipython-input-4-75812940887c>:21: FutureWarning: The frame.append method is deprecated and will be removed from pandas in a future version. Use pandas.concat instead.\n",
            "  optionsX = optionsX.append(opt, ignore_index=True)\n"
          ]
        },
        {
          "output_type": "stream",
          "name": "stdout",
          "text": [
            "2025-06-20\n",
            "2025-12-19\n"
          ]
        },
        {
          "output_type": "stream",
          "name": "stderr",
          "text": [
            "<ipython-input-4-75812940887c>:18: FutureWarning: The frame.append method is deprecated and will be removed from pandas in a future version. Use pandas.concat instead.\n",
            "  opt = pd.DataFrame().append(opt.calls).append(opt.puts)\n",
            "<ipython-input-4-75812940887c>:21: FutureWarning: The frame.append method is deprecated and will be removed from pandas in a future version. Use pandas.concat instead.\n",
            "  optionsX = optionsX.append(opt, ignore_index=True)\n"
          ]
        },
        {
          "output_type": "stream",
          "name": "stdout",
          "text": [
            "AMZN\n",
            "2023-05-26\n",
            "2023-06-02\n"
          ]
        },
        {
          "output_type": "stream",
          "name": "stderr",
          "text": [
            "<ipython-input-4-75812940887c>:18: FutureWarning: The frame.append method is deprecated and will be removed from pandas in a future version. Use pandas.concat instead.\n",
            "  opt = pd.DataFrame().append(opt.calls).append(opt.puts)\n",
            "<ipython-input-4-75812940887c>:21: FutureWarning: The frame.append method is deprecated and will be removed from pandas in a future version. Use pandas.concat instead.\n",
            "  optionsX = optionsX.append(opt, ignore_index=True)\n",
            "<ipython-input-4-75812940887c>:18: FutureWarning: The frame.append method is deprecated and will be removed from pandas in a future version. Use pandas.concat instead.\n",
            "  opt = pd.DataFrame().append(opt.calls).append(opt.puts)\n",
            "<ipython-input-4-75812940887c>:21: FutureWarning: The frame.append method is deprecated and will be removed from pandas in a future version. Use pandas.concat instead.\n",
            "  optionsX = optionsX.append(opt, ignore_index=True)\n"
          ]
        },
        {
          "output_type": "stream",
          "name": "stdout",
          "text": [
            "2023-06-09\n"
          ]
        },
        {
          "output_type": "stream",
          "name": "stderr",
          "text": [
            "<ipython-input-4-75812940887c>:18: FutureWarning: The frame.append method is deprecated and will be removed from pandas in a future version. Use pandas.concat instead.\n",
            "  opt = pd.DataFrame().append(opt.calls).append(opt.puts)\n",
            "<ipython-input-4-75812940887c>:21: FutureWarning: The frame.append method is deprecated and will be removed from pandas in a future version. Use pandas.concat instead.\n",
            "  optionsX = optionsX.append(opt, ignore_index=True)\n"
          ]
        },
        {
          "output_type": "stream",
          "name": "stdout",
          "text": [
            "2023-06-16\n"
          ]
        },
        {
          "output_type": "stream",
          "name": "stderr",
          "text": [
            "<ipython-input-4-75812940887c>:18: FutureWarning: The frame.append method is deprecated and will be removed from pandas in a future version. Use pandas.concat instead.\n",
            "  opt = pd.DataFrame().append(opt.calls).append(opt.puts)\n",
            "<ipython-input-4-75812940887c>:21: FutureWarning: The frame.append method is deprecated and will be removed from pandas in a future version. Use pandas.concat instead.\n",
            "  optionsX = optionsX.append(opt, ignore_index=True)\n",
            "<ipython-input-4-75812940887c>:18: FutureWarning: The frame.append method is deprecated and will be removed from pandas in a future version. Use pandas.concat instead.\n",
            "  opt = pd.DataFrame().append(opt.calls).append(opt.puts)\n",
            "<ipython-input-4-75812940887c>:21: FutureWarning: The frame.append method is deprecated and will be removed from pandas in a future version. Use pandas.concat instead.\n",
            "  optionsX = optionsX.append(opt, ignore_index=True)\n"
          ]
        },
        {
          "output_type": "stream",
          "name": "stdout",
          "text": [
            "2023-06-23\n",
            "2023-06-30\n"
          ]
        },
        {
          "output_type": "stream",
          "name": "stderr",
          "text": [
            "<ipython-input-4-75812940887c>:18: FutureWarning: The frame.append method is deprecated and will be removed from pandas in a future version. Use pandas.concat instead.\n",
            "  opt = pd.DataFrame().append(opt.calls).append(opt.puts)\n",
            "<ipython-input-4-75812940887c>:21: FutureWarning: The frame.append method is deprecated and will be removed from pandas in a future version. Use pandas.concat instead.\n",
            "  optionsX = optionsX.append(opt, ignore_index=True)\n",
            "<ipython-input-4-75812940887c>:18: FutureWarning: The frame.append method is deprecated and will be removed from pandas in a future version. Use pandas.concat instead.\n",
            "  opt = pd.DataFrame().append(opt.calls).append(opt.puts)\n",
            "<ipython-input-4-75812940887c>:21: FutureWarning: The frame.append method is deprecated and will be removed from pandas in a future version. Use pandas.concat instead.\n",
            "  optionsX = optionsX.append(opt, ignore_index=True)\n"
          ]
        },
        {
          "output_type": "stream",
          "name": "stdout",
          "text": [
            "2023-07-21\n",
            "2023-08-18\n"
          ]
        },
        {
          "output_type": "stream",
          "name": "stderr",
          "text": [
            "<ipython-input-4-75812940887c>:18: FutureWarning: The frame.append method is deprecated and will be removed from pandas in a future version. Use pandas.concat instead.\n",
            "  opt = pd.DataFrame().append(opt.calls).append(opt.puts)\n",
            "<ipython-input-4-75812940887c>:21: FutureWarning: The frame.append method is deprecated and will be removed from pandas in a future version. Use pandas.concat instead.\n",
            "  optionsX = optionsX.append(opt, ignore_index=True)\n"
          ]
        },
        {
          "output_type": "stream",
          "name": "stdout",
          "text": [
            "2023-09-15\n"
          ]
        },
        {
          "output_type": "stream",
          "name": "stderr",
          "text": [
            "<ipython-input-4-75812940887c>:18: FutureWarning: The frame.append method is deprecated and will be removed from pandas in a future version. Use pandas.concat instead.\n",
            "  opt = pd.DataFrame().append(opt.calls).append(opt.puts)\n",
            "<ipython-input-4-75812940887c>:21: FutureWarning: The frame.append method is deprecated and will be removed from pandas in a future version. Use pandas.concat instead.\n",
            "  optionsX = optionsX.append(opt, ignore_index=True)\n",
            "<ipython-input-4-75812940887c>:18: FutureWarning: The frame.append method is deprecated and will be removed from pandas in a future version. Use pandas.concat instead.\n",
            "  opt = pd.DataFrame().append(opt.calls).append(opt.puts)\n",
            "<ipython-input-4-75812940887c>:21: FutureWarning: The frame.append method is deprecated and will be removed from pandas in a future version. Use pandas.concat instead.\n",
            "  optionsX = optionsX.append(opt, ignore_index=True)\n"
          ]
        },
        {
          "output_type": "stream",
          "name": "stdout",
          "text": [
            "2023-10-20\n",
            "2024-01-19\n"
          ]
        },
        {
          "output_type": "stream",
          "name": "stderr",
          "text": [
            "<ipython-input-4-75812940887c>:18: FutureWarning: The frame.append method is deprecated and will be removed from pandas in a future version. Use pandas.concat instead.\n",
            "  opt = pd.DataFrame().append(opt.calls).append(opt.puts)\n",
            "<ipython-input-4-75812940887c>:21: FutureWarning: The frame.append method is deprecated and will be removed from pandas in a future version. Use pandas.concat instead.\n",
            "  optionsX = optionsX.append(opt, ignore_index=True)\n",
            "<ipython-input-4-75812940887c>:18: FutureWarning: The frame.append method is deprecated and will be removed from pandas in a future version. Use pandas.concat instead.\n",
            "  opt = pd.DataFrame().append(opt.calls).append(opt.puts)\n",
            "<ipython-input-4-75812940887c>:21: FutureWarning: The frame.append method is deprecated and will be removed from pandas in a future version. Use pandas.concat instead.\n",
            "  optionsX = optionsX.append(opt, ignore_index=True)\n"
          ]
        },
        {
          "output_type": "stream",
          "name": "stdout",
          "text": [
            "2024-03-15\n",
            "2024-06-21\n"
          ]
        },
        {
          "output_type": "stream",
          "name": "stderr",
          "text": [
            "<ipython-input-4-75812940887c>:18: FutureWarning: The frame.append method is deprecated and will be removed from pandas in a future version. Use pandas.concat instead.\n",
            "  opt = pd.DataFrame().append(opt.calls).append(opt.puts)\n",
            "<ipython-input-4-75812940887c>:21: FutureWarning: The frame.append method is deprecated and will be removed from pandas in a future version. Use pandas.concat instead.\n",
            "  optionsX = optionsX.append(opt, ignore_index=True)\n"
          ]
        },
        {
          "output_type": "stream",
          "name": "stdout",
          "text": [
            "2024-09-20\n"
          ]
        },
        {
          "output_type": "stream",
          "name": "stderr",
          "text": [
            "<ipython-input-4-75812940887c>:18: FutureWarning: The frame.append method is deprecated and will be removed from pandas in a future version. Use pandas.concat instead.\n",
            "  opt = pd.DataFrame().append(opt.calls).append(opt.puts)\n",
            "<ipython-input-4-75812940887c>:21: FutureWarning: The frame.append method is deprecated and will be removed from pandas in a future version. Use pandas.concat instead.\n",
            "  optionsX = optionsX.append(opt, ignore_index=True)\n",
            "<ipython-input-4-75812940887c>:18: FutureWarning: The frame.append method is deprecated and will be removed from pandas in a future version. Use pandas.concat instead.\n",
            "  opt = pd.DataFrame().append(opt.calls).append(opt.puts)\n",
            "<ipython-input-4-75812940887c>:21: FutureWarning: The frame.append method is deprecated and will be removed from pandas in a future version. Use pandas.concat instead.\n",
            "  optionsX = optionsX.append(opt, ignore_index=True)\n"
          ]
        },
        {
          "output_type": "stream",
          "name": "stdout",
          "text": [
            "2025-01-17\n",
            "2025-06-20\n"
          ]
        },
        {
          "output_type": "stream",
          "name": "stderr",
          "text": [
            "<ipython-input-4-75812940887c>:18: FutureWarning: The frame.append method is deprecated and will be removed from pandas in a future version. Use pandas.concat instead.\n",
            "  opt = pd.DataFrame().append(opt.calls).append(opt.puts)\n",
            "<ipython-input-4-75812940887c>:21: FutureWarning: The frame.append method is deprecated and will be removed from pandas in a future version. Use pandas.concat instead.\n",
            "  optionsX = optionsX.append(opt, ignore_index=True)\n",
            "<ipython-input-4-75812940887c>:18: FutureWarning: The frame.append method is deprecated and will be removed from pandas in a future version. Use pandas.concat instead.\n",
            "  opt = pd.DataFrame().append(opt.calls).append(opt.puts)\n",
            "<ipython-input-4-75812940887c>:21: FutureWarning: The frame.append method is deprecated and will be removed from pandas in a future version. Use pandas.concat instead.\n",
            "  optionsX = optionsX.append(opt, ignore_index=True)\n"
          ]
        },
        {
          "output_type": "stream",
          "name": "stdout",
          "text": [
            "2025-12-19\n",
            "GOOGL\n",
            "2023-05-26\n",
            "2023-06-02\n"
          ]
        },
        {
          "output_type": "stream",
          "name": "stderr",
          "text": [
            "<ipython-input-4-75812940887c>:18: FutureWarning: The frame.append method is deprecated and will be removed from pandas in a future version. Use pandas.concat instead.\n",
            "  opt = pd.DataFrame().append(opt.calls).append(opt.puts)\n",
            "<ipython-input-4-75812940887c>:21: FutureWarning: The frame.append method is deprecated and will be removed from pandas in a future version. Use pandas.concat instead.\n",
            "  optionsX = optionsX.append(opt, ignore_index=True)\n",
            "<ipython-input-4-75812940887c>:18: FutureWarning: The frame.append method is deprecated and will be removed from pandas in a future version. Use pandas.concat instead.\n",
            "  opt = pd.DataFrame().append(opt.calls).append(opt.puts)\n",
            "<ipython-input-4-75812940887c>:21: FutureWarning: The frame.append method is deprecated and will be removed from pandas in a future version. Use pandas.concat instead.\n",
            "  optionsX = optionsX.append(opt, ignore_index=True)\n"
          ]
        },
        {
          "output_type": "stream",
          "name": "stdout",
          "text": [
            "2023-06-09\n",
            "2023-06-16\n"
          ]
        },
        {
          "output_type": "stream",
          "name": "stderr",
          "text": [
            "<ipython-input-4-75812940887c>:18: FutureWarning: The frame.append method is deprecated and will be removed from pandas in a future version. Use pandas.concat instead.\n",
            "  opt = pd.DataFrame().append(opt.calls).append(opt.puts)\n",
            "<ipython-input-4-75812940887c>:21: FutureWarning: The frame.append method is deprecated and will be removed from pandas in a future version. Use pandas.concat instead.\n",
            "  optionsX = optionsX.append(opt, ignore_index=True)\n",
            "<ipython-input-4-75812940887c>:18: FutureWarning: The frame.append method is deprecated and will be removed from pandas in a future version. Use pandas.concat instead.\n",
            "  opt = pd.DataFrame().append(opt.calls).append(opt.puts)\n",
            "<ipython-input-4-75812940887c>:21: FutureWarning: The frame.append method is deprecated and will be removed from pandas in a future version. Use pandas.concat instead.\n",
            "  optionsX = optionsX.append(opt, ignore_index=True)\n",
            "<ipython-input-4-75812940887c>:18: FutureWarning: The frame.append method is deprecated and will be removed from pandas in a future version. Use pandas.concat instead.\n",
            "  opt = pd.DataFrame().append(opt.calls).append(opt.puts)\n",
            "<ipython-input-4-75812940887c>:21: FutureWarning: The frame.append method is deprecated and will be removed from pandas in a future version. Use pandas.concat instead.\n",
            "  optionsX = optionsX.append(opt, ignore_index=True)\n"
          ]
        },
        {
          "output_type": "stream",
          "name": "stdout",
          "text": [
            "2023-06-23\n",
            "2023-06-30\n"
          ]
        },
        {
          "output_type": "stream",
          "name": "stderr",
          "text": [
            "<ipython-input-4-75812940887c>:18: FutureWarning: The frame.append method is deprecated and will be removed from pandas in a future version. Use pandas.concat instead.\n",
            "  opt = pd.DataFrame().append(opt.calls).append(opt.puts)\n",
            "<ipython-input-4-75812940887c>:21: FutureWarning: The frame.append method is deprecated and will be removed from pandas in a future version. Use pandas.concat instead.\n",
            "  optionsX = optionsX.append(opt, ignore_index=True)\n",
            "<ipython-input-4-75812940887c>:18: FutureWarning: The frame.append method is deprecated and will be removed from pandas in a future version. Use pandas.concat instead.\n",
            "  opt = pd.DataFrame().append(opt.calls).append(opt.puts)\n",
            "<ipython-input-4-75812940887c>:21: FutureWarning: The frame.append method is deprecated and will be removed from pandas in a future version. Use pandas.concat instead.\n",
            "  optionsX = optionsX.append(opt, ignore_index=True)\n"
          ]
        },
        {
          "output_type": "stream",
          "name": "stdout",
          "text": [
            "2023-07-21\n",
            "2023-08-18\n"
          ]
        },
        {
          "output_type": "stream",
          "name": "stderr",
          "text": [
            "<ipython-input-4-75812940887c>:18: FutureWarning: The frame.append method is deprecated and will be removed from pandas in a future version. Use pandas.concat instead.\n",
            "  opt = pd.DataFrame().append(opt.calls).append(opt.puts)\n",
            "<ipython-input-4-75812940887c>:21: FutureWarning: The frame.append method is deprecated and will be removed from pandas in a future version. Use pandas.concat instead.\n",
            "  optionsX = optionsX.append(opt, ignore_index=True)\n",
            "<ipython-input-4-75812940887c>:18: FutureWarning: The frame.append method is deprecated and will be removed from pandas in a future version. Use pandas.concat instead.\n",
            "  opt = pd.DataFrame().append(opt.calls).append(opt.puts)\n",
            "<ipython-input-4-75812940887c>:21: FutureWarning: The frame.append method is deprecated and will be removed from pandas in a future version. Use pandas.concat instead.\n",
            "  optionsX = optionsX.append(opt, ignore_index=True)\n"
          ]
        },
        {
          "output_type": "stream",
          "name": "stdout",
          "text": [
            "2023-09-15\n",
            "2023-10-20\n"
          ]
        },
        {
          "output_type": "stream",
          "name": "stderr",
          "text": [
            "<ipython-input-4-75812940887c>:18: FutureWarning: The frame.append method is deprecated and will be removed from pandas in a future version. Use pandas.concat instead.\n",
            "  opt = pd.DataFrame().append(opt.calls).append(opt.puts)\n",
            "<ipython-input-4-75812940887c>:21: FutureWarning: The frame.append method is deprecated and will be removed from pandas in a future version. Use pandas.concat instead.\n",
            "  optionsX = optionsX.append(opt, ignore_index=True)\n",
            "<ipython-input-4-75812940887c>:18: FutureWarning: The frame.append method is deprecated and will be removed from pandas in a future version. Use pandas.concat instead.\n",
            "  opt = pd.DataFrame().append(opt.calls).append(opt.puts)\n",
            "<ipython-input-4-75812940887c>:21: FutureWarning: The frame.append method is deprecated and will be removed from pandas in a future version. Use pandas.concat instead.\n",
            "  optionsX = optionsX.append(opt, ignore_index=True)\n"
          ]
        },
        {
          "output_type": "stream",
          "name": "stdout",
          "text": [
            "2023-11-17\n",
            "2023-12-15\n"
          ]
        },
        {
          "output_type": "stream",
          "name": "stderr",
          "text": [
            "<ipython-input-4-75812940887c>:18: FutureWarning: The frame.append method is deprecated and will be removed from pandas in a future version. Use pandas.concat instead.\n",
            "  opt = pd.DataFrame().append(opt.calls).append(opt.puts)\n",
            "<ipython-input-4-75812940887c>:21: FutureWarning: The frame.append method is deprecated and will be removed from pandas in a future version. Use pandas.concat instead.\n",
            "  optionsX = optionsX.append(opt, ignore_index=True)\n"
          ]
        },
        {
          "output_type": "stream",
          "name": "stdout",
          "text": [
            "2024-01-19\n"
          ]
        },
        {
          "output_type": "stream",
          "name": "stderr",
          "text": [
            "<ipython-input-4-75812940887c>:18: FutureWarning: The frame.append method is deprecated and will be removed from pandas in a future version. Use pandas.concat instead.\n",
            "  opt = pd.DataFrame().append(opt.calls).append(opt.puts)\n",
            "<ipython-input-4-75812940887c>:21: FutureWarning: The frame.append method is deprecated and will be removed from pandas in a future version. Use pandas.concat instead.\n",
            "  optionsX = optionsX.append(opt, ignore_index=True)\n",
            "<ipython-input-4-75812940887c>:18: FutureWarning: The frame.append method is deprecated and will be removed from pandas in a future version. Use pandas.concat instead.\n",
            "  opt = pd.DataFrame().append(opt.calls).append(opt.puts)\n",
            "<ipython-input-4-75812940887c>:21: FutureWarning: The frame.append method is deprecated and will be removed from pandas in a future version. Use pandas.concat instead.\n",
            "  optionsX = optionsX.append(opt, ignore_index=True)\n"
          ]
        },
        {
          "output_type": "stream",
          "name": "stdout",
          "text": [
            "2024-03-15\n",
            "2024-06-21\n"
          ]
        },
        {
          "output_type": "stream",
          "name": "stderr",
          "text": [
            "<ipython-input-4-75812940887c>:18: FutureWarning: The frame.append method is deprecated and will be removed from pandas in a future version. Use pandas.concat instead.\n",
            "  opt = pd.DataFrame().append(opt.calls).append(opt.puts)\n",
            "<ipython-input-4-75812940887c>:21: FutureWarning: The frame.append method is deprecated and will be removed from pandas in a future version. Use pandas.concat instead.\n",
            "  optionsX = optionsX.append(opt, ignore_index=True)\n",
            "<ipython-input-4-75812940887c>:18: FutureWarning: The frame.append method is deprecated and will be removed from pandas in a future version. Use pandas.concat instead.\n",
            "  opt = pd.DataFrame().append(opt.calls).append(opt.puts)\n",
            "<ipython-input-4-75812940887c>:21: FutureWarning: The frame.append method is deprecated and will be removed from pandas in a future version. Use pandas.concat instead.\n",
            "  optionsX = optionsX.append(opt, ignore_index=True)\n"
          ]
        },
        {
          "output_type": "stream",
          "name": "stdout",
          "text": [
            "2024-09-20\n",
            "2024-12-20\n"
          ]
        },
        {
          "output_type": "stream",
          "name": "stderr",
          "text": [
            "<ipython-input-4-75812940887c>:18: FutureWarning: The frame.append method is deprecated and will be removed from pandas in a future version. Use pandas.concat instead.\n",
            "  opt = pd.DataFrame().append(opt.calls).append(opt.puts)\n",
            "<ipython-input-4-75812940887c>:21: FutureWarning: The frame.append method is deprecated and will be removed from pandas in a future version. Use pandas.concat instead.\n",
            "  optionsX = optionsX.append(opt, ignore_index=True)\n",
            "<ipython-input-4-75812940887c>:18: FutureWarning: The frame.append method is deprecated and will be removed from pandas in a future version. Use pandas.concat instead.\n",
            "  opt = pd.DataFrame().append(opt.calls).append(opt.puts)\n",
            "<ipython-input-4-75812940887c>:21: FutureWarning: The frame.append method is deprecated and will be removed from pandas in a future version. Use pandas.concat instead.\n",
            "  optionsX = optionsX.append(opt, ignore_index=True)\n"
          ]
        },
        {
          "output_type": "stream",
          "name": "stdout",
          "text": [
            "2025-01-17\n",
            "2025-06-20\n"
          ]
        },
        {
          "output_type": "stream",
          "name": "stderr",
          "text": [
            "<ipython-input-4-75812940887c>:18: FutureWarning: The frame.append method is deprecated and will be removed from pandas in a future version. Use pandas.concat instead.\n",
            "  opt = pd.DataFrame().append(opt.calls).append(opt.puts)\n",
            "<ipython-input-4-75812940887c>:21: FutureWarning: The frame.append method is deprecated and will be removed from pandas in a future version. Use pandas.concat instead.\n",
            "  optionsX = optionsX.append(opt, ignore_index=True)\n"
          ]
        },
        {
          "output_type": "stream",
          "name": "stdout",
          "text": [
            "2025-12-19\n"
          ]
        },
        {
          "output_type": "stream",
          "name": "stderr",
          "text": [
            "<ipython-input-4-75812940887c>:18: FutureWarning: The frame.append method is deprecated and will be removed from pandas in a future version. Use pandas.concat instead.\n",
            "  opt = pd.DataFrame().append(opt.calls).append(opt.puts)\n",
            "<ipython-input-4-75812940887c>:21: FutureWarning: The frame.append method is deprecated and will be removed from pandas in a future version. Use pandas.concat instead.\n",
            "  optionsX = optionsX.append(opt, ignore_index=True)\n"
          ]
        },
        {
          "output_type": "stream",
          "name": "stdout",
          "text": [
            "FB\n",
            "JPM\n",
            "2023-05-26\n",
            "2023-06-02\n"
          ]
        },
        {
          "output_type": "stream",
          "name": "stderr",
          "text": [
            "<ipython-input-4-75812940887c>:18: FutureWarning: The frame.append method is deprecated and will be removed from pandas in a future version. Use pandas.concat instead.\n",
            "  opt = pd.DataFrame().append(opt.calls).append(opt.puts)\n",
            "<ipython-input-4-75812940887c>:21: FutureWarning: The frame.append method is deprecated and will be removed from pandas in a future version. Use pandas.concat instead.\n",
            "  optionsX = optionsX.append(opt, ignore_index=True)\n",
            "<ipython-input-4-75812940887c>:18: FutureWarning: The frame.append method is deprecated and will be removed from pandas in a future version. Use pandas.concat instead.\n",
            "  opt = pd.DataFrame().append(opt.calls).append(opt.puts)\n",
            "<ipython-input-4-75812940887c>:21: FutureWarning: The frame.append method is deprecated and will be removed from pandas in a future version. Use pandas.concat instead.\n",
            "  optionsX = optionsX.append(opt, ignore_index=True)\n",
            "<ipython-input-4-75812940887c>:18: FutureWarning: The frame.append method is deprecated and will be removed from pandas in a future version. Use pandas.concat instead.\n",
            "  opt = pd.DataFrame().append(opt.calls).append(opt.puts)\n",
            "<ipython-input-4-75812940887c>:21: FutureWarning: The frame.append method is deprecated and will be removed from pandas in a future version. Use pandas.concat instead.\n",
            "  optionsX = optionsX.append(opt, ignore_index=True)\n"
          ]
        },
        {
          "output_type": "stream",
          "name": "stdout",
          "text": [
            "2023-06-09\n",
            "2023-06-16\n"
          ]
        },
        {
          "output_type": "stream",
          "name": "stderr",
          "text": [
            "<ipython-input-4-75812940887c>:18: FutureWarning: The frame.append method is deprecated and will be removed from pandas in a future version. Use pandas.concat instead.\n",
            "  opt = pd.DataFrame().append(opt.calls).append(opt.puts)\n",
            "<ipython-input-4-75812940887c>:21: FutureWarning: The frame.append method is deprecated and will be removed from pandas in a future version. Use pandas.concat instead.\n",
            "  optionsX = optionsX.append(opt, ignore_index=True)\n",
            "<ipython-input-4-75812940887c>:18: FutureWarning: The frame.append method is deprecated and will be removed from pandas in a future version. Use pandas.concat instead.\n",
            "  opt = pd.DataFrame().append(opt.calls).append(opt.puts)\n",
            "<ipython-input-4-75812940887c>:21: FutureWarning: The frame.append method is deprecated and will be removed from pandas in a future version. Use pandas.concat instead.\n",
            "  optionsX = optionsX.append(opt, ignore_index=True)\n"
          ]
        },
        {
          "output_type": "stream",
          "name": "stdout",
          "text": [
            "2023-06-23\n",
            "2023-06-30\n"
          ]
        },
        {
          "output_type": "stream",
          "name": "stderr",
          "text": [
            "<ipython-input-4-75812940887c>:18: FutureWarning: The frame.append method is deprecated and will be removed from pandas in a future version. Use pandas.concat instead.\n",
            "  opt = pd.DataFrame().append(opt.calls).append(opt.puts)\n",
            "<ipython-input-4-75812940887c>:21: FutureWarning: The frame.append method is deprecated and will be removed from pandas in a future version. Use pandas.concat instead.\n",
            "  optionsX = optionsX.append(opt, ignore_index=True)\n",
            "<ipython-input-4-75812940887c>:18: FutureWarning: The frame.append method is deprecated and will be removed from pandas in a future version. Use pandas.concat instead.\n",
            "  opt = pd.DataFrame().append(opt.calls).append(opt.puts)\n",
            "<ipython-input-4-75812940887c>:21: FutureWarning: The frame.append method is deprecated and will be removed from pandas in a future version. Use pandas.concat instead.\n",
            "  optionsX = optionsX.append(opt, ignore_index=True)\n"
          ]
        },
        {
          "output_type": "stream",
          "name": "stdout",
          "text": [
            "2023-07-21\n",
            "2023-09-15\n"
          ]
        },
        {
          "output_type": "stream",
          "name": "stderr",
          "text": [
            "<ipython-input-4-75812940887c>:18: FutureWarning: The frame.append method is deprecated and will be removed from pandas in a future version. Use pandas.concat instead.\n",
            "  opt = pd.DataFrame().append(opt.calls).append(opt.puts)\n",
            "<ipython-input-4-75812940887c>:21: FutureWarning: The frame.append method is deprecated and will be removed from pandas in a future version. Use pandas.concat instead.\n",
            "  optionsX = optionsX.append(opt, ignore_index=True)\n",
            "<ipython-input-4-75812940887c>:18: FutureWarning: The frame.append method is deprecated and will be removed from pandas in a future version. Use pandas.concat instead.\n",
            "  opt = pd.DataFrame().append(opt.calls).append(opt.puts)\n",
            "<ipython-input-4-75812940887c>:21: FutureWarning: The frame.append method is deprecated and will be removed from pandas in a future version. Use pandas.concat instead.\n",
            "  optionsX = optionsX.append(opt, ignore_index=True)\n"
          ]
        },
        {
          "output_type": "stream",
          "name": "stdout",
          "text": [
            "2023-10-20\n",
            "2023-11-17\n"
          ]
        },
        {
          "output_type": "stream",
          "name": "stderr",
          "text": [
            "<ipython-input-4-75812940887c>:18: FutureWarning: The frame.append method is deprecated and will be removed from pandas in a future version. Use pandas.concat instead.\n",
            "  opt = pd.DataFrame().append(opt.calls).append(opt.puts)\n",
            "<ipython-input-4-75812940887c>:21: FutureWarning: The frame.append method is deprecated and will be removed from pandas in a future version. Use pandas.concat instead.\n",
            "  optionsX = optionsX.append(opt, ignore_index=True)\n",
            "<ipython-input-4-75812940887c>:18: FutureWarning: The frame.append method is deprecated and will be removed from pandas in a future version. Use pandas.concat instead.\n",
            "  opt = pd.DataFrame().append(opt.calls).append(opt.puts)\n",
            "<ipython-input-4-75812940887c>:21: FutureWarning: The frame.append method is deprecated and will be removed from pandas in a future version. Use pandas.concat instead.\n",
            "  optionsX = optionsX.append(opt, ignore_index=True)\n"
          ]
        },
        {
          "output_type": "stream",
          "name": "stdout",
          "text": [
            "2023-12-15\n",
            "2024-01-19\n"
          ]
        },
        {
          "output_type": "stream",
          "name": "stderr",
          "text": [
            "<ipython-input-4-75812940887c>:18: FutureWarning: The frame.append method is deprecated and will be removed from pandas in a future version. Use pandas.concat instead.\n",
            "  opt = pd.DataFrame().append(opt.calls).append(opt.puts)\n",
            "<ipython-input-4-75812940887c>:21: FutureWarning: The frame.append method is deprecated and will be removed from pandas in a future version. Use pandas.concat instead.\n",
            "  optionsX = optionsX.append(opt, ignore_index=True)\n",
            "<ipython-input-4-75812940887c>:18: FutureWarning: The frame.append method is deprecated and will be removed from pandas in a future version. Use pandas.concat instead.\n",
            "  opt = pd.DataFrame().append(opt.calls).append(opt.puts)\n",
            "<ipython-input-4-75812940887c>:21: FutureWarning: The frame.append method is deprecated and will be removed from pandas in a future version. Use pandas.concat instead.\n",
            "  optionsX = optionsX.append(opt, ignore_index=True)\n"
          ]
        },
        {
          "output_type": "stream",
          "name": "stdout",
          "text": [
            "2024-06-21\n",
            "2024-09-20\n"
          ]
        },
        {
          "output_type": "stream",
          "name": "stderr",
          "text": [
            "<ipython-input-4-75812940887c>:18: FutureWarning: The frame.append method is deprecated and will be removed from pandas in a future version. Use pandas.concat instead.\n",
            "  opt = pd.DataFrame().append(opt.calls).append(opt.puts)\n",
            "<ipython-input-4-75812940887c>:21: FutureWarning: The frame.append method is deprecated and will be removed from pandas in a future version. Use pandas.concat instead.\n",
            "  optionsX = optionsX.append(opt, ignore_index=True)\n",
            "<ipython-input-4-75812940887c>:18: FutureWarning: The frame.append method is deprecated and will be removed from pandas in a future version. Use pandas.concat instead.\n",
            "  opt = pd.DataFrame().append(opt.calls).append(opt.puts)\n",
            "<ipython-input-4-75812940887c>:21: FutureWarning: The frame.append method is deprecated and will be removed from pandas in a future version. Use pandas.concat instead.\n",
            "  optionsX = optionsX.append(opt, ignore_index=True)\n"
          ]
        },
        {
          "output_type": "stream",
          "name": "stdout",
          "text": [
            "2025-01-17\n",
            "2025-12-19\n"
          ]
        },
        {
          "output_type": "stream",
          "name": "stderr",
          "text": [
            "<ipython-input-4-75812940887c>:18: FutureWarning: The frame.append method is deprecated and will be removed from pandas in a future version. Use pandas.concat instead.\n",
            "  opt = pd.DataFrame().append(opt.calls).append(opt.puts)\n",
            "<ipython-input-4-75812940887c>:21: FutureWarning: The frame.append method is deprecated and will be removed from pandas in a future version. Use pandas.concat instead.\n",
            "  optionsX = optionsX.append(opt, ignore_index=True)\n"
          ]
        },
        {
          "output_type": "stream",
          "name": "stdout",
          "text": [
            "WMT\n",
            "2023-05-26\n"
          ]
        },
        {
          "output_type": "stream",
          "name": "stderr",
          "text": [
            "<ipython-input-4-75812940887c>:18: FutureWarning: The frame.append method is deprecated and will be removed from pandas in a future version. Use pandas.concat instead.\n",
            "  opt = pd.DataFrame().append(opt.calls).append(opt.puts)\n",
            "<ipython-input-4-75812940887c>:21: FutureWarning: The frame.append method is deprecated and will be removed from pandas in a future version. Use pandas.concat instead.\n",
            "  optionsX = optionsX.append(opt, ignore_index=True)\n",
            "<ipython-input-4-75812940887c>:18: FutureWarning: The frame.append method is deprecated and will be removed from pandas in a future version. Use pandas.concat instead.\n",
            "  opt = pd.DataFrame().append(opt.calls).append(opt.puts)\n",
            "<ipython-input-4-75812940887c>:21: FutureWarning: The frame.append method is deprecated and will be removed from pandas in a future version. Use pandas.concat instead.\n",
            "  optionsX = optionsX.append(opt, ignore_index=True)\n"
          ]
        },
        {
          "output_type": "stream",
          "name": "stdout",
          "text": [
            "2023-06-02\n",
            "2023-06-09\n"
          ]
        },
        {
          "output_type": "stream",
          "name": "stderr",
          "text": [
            "<ipython-input-4-75812940887c>:18: FutureWarning: The frame.append method is deprecated and will be removed from pandas in a future version. Use pandas.concat instead.\n",
            "  opt = pd.DataFrame().append(opt.calls).append(opt.puts)\n",
            "<ipython-input-4-75812940887c>:21: FutureWarning: The frame.append method is deprecated and will be removed from pandas in a future version. Use pandas.concat instead.\n",
            "  optionsX = optionsX.append(opt, ignore_index=True)\n",
            "<ipython-input-4-75812940887c>:18: FutureWarning: The frame.append method is deprecated and will be removed from pandas in a future version. Use pandas.concat instead.\n",
            "  opt = pd.DataFrame().append(opt.calls).append(opt.puts)\n",
            "<ipython-input-4-75812940887c>:21: FutureWarning: The frame.append method is deprecated and will be removed from pandas in a future version. Use pandas.concat instead.\n",
            "  optionsX = optionsX.append(opt, ignore_index=True)\n"
          ]
        },
        {
          "output_type": "stream",
          "name": "stdout",
          "text": [
            "2023-06-16\n",
            "2023-06-23\n"
          ]
        },
        {
          "output_type": "stream",
          "name": "stderr",
          "text": [
            "<ipython-input-4-75812940887c>:18: FutureWarning: The frame.append method is deprecated and will be removed from pandas in a future version. Use pandas.concat instead.\n",
            "  opt = pd.DataFrame().append(opt.calls).append(opt.puts)\n",
            "<ipython-input-4-75812940887c>:21: FutureWarning: The frame.append method is deprecated and will be removed from pandas in a future version. Use pandas.concat instead.\n",
            "  optionsX = optionsX.append(opt, ignore_index=True)\n",
            "<ipython-input-4-75812940887c>:18: FutureWarning: The frame.append method is deprecated and will be removed from pandas in a future version. Use pandas.concat instead.\n",
            "  opt = pd.DataFrame().append(opt.calls).append(opt.puts)\n",
            "<ipython-input-4-75812940887c>:21: FutureWarning: The frame.append method is deprecated and will be removed from pandas in a future version. Use pandas.concat instead.\n",
            "  optionsX = optionsX.append(opt, ignore_index=True)\n"
          ]
        },
        {
          "output_type": "stream",
          "name": "stdout",
          "text": [
            "2023-06-30\n",
            "2023-07-21\n"
          ]
        },
        {
          "output_type": "stream",
          "name": "stderr",
          "text": [
            "<ipython-input-4-75812940887c>:18: FutureWarning: The frame.append method is deprecated and will be removed from pandas in a future version. Use pandas.concat instead.\n",
            "  opt = pd.DataFrame().append(opt.calls).append(opt.puts)\n",
            "<ipython-input-4-75812940887c>:21: FutureWarning: The frame.append method is deprecated and will be removed from pandas in a future version. Use pandas.concat instead.\n",
            "  optionsX = optionsX.append(opt, ignore_index=True)\n"
          ]
        },
        {
          "output_type": "stream",
          "name": "stdout",
          "text": [
            "2023-08-18\n"
          ]
        },
        {
          "output_type": "stream",
          "name": "stderr",
          "text": [
            "<ipython-input-4-75812940887c>:18: FutureWarning: The frame.append method is deprecated and will be removed from pandas in a future version. Use pandas.concat instead.\n",
            "  opt = pd.DataFrame().append(opt.calls).append(opt.puts)\n",
            "<ipython-input-4-75812940887c>:21: FutureWarning: The frame.append method is deprecated and will be removed from pandas in a future version. Use pandas.concat instead.\n",
            "  optionsX = optionsX.append(opt, ignore_index=True)\n",
            "<ipython-input-4-75812940887c>:18: FutureWarning: The frame.append method is deprecated and will be removed from pandas in a future version. Use pandas.concat instead.\n",
            "  opt = pd.DataFrame().append(opt.calls).append(opt.puts)\n",
            "<ipython-input-4-75812940887c>:21: FutureWarning: The frame.append method is deprecated and will be removed from pandas in a future version. Use pandas.concat instead.\n",
            "  optionsX = optionsX.append(opt, ignore_index=True)\n"
          ]
        },
        {
          "output_type": "stream",
          "name": "stdout",
          "text": [
            "2023-09-15\n",
            "2023-12-15\n"
          ]
        },
        {
          "output_type": "stream",
          "name": "stderr",
          "text": [
            "<ipython-input-4-75812940887c>:18: FutureWarning: The frame.append method is deprecated and will be removed from pandas in a future version. Use pandas.concat instead.\n",
            "  opt = pd.DataFrame().append(opt.calls).append(opt.puts)\n",
            "<ipython-input-4-75812940887c>:21: FutureWarning: The frame.append method is deprecated and will be removed from pandas in a future version. Use pandas.concat instead.\n",
            "  optionsX = optionsX.append(opt, ignore_index=True)\n",
            "<ipython-input-4-75812940887c>:18: FutureWarning: The frame.append method is deprecated and will be removed from pandas in a future version. Use pandas.concat instead.\n",
            "  opt = pd.DataFrame().append(opt.calls).append(opt.puts)\n",
            "<ipython-input-4-75812940887c>:21: FutureWarning: The frame.append method is deprecated and will be removed from pandas in a future version. Use pandas.concat instead.\n",
            "  optionsX = optionsX.append(opt, ignore_index=True)\n"
          ]
        },
        {
          "output_type": "stream",
          "name": "stdout",
          "text": [
            "2024-01-19\n",
            "2024-06-21\n",
            "2025-01-17\n"
          ]
        },
        {
          "output_type": "stream",
          "name": "stderr",
          "text": [
            "<ipython-input-4-75812940887c>:18: FutureWarning: The frame.append method is deprecated and will be removed from pandas in a future version. Use pandas.concat instead.\n",
            "  opt = pd.DataFrame().append(opt.calls).append(opt.puts)\n",
            "<ipython-input-4-75812940887c>:21: FutureWarning: The frame.append method is deprecated and will be removed from pandas in a future version. Use pandas.concat instead.\n",
            "  optionsX = optionsX.append(opt, ignore_index=True)\n",
            "<ipython-input-4-75812940887c>:18: FutureWarning: The frame.append method is deprecated and will be removed from pandas in a future version. Use pandas.concat instead.\n",
            "  opt = pd.DataFrame().append(opt.calls).append(opt.puts)\n",
            "<ipython-input-4-75812940887c>:21: FutureWarning: The frame.append method is deprecated and will be removed from pandas in a future version. Use pandas.concat instead.\n",
            "  optionsX = optionsX.append(opt, ignore_index=True)\n"
          ]
        },
        {
          "output_type": "stream",
          "name": "stdout",
          "text": [
            "UNH\n",
            "2023-05-26\n"
          ]
        },
        {
          "output_type": "stream",
          "name": "stderr",
          "text": [
            "<ipython-input-4-75812940887c>:18: FutureWarning: The frame.append method is deprecated and will be removed from pandas in a future version. Use pandas.concat instead.\n",
            "  opt = pd.DataFrame().append(opt.calls).append(opt.puts)\n",
            "<ipython-input-4-75812940887c>:21: FutureWarning: The frame.append method is deprecated and will be removed from pandas in a future version. Use pandas.concat instead.\n",
            "  optionsX = optionsX.append(opt, ignore_index=True)\n",
            "<ipython-input-4-75812940887c>:18: FutureWarning: The frame.append method is deprecated and will be removed from pandas in a future version. Use pandas.concat instead.\n",
            "  opt = pd.DataFrame().append(opt.calls).append(opt.puts)\n",
            "<ipython-input-4-75812940887c>:21: FutureWarning: The frame.append method is deprecated and will be removed from pandas in a future version. Use pandas.concat instead.\n",
            "  optionsX = optionsX.append(opt, ignore_index=True)\n"
          ]
        },
        {
          "output_type": "stream",
          "name": "stdout",
          "text": [
            "2023-06-02\n",
            "2023-06-09\n"
          ]
        },
        {
          "output_type": "stream",
          "name": "stderr",
          "text": [
            "<ipython-input-4-75812940887c>:18: FutureWarning: The frame.append method is deprecated and will be removed from pandas in a future version. Use pandas.concat instead.\n",
            "  opt = pd.DataFrame().append(opt.calls).append(opt.puts)\n",
            "<ipython-input-4-75812940887c>:21: FutureWarning: The frame.append method is deprecated and will be removed from pandas in a future version. Use pandas.concat instead.\n",
            "  optionsX = optionsX.append(opt, ignore_index=True)\n"
          ]
        },
        {
          "output_type": "stream",
          "name": "stdout",
          "text": [
            "2023-06-16\n"
          ]
        },
        {
          "output_type": "stream",
          "name": "stderr",
          "text": [
            "<ipython-input-4-75812940887c>:18: FutureWarning: The frame.append method is deprecated and will be removed from pandas in a future version. Use pandas.concat instead.\n",
            "  opt = pd.DataFrame().append(opt.calls).append(opt.puts)\n",
            "<ipython-input-4-75812940887c>:21: FutureWarning: The frame.append method is deprecated and will be removed from pandas in a future version. Use pandas.concat instead.\n",
            "  optionsX = optionsX.append(opt, ignore_index=True)\n",
            "<ipython-input-4-75812940887c>:18: FutureWarning: The frame.append method is deprecated and will be removed from pandas in a future version. Use pandas.concat instead.\n",
            "  opt = pd.DataFrame().append(opt.calls).append(opt.puts)\n",
            "<ipython-input-4-75812940887c>:21: FutureWarning: The frame.append method is deprecated and will be removed from pandas in a future version. Use pandas.concat instead.\n",
            "  optionsX = optionsX.append(opt, ignore_index=True)\n"
          ]
        },
        {
          "output_type": "stream",
          "name": "stdout",
          "text": [
            "2023-06-23\n",
            "2023-06-30\n"
          ]
        },
        {
          "output_type": "stream",
          "name": "stderr",
          "text": [
            "<ipython-input-4-75812940887c>:18: FutureWarning: The frame.append method is deprecated and will be removed from pandas in a future version. Use pandas.concat instead.\n",
            "  opt = pd.DataFrame().append(opt.calls).append(opt.puts)\n",
            "<ipython-input-4-75812940887c>:21: FutureWarning: The frame.append method is deprecated and will be removed from pandas in a future version. Use pandas.concat instead.\n",
            "  optionsX = optionsX.append(opt, ignore_index=True)\n",
            "<ipython-input-4-75812940887c>:18: FutureWarning: The frame.append method is deprecated and will be removed from pandas in a future version. Use pandas.concat instead.\n",
            "  opt = pd.DataFrame().append(opt.calls).append(opt.puts)\n",
            "<ipython-input-4-75812940887c>:21: FutureWarning: The frame.append method is deprecated and will be removed from pandas in a future version. Use pandas.concat instead.\n",
            "  optionsX = optionsX.append(opt, ignore_index=True)\n"
          ]
        },
        {
          "output_type": "stream",
          "name": "stdout",
          "text": [
            "2023-07-21\n",
            "2023-09-15\n"
          ]
        },
        {
          "output_type": "stream",
          "name": "stderr",
          "text": [
            "<ipython-input-4-75812940887c>:18: FutureWarning: The frame.append method is deprecated and will be removed from pandas in a future version. Use pandas.concat instead.\n",
            "  opt = pd.DataFrame().append(opt.calls).append(opt.puts)\n",
            "<ipython-input-4-75812940887c>:21: FutureWarning: The frame.append method is deprecated and will be removed from pandas in a future version. Use pandas.concat instead.\n",
            "  optionsX = optionsX.append(opt, ignore_index=True)\n",
            "<ipython-input-4-75812940887c>:18: FutureWarning: The frame.append method is deprecated and will be removed from pandas in a future version. Use pandas.concat instead.\n",
            "  opt = pd.DataFrame().append(opt.calls).append(opt.puts)\n",
            "<ipython-input-4-75812940887c>:21: FutureWarning: The frame.append method is deprecated and will be removed from pandas in a future version. Use pandas.concat instead.\n",
            "  optionsX = optionsX.append(opt, ignore_index=True)\n"
          ]
        },
        {
          "output_type": "stream",
          "name": "stdout",
          "text": [
            "2023-12-15\n",
            "2024-01-19\n"
          ]
        },
        {
          "output_type": "stream",
          "name": "stderr",
          "text": [
            "<ipython-input-4-75812940887c>:18: FutureWarning: The frame.append method is deprecated and will be removed from pandas in a future version. Use pandas.concat instead.\n",
            "  opt = pd.DataFrame().append(opt.calls).append(opt.puts)\n",
            "<ipython-input-4-75812940887c>:21: FutureWarning: The frame.append method is deprecated and will be removed from pandas in a future version. Use pandas.concat instead.\n",
            "  optionsX = optionsX.append(opt, ignore_index=True)\n",
            "<ipython-input-4-75812940887c>:18: FutureWarning: The frame.append method is deprecated and will be removed from pandas in a future version. Use pandas.concat instead.\n",
            "  opt = pd.DataFrame().append(opt.calls).append(opt.puts)\n",
            "<ipython-input-4-75812940887c>:21: FutureWarning: The frame.append method is deprecated and will be removed from pandas in a future version. Use pandas.concat instead.\n",
            "  optionsX = optionsX.append(opt, ignore_index=True)\n"
          ]
        },
        {
          "output_type": "stream",
          "name": "stdout",
          "text": [
            "2024-06-21\n",
            "2025-01-17\n"
          ]
        },
        {
          "output_type": "stream",
          "name": "stderr",
          "text": [
            "<ipython-input-4-75812940887c>:18: FutureWarning: The frame.append method is deprecated and will be removed from pandas in a future version. Use pandas.concat instead.\n",
            "  opt = pd.DataFrame().append(opt.calls).append(opt.puts)\n",
            "<ipython-input-4-75812940887c>:21: FutureWarning: The frame.append method is deprecated and will be removed from pandas in a future version. Use pandas.concat instead.\n",
            "  optionsX = optionsX.append(opt, ignore_index=True)\n"
          ]
        },
        {
          "output_type": "stream",
          "name": "stdout",
          "text": [
            "BAC\n",
            "2023-05-26\n"
          ]
        },
        {
          "output_type": "stream",
          "name": "stderr",
          "text": [
            "<ipython-input-4-75812940887c>:18: FutureWarning: The frame.append method is deprecated and will be removed from pandas in a future version. Use pandas.concat instead.\n",
            "  opt = pd.DataFrame().append(opt.calls).append(opt.puts)\n",
            "<ipython-input-4-75812940887c>:21: FutureWarning: The frame.append method is deprecated and will be removed from pandas in a future version. Use pandas.concat instead.\n",
            "  optionsX = optionsX.append(opt, ignore_index=True)\n",
            "<ipython-input-4-75812940887c>:18: FutureWarning: The frame.append method is deprecated and will be removed from pandas in a future version. Use pandas.concat instead.\n",
            "  opt = pd.DataFrame().append(opt.calls).append(opt.puts)\n",
            "<ipython-input-4-75812940887c>:21: FutureWarning: The frame.append method is deprecated and will be removed from pandas in a future version. Use pandas.concat instead.\n",
            "  optionsX = optionsX.append(opt, ignore_index=True)\n"
          ]
        },
        {
          "output_type": "stream",
          "name": "stdout",
          "text": [
            "2023-06-02\n",
            "2023-06-09\n"
          ]
        },
        {
          "output_type": "stream",
          "name": "stderr",
          "text": [
            "<ipython-input-4-75812940887c>:18: FutureWarning: The frame.append method is deprecated and will be removed from pandas in a future version. Use pandas.concat instead.\n",
            "  opt = pd.DataFrame().append(opt.calls).append(opt.puts)\n",
            "<ipython-input-4-75812940887c>:21: FutureWarning: The frame.append method is deprecated and will be removed from pandas in a future version. Use pandas.concat instead.\n",
            "  optionsX = optionsX.append(opt, ignore_index=True)\n",
            "<ipython-input-4-75812940887c>:18: FutureWarning: The frame.append method is deprecated and will be removed from pandas in a future version. Use pandas.concat instead.\n",
            "  opt = pd.DataFrame().append(opt.calls).append(opt.puts)\n",
            "<ipython-input-4-75812940887c>:21: FutureWarning: The frame.append method is deprecated and will be removed from pandas in a future version. Use pandas.concat instead.\n",
            "  optionsX = optionsX.append(opt, ignore_index=True)\n"
          ]
        },
        {
          "output_type": "stream",
          "name": "stdout",
          "text": [
            "2023-06-16\n",
            "2023-06-23\n"
          ]
        },
        {
          "output_type": "stream",
          "name": "stderr",
          "text": [
            "<ipython-input-4-75812940887c>:18: FutureWarning: The frame.append method is deprecated and will be removed from pandas in a future version. Use pandas.concat instead.\n",
            "  opt = pd.DataFrame().append(opt.calls).append(opt.puts)\n",
            "<ipython-input-4-75812940887c>:21: FutureWarning: The frame.append method is deprecated and will be removed from pandas in a future version. Use pandas.concat instead.\n",
            "  optionsX = optionsX.append(opt, ignore_index=True)\n",
            "<ipython-input-4-75812940887c>:18: FutureWarning: The frame.append method is deprecated and will be removed from pandas in a future version. Use pandas.concat instead.\n",
            "  opt = pd.DataFrame().append(opt.calls).append(opt.puts)\n",
            "<ipython-input-4-75812940887c>:21: FutureWarning: The frame.append method is deprecated and will be removed from pandas in a future version. Use pandas.concat instead.\n",
            "  optionsX = optionsX.append(opt, ignore_index=True)\n"
          ]
        },
        {
          "output_type": "stream",
          "name": "stdout",
          "text": [
            "2023-06-30\n",
            "2023-07-21\n"
          ]
        },
        {
          "output_type": "stream",
          "name": "stderr",
          "text": [
            "<ipython-input-4-75812940887c>:18: FutureWarning: The frame.append method is deprecated and will be removed from pandas in a future version. Use pandas.concat instead.\n",
            "  opt = pd.DataFrame().append(opt.calls).append(opt.puts)\n",
            "<ipython-input-4-75812940887c>:21: FutureWarning: The frame.append method is deprecated and will be removed from pandas in a future version. Use pandas.concat instead.\n",
            "  optionsX = optionsX.append(opt, ignore_index=True)\n",
            "<ipython-input-4-75812940887c>:18: FutureWarning: The frame.append method is deprecated and will be removed from pandas in a future version. Use pandas.concat instead.\n",
            "  opt = pd.DataFrame().append(opt.calls).append(opt.puts)\n",
            "<ipython-input-4-75812940887c>:21: FutureWarning: The frame.append method is deprecated and will be removed from pandas in a future version. Use pandas.concat instead.\n",
            "  optionsX = optionsX.append(opt, ignore_index=True)\n"
          ]
        },
        {
          "output_type": "stream",
          "name": "stdout",
          "text": [
            "2023-08-18\n",
            "2023-09-15\n"
          ]
        },
        {
          "output_type": "stream",
          "name": "stderr",
          "text": [
            "<ipython-input-4-75812940887c>:18: FutureWarning: The frame.append method is deprecated and will be removed from pandas in a future version. Use pandas.concat instead.\n",
            "  opt = pd.DataFrame().append(opt.calls).append(opt.puts)\n",
            "<ipython-input-4-75812940887c>:21: FutureWarning: The frame.append method is deprecated and will be removed from pandas in a future version. Use pandas.concat instead.\n",
            "  optionsX = optionsX.append(opt, ignore_index=True)\n",
            "<ipython-input-4-75812940887c>:18: FutureWarning: The frame.append method is deprecated and will be removed from pandas in a future version. Use pandas.concat instead.\n",
            "  opt = pd.DataFrame().append(opt.calls).append(opt.puts)\n",
            "<ipython-input-4-75812940887c>:21: FutureWarning: The frame.append method is deprecated and will be removed from pandas in a future version. Use pandas.concat instead.\n",
            "  optionsX = optionsX.append(opt, ignore_index=True)\n"
          ]
        },
        {
          "output_type": "stream",
          "name": "stdout",
          "text": [
            "2023-10-20\n",
            "2023-11-17\n"
          ]
        },
        {
          "output_type": "stream",
          "name": "stderr",
          "text": [
            "<ipython-input-4-75812940887c>:18: FutureWarning: The frame.append method is deprecated and will be removed from pandas in a future version. Use pandas.concat instead.\n",
            "  opt = pd.DataFrame().append(opt.calls).append(opt.puts)\n",
            "<ipython-input-4-75812940887c>:21: FutureWarning: The frame.append method is deprecated and will be removed from pandas in a future version. Use pandas.concat instead.\n",
            "  optionsX = optionsX.append(opt, ignore_index=True)\n",
            "<ipython-input-4-75812940887c>:18: FutureWarning: The frame.append method is deprecated and will be removed from pandas in a future version. Use pandas.concat instead.\n",
            "  opt = pd.DataFrame().append(opt.calls).append(opt.puts)\n",
            "<ipython-input-4-75812940887c>:21: FutureWarning: The frame.append method is deprecated and will be removed from pandas in a future version. Use pandas.concat instead.\n",
            "  optionsX = optionsX.append(opt, ignore_index=True)\n"
          ]
        },
        {
          "output_type": "stream",
          "name": "stdout",
          "text": [
            "2024-01-19\n",
            "2024-03-15\n"
          ]
        },
        {
          "output_type": "stream",
          "name": "stderr",
          "text": [
            "<ipython-input-4-75812940887c>:18: FutureWarning: The frame.append method is deprecated and will be removed from pandas in a future version. Use pandas.concat instead.\n",
            "  opt = pd.DataFrame().append(opt.calls).append(opt.puts)\n",
            "<ipython-input-4-75812940887c>:21: FutureWarning: The frame.append method is deprecated and will be removed from pandas in a future version. Use pandas.concat instead.\n",
            "  optionsX = optionsX.append(opt, ignore_index=True)\n",
            "<ipython-input-4-75812940887c>:18: FutureWarning: The frame.append method is deprecated and will be removed from pandas in a future version. Use pandas.concat instead.\n",
            "  opt = pd.DataFrame().append(opt.calls).append(opt.puts)\n",
            "<ipython-input-4-75812940887c>:21: FutureWarning: The frame.append method is deprecated and will be removed from pandas in a future version. Use pandas.concat instead.\n",
            "  optionsX = optionsX.append(opt, ignore_index=True)\n"
          ]
        },
        {
          "output_type": "stream",
          "name": "stdout",
          "text": [
            "2024-06-21\n",
            "2024-09-20\n"
          ]
        },
        {
          "output_type": "stream",
          "name": "stderr",
          "text": [
            "<ipython-input-4-75812940887c>:18: FutureWarning: The frame.append method is deprecated and will be removed from pandas in a future version. Use pandas.concat instead.\n",
            "  opt = pd.DataFrame().append(opt.calls).append(opt.puts)\n",
            "<ipython-input-4-75812940887c>:21: FutureWarning: The frame.append method is deprecated and will be removed from pandas in a future version. Use pandas.concat instead.\n",
            "  optionsX = optionsX.append(opt, ignore_index=True)\n",
            "<ipython-input-4-75812940887c>:18: FutureWarning: The frame.append method is deprecated and will be removed from pandas in a future version. Use pandas.concat instead.\n",
            "  opt = pd.DataFrame().append(opt.calls).append(opt.puts)\n",
            "<ipython-input-4-75812940887c>:21: FutureWarning: The frame.append method is deprecated and will be removed from pandas in a future version. Use pandas.concat instead.\n",
            "  optionsX = optionsX.append(opt, ignore_index=True)\n"
          ]
        },
        {
          "output_type": "stream",
          "name": "stdout",
          "text": [
            "2025-01-17\n",
            "2025-06-20\n"
          ]
        },
        {
          "output_type": "stream",
          "name": "stderr",
          "text": [
            "<ipython-input-4-75812940887c>:18: FutureWarning: The frame.append method is deprecated and will be removed from pandas in a future version. Use pandas.concat instead.\n",
            "  opt = pd.DataFrame().append(opt.calls).append(opt.puts)\n",
            "<ipython-input-4-75812940887c>:21: FutureWarning: The frame.append method is deprecated and will be removed from pandas in a future version. Use pandas.concat instead.\n",
            "  optionsX = optionsX.append(opt, ignore_index=True)\n"
          ]
        },
        {
          "output_type": "stream",
          "name": "stdout",
          "text": [
            "TSLA\n",
            "2023-05-26\n"
          ]
        },
        {
          "output_type": "stream",
          "name": "stderr",
          "text": [
            "<ipython-input-4-75812940887c>:18: FutureWarning: The frame.append method is deprecated and will be removed from pandas in a future version. Use pandas.concat instead.\n",
            "  opt = pd.DataFrame().append(opt.calls).append(opt.puts)\n",
            "<ipython-input-4-75812940887c>:21: FutureWarning: The frame.append method is deprecated and will be removed from pandas in a future version. Use pandas.concat instead.\n",
            "  optionsX = optionsX.append(opt, ignore_index=True)\n",
            "<ipython-input-4-75812940887c>:18: FutureWarning: The frame.append method is deprecated and will be removed from pandas in a future version. Use pandas.concat instead.\n",
            "  opt = pd.DataFrame().append(opt.calls).append(opt.puts)\n",
            "<ipython-input-4-75812940887c>:21: FutureWarning: The frame.append method is deprecated and will be removed from pandas in a future version. Use pandas.concat instead.\n",
            "  optionsX = optionsX.append(opt, ignore_index=True)\n"
          ]
        },
        {
          "output_type": "stream",
          "name": "stdout",
          "text": [
            "2023-06-02\n",
            "2023-06-09\n"
          ]
        },
        {
          "output_type": "stream",
          "name": "stderr",
          "text": [
            "<ipython-input-4-75812940887c>:18: FutureWarning: The frame.append method is deprecated and will be removed from pandas in a future version. Use pandas.concat instead.\n",
            "  opt = pd.DataFrame().append(opt.calls).append(opt.puts)\n",
            "<ipython-input-4-75812940887c>:21: FutureWarning: The frame.append method is deprecated and will be removed from pandas in a future version. Use pandas.concat instead.\n",
            "  optionsX = optionsX.append(opt, ignore_index=True)\n"
          ]
        },
        {
          "output_type": "stream",
          "name": "stdout",
          "text": [
            "2023-06-16\n"
          ]
        },
        {
          "output_type": "stream",
          "name": "stderr",
          "text": [
            "<ipython-input-4-75812940887c>:18: FutureWarning: The frame.append method is deprecated and will be removed from pandas in a future version. Use pandas.concat instead.\n",
            "  opt = pd.DataFrame().append(opt.calls).append(opt.puts)\n",
            "<ipython-input-4-75812940887c>:21: FutureWarning: The frame.append method is deprecated and will be removed from pandas in a future version. Use pandas.concat instead.\n",
            "  optionsX = optionsX.append(opt, ignore_index=True)\n",
            "<ipython-input-4-75812940887c>:18: FutureWarning: The frame.append method is deprecated and will be removed from pandas in a future version. Use pandas.concat instead.\n",
            "  opt = pd.DataFrame().append(opt.calls).append(opt.puts)\n",
            "<ipython-input-4-75812940887c>:21: FutureWarning: The frame.append method is deprecated and will be removed from pandas in a future version. Use pandas.concat instead.\n",
            "  optionsX = optionsX.append(opt, ignore_index=True)\n"
          ]
        },
        {
          "output_type": "stream",
          "name": "stdout",
          "text": [
            "2023-06-23\n",
            "2023-06-30\n"
          ]
        },
        {
          "output_type": "stream",
          "name": "stderr",
          "text": [
            "<ipython-input-4-75812940887c>:18: FutureWarning: The frame.append method is deprecated and will be removed from pandas in a future version. Use pandas.concat instead.\n",
            "  opt = pd.DataFrame().append(opt.calls).append(opt.puts)\n",
            "<ipython-input-4-75812940887c>:21: FutureWarning: The frame.append method is deprecated and will be removed from pandas in a future version. Use pandas.concat instead.\n",
            "  optionsX = optionsX.append(opt, ignore_index=True)\n",
            "<ipython-input-4-75812940887c>:18: FutureWarning: The frame.append method is deprecated and will be removed from pandas in a future version. Use pandas.concat instead.\n",
            "  opt = pd.DataFrame().append(opt.calls).append(opt.puts)\n"
          ]
        },
        {
          "output_type": "stream",
          "name": "stdout",
          "text": [
            "2023-07-21\n"
          ]
        },
        {
          "output_type": "stream",
          "name": "stderr",
          "text": [
            "<ipython-input-4-75812940887c>:21: FutureWarning: The frame.append method is deprecated and will be removed from pandas in a future version. Use pandas.concat instead.\n",
            "  optionsX = optionsX.append(opt, ignore_index=True)\n",
            "<ipython-input-4-75812940887c>:18: FutureWarning: The frame.append method is deprecated and will be removed from pandas in a future version. Use pandas.concat instead.\n",
            "  opt = pd.DataFrame().append(opt.calls).append(opt.puts)\n",
            "<ipython-input-4-75812940887c>:21: FutureWarning: The frame.append method is deprecated and will be removed from pandas in a future version. Use pandas.concat instead.\n",
            "  optionsX = optionsX.append(opt, ignore_index=True)\n"
          ]
        },
        {
          "output_type": "stream",
          "name": "stdout",
          "text": [
            "2023-08-18\n",
            "2023-09-15\n"
          ]
        },
        {
          "output_type": "stream",
          "name": "stderr",
          "text": [
            "<ipython-input-4-75812940887c>:18: FutureWarning: The frame.append method is deprecated and will be removed from pandas in a future version. Use pandas.concat instead.\n",
            "  opt = pd.DataFrame().append(opt.calls).append(opt.puts)\n",
            "<ipython-input-4-75812940887c>:21: FutureWarning: The frame.append method is deprecated and will be removed from pandas in a future version. Use pandas.concat instead.\n",
            "  optionsX = optionsX.append(opt, ignore_index=True)\n"
          ]
        },
        {
          "output_type": "stream",
          "name": "stdout",
          "text": [
            "2023-10-20\n",
            "2023-11-17\n"
          ]
        },
        {
          "output_type": "stream",
          "name": "stderr",
          "text": [
            "<ipython-input-4-75812940887c>:18: FutureWarning: The frame.append method is deprecated and will be removed from pandas in a future version. Use pandas.concat instead.\n",
            "  opt = pd.DataFrame().append(opt.calls).append(opt.puts)\n",
            "<ipython-input-4-75812940887c>:21: FutureWarning: The frame.append method is deprecated and will be removed from pandas in a future version. Use pandas.concat instead.\n",
            "  optionsX = optionsX.append(opt, ignore_index=True)\n",
            "<ipython-input-4-75812940887c>:18: FutureWarning: The frame.append method is deprecated and will be removed from pandas in a future version. Use pandas.concat instead.\n",
            "  opt = pd.DataFrame().append(opt.calls).append(opt.puts)\n",
            "<ipython-input-4-75812940887c>:21: FutureWarning: The frame.append method is deprecated and will be removed from pandas in a future version. Use pandas.concat instead.\n",
            "  optionsX = optionsX.append(opt, ignore_index=True)\n"
          ]
        },
        {
          "output_type": "stream",
          "name": "stdout",
          "text": [
            "2023-12-15\n",
            "2024-01-19\n"
          ]
        },
        {
          "output_type": "stream",
          "name": "stderr",
          "text": [
            "<ipython-input-4-75812940887c>:18: FutureWarning: The frame.append method is deprecated and will be removed from pandas in a future version. Use pandas.concat instead.\n",
            "  opt = pd.DataFrame().append(opt.calls).append(opt.puts)\n",
            "<ipython-input-4-75812940887c>:21: FutureWarning: The frame.append method is deprecated and will be removed from pandas in a future version. Use pandas.concat instead.\n",
            "  optionsX = optionsX.append(opt, ignore_index=True)\n",
            "<ipython-input-4-75812940887c>:18: FutureWarning: The frame.append method is deprecated and will be removed from pandas in a future version. Use pandas.concat instead.\n",
            "  opt = pd.DataFrame().append(opt.calls).append(opt.puts)\n",
            "<ipython-input-4-75812940887c>:21: FutureWarning: The frame.append method is deprecated and will be removed from pandas in a future version. Use pandas.concat instead.\n",
            "  optionsX = optionsX.append(opt, ignore_index=True)\n",
            "<ipython-input-4-75812940887c>:18: FutureWarning: The frame.append method is deprecated and will be removed from pandas in a future version. Use pandas.concat instead.\n",
            "  opt = pd.DataFrame().append(opt.calls).append(opt.puts)\n",
            "<ipython-input-4-75812940887c>:21: FutureWarning: The frame.append method is deprecated and will be removed from pandas in a future version. Use pandas.concat instead.\n",
            "  optionsX = optionsX.append(opt, ignore_index=True)\n"
          ]
        },
        {
          "output_type": "stream",
          "name": "stdout",
          "text": [
            "2024-03-15\n",
            "2024-06-21\n"
          ]
        },
        {
          "output_type": "stream",
          "name": "stderr",
          "text": [
            "<ipython-input-4-75812940887c>:18: FutureWarning: The frame.append method is deprecated and will be removed from pandas in a future version. Use pandas.concat instead.\n",
            "  opt = pd.DataFrame().append(opt.calls).append(opt.puts)\n",
            "<ipython-input-4-75812940887c>:21: FutureWarning: The frame.append method is deprecated and will be removed from pandas in a future version. Use pandas.concat instead.\n",
            "  optionsX = optionsX.append(opt, ignore_index=True)\n",
            "<ipython-input-4-75812940887c>:18: FutureWarning: The frame.append method is deprecated and will be removed from pandas in a future version. Use pandas.concat instead.\n",
            "  opt = pd.DataFrame().append(opt.calls).append(opt.puts)\n",
            "<ipython-input-4-75812940887c>:21: FutureWarning: The frame.append method is deprecated and will be removed from pandas in a future version. Use pandas.concat instead.\n",
            "  optionsX = optionsX.append(opt, ignore_index=True)\n"
          ]
        },
        {
          "output_type": "stream",
          "name": "stdout",
          "text": [
            "2024-09-20\n",
            "2025-01-17\n"
          ]
        },
        {
          "output_type": "stream",
          "name": "stderr",
          "text": [
            "<ipython-input-4-75812940887c>:18: FutureWarning: The frame.append method is deprecated and will be removed from pandas in a future version. Use pandas.concat instead.\n",
            "  opt = pd.DataFrame().append(opt.calls).append(opt.puts)\n",
            "<ipython-input-4-75812940887c>:21: FutureWarning: The frame.append method is deprecated and will be removed from pandas in a future version. Use pandas.concat instead.\n",
            "  optionsX = optionsX.append(opt, ignore_index=True)\n",
            "<ipython-input-4-75812940887c>:18: FutureWarning: The frame.append method is deprecated and will be removed from pandas in a future version. Use pandas.concat instead.\n",
            "  opt = pd.DataFrame().append(opt.calls).append(opt.puts)\n",
            "<ipython-input-4-75812940887c>:21: FutureWarning: The frame.append method is deprecated and will be removed from pandas in a future version. Use pandas.concat instead.\n",
            "  optionsX = optionsX.append(opt, ignore_index=True)\n"
          ]
        },
        {
          "output_type": "stream",
          "name": "stdout",
          "text": [
            "2025-06-20\n",
            "2025-12-19\n"
          ]
        },
        {
          "output_type": "stream",
          "name": "stderr",
          "text": [
            "<ipython-input-4-75812940887c>:18: FutureWarning: The frame.append method is deprecated and will be removed from pandas in a future version. Use pandas.concat instead.\n",
            "  opt = pd.DataFrame().append(opt.calls).append(opt.puts)\n",
            "<ipython-input-4-75812940887c>:21: FutureWarning: The frame.append method is deprecated and will be removed from pandas in a future version. Use pandas.concat instead.\n",
            "  optionsX = optionsX.append(opt, ignore_index=True)\n"
          ]
        },
        {
          "output_type": "execute_result",
          "data": {
            "text/plain": [
              "            contractSymbol             lastTradeDate  strike  lastPrice  \\\n",
              "0      AAPL230526C00090000 2023-05-22 17:53:08+00:00    90.0      84.30   \n",
              "1      AAPL230526C00095000 2023-05-22 17:53:08+00:00    95.0      79.55   \n",
              "2      AAPL230526C00100000 2023-05-24 19:20:03+00:00   100.0      72.00   \n",
              "3      AAPL230526C00105000 2023-05-25 14:21:55+00:00   105.0      66.81   \n",
              "4      AAPL230526C00110000 2023-05-23 15:27:10+00:00   110.0      63.04   \n",
              "...                    ...                       ...     ...        ...   \n",
              "17135  TSLA251219P00350000 2023-05-19 15:38:02+00:00   350.0     173.90   \n",
              "17136  TSLA251219P00360000 2023-05-22 18:04:07+00:00   360.0     177.30   \n",
              "17137  TSLA251219P00370000 2023-05-23 16:09:44+00:00   370.0     184.10   \n",
              "17138  TSLA251219P00380000 2023-05-23 19:28:09+00:00   380.0     197.10   \n",
              "17139  TSLA251219P00390000 2023-05-25 14:29:38+00:00   390.0     208.99   \n",
              "\n",
              "          bid     ask    change  percentChange  volume  openInterest  \\\n",
              "0       83.35   83.75  0.000000       0.000000    10.0          15.0   \n",
              "1       78.30   78.50  0.000000       0.000000     5.0          12.0   \n",
              "2       73.30   73.50  0.000000       0.000000    15.0          12.0   \n",
              "3       68.30   68.75  0.209999       0.315314     1.0           4.0   \n",
              "4       63.35   63.55  0.000000       0.000000     1.0          14.0   \n",
              "...       ...     ...       ...            ...     ...           ...   \n",
              "17135  168.55  172.35  0.000000       0.000000     1.0          27.0   \n",
              "17136  178.55  181.30  0.000000       0.000000     3.0          41.0   \n",
              "17137  186.30  190.45  0.000000       0.000000     1.0          42.0   \n",
              "17138  195.45  199.55  0.000000       0.000000     1.0          28.0   \n",
              "17139  205.95  208.85  4.440002       2.170619    10.0          69.0   \n",
              "\n",
              "       impliedVolatility  inTheMoney contractSize currency expirationDate  \\\n",
              "0               4.394536        True      REGULAR      USD     2025-01-01   \n",
              "1               3.718751        True      REGULAR      USD     2025-01-01   \n",
              "2               3.429689        True      REGULAR      USD     2025-01-01   \n",
              "3               3.417970        True      REGULAR      USD     2025-01-01   \n",
              "4               3.000002        True      REGULAR      USD     2025-01-01   \n",
              "...                  ...         ...          ...      ...            ...   \n",
              "17135           0.335669        True      REGULAR      USD     2025-01-01   \n",
              "17136           0.331000        True      REGULAR      USD     2025-01-01   \n",
              "17137           0.327643        True      REGULAR      USD     2025-01-01   \n",
              "17138           0.322150        True      REGULAR      USD     2025-01-01   \n",
              "17139           0.318305        True      REGULAR      USD     2025-01-01   \n",
              "\n",
              "      Symbol  \n",
              "0       AAPL  \n",
              "1       AAPL  \n",
              "2       AAPL  \n",
              "3       AAPL  \n",
              "4       AAPL  \n",
              "...      ...  \n",
              "17135   TSLA  \n",
              "17136   TSLA  \n",
              "17137   TSLA  \n",
              "17138   TSLA  \n",
              "17139   TSLA  \n",
              "\n",
              "[17140 rows x 16 columns]"
            ],
            "text/html": [
              "\n",
              "  <div id=\"df-4eaa64d8-510a-4ba8-b0ac-c039c61ed66f\">\n",
              "    <div class=\"colab-df-container\">\n",
              "      <div>\n",
              "<style scoped>\n",
              "    .dataframe tbody tr th:only-of-type {\n",
              "        vertical-align: middle;\n",
              "    }\n",
              "\n",
              "    .dataframe tbody tr th {\n",
              "        vertical-align: top;\n",
              "    }\n",
              "\n",
              "    .dataframe thead th {\n",
              "        text-align: right;\n",
              "    }\n",
              "</style>\n",
              "<table border=\"1\" class=\"dataframe\">\n",
              "  <thead>\n",
              "    <tr style=\"text-align: right;\">\n",
              "      <th></th>\n",
              "      <th>contractSymbol</th>\n",
              "      <th>lastTradeDate</th>\n",
              "      <th>strike</th>\n",
              "      <th>lastPrice</th>\n",
              "      <th>bid</th>\n",
              "      <th>ask</th>\n",
              "      <th>change</th>\n",
              "      <th>percentChange</th>\n",
              "      <th>volume</th>\n",
              "      <th>openInterest</th>\n",
              "      <th>impliedVolatility</th>\n",
              "      <th>inTheMoney</th>\n",
              "      <th>contractSize</th>\n",
              "      <th>currency</th>\n",
              "      <th>expirationDate</th>\n",
              "      <th>Symbol</th>\n",
              "    </tr>\n",
              "  </thead>\n",
              "  <tbody>\n",
              "    <tr>\n",
              "      <th>0</th>\n",
              "      <td>AAPL230526C00090000</td>\n",
              "      <td>2023-05-22 17:53:08+00:00</td>\n",
              "      <td>90.0</td>\n",
              "      <td>84.30</td>\n",
              "      <td>83.35</td>\n",
              "      <td>83.75</td>\n",
              "      <td>0.000000</td>\n",
              "      <td>0.000000</td>\n",
              "      <td>10.0</td>\n",
              "      <td>15.0</td>\n",
              "      <td>4.394536</td>\n",
              "      <td>True</td>\n",
              "      <td>REGULAR</td>\n",
              "      <td>USD</td>\n",
              "      <td>2025-01-01</td>\n",
              "      <td>AAPL</td>\n",
              "    </tr>\n",
              "    <tr>\n",
              "      <th>1</th>\n",
              "      <td>AAPL230526C00095000</td>\n",
              "      <td>2023-05-22 17:53:08+00:00</td>\n",
              "      <td>95.0</td>\n",
              "      <td>79.55</td>\n",
              "      <td>78.30</td>\n",
              "      <td>78.50</td>\n",
              "      <td>0.000000</td>\n",
              "      <td>0.000000</td>\n",
              "      <td>5.0</td>\n",
              "      <td>12.0</td>\n",
              "      <td>3.718751</td>\n",
              "      <td>True</td>\n",
              "      <td>REGULAR</td>\n",
              "      <td>USD</td>\n",
              "      <td>2025-01-01</td>\n",
              "      <td>AAPL</td>\n",
              "    </tr>\n",
              "    <tr>\n",
              "      <th>2</th>\n",
              "      <td>AAPL230526C00100000</td>\n",
              "      <td>2023-05-24 19:20:03+00:00</td>\n",
              "      <td>100.0</td>\n",
              "      <td>72.00</td>\n",
              "      <td>73.30</td>\n",
              "      <td>73.50</td>\n",
              "      <td>0.000000</td>\n",
              "      <td>0.000000</td>\n",
              "      <td>15.0</td>\n",
              "      <td>12.0</td>\n",
              "      <td>3.429689</td>\n",
              "      <td>True</td>\n",
              "      <td>REGULAR</td>\n",
              "      <td>USD</td>\n",
              "      <td>2025-01-01</td>\n",
              "      <td>AAPL</td>\n",
              "    </tr>\n",
              "    <tr>\n",
              "      <th>3</th>\n",
              "      <td>AAPL230526C00105000</td>\n",
              "      <td>2023-05-25 14:21:55+00:00</td>\n",
              "      <td>105.0</td>\n",
              "      <td>66.81</td>\n",
              "      <td>68.30</td>\n",
              "      <td>68.75</td>\n",
              "      <td>0.209999</td>\n",
              "      <td>0.315314</td>\n",
              "      <td>1.0</td>\n",
              "      <td>4.0</td>\n",
              "      <td>3.417970</td>\n",
              "      <td>True</td>\n",
              "      <td>REGULAR</td>\n",
              "      <td>USD</td>\n",
              "      <td>2025-01-01</td>\n",
              "      <td>AAPL</td>\n",
              "    </tr>\n",
              "    <tr>\n",
              "      <th>4</th>\n",
              "      <td>AAPL230526C00110000</td>\n",
              "      <td>2023-05-23 15:27:10+00:00</td>\n",
              "      <td>110.0</td>\n",
              "      <td>63.04</td>\n",
              "      <td>63.35</td>\n",
              "      <td>63.55</td>\n",
              "      <td>0.000000</td>\n",
              "      <td>0.000000</td>\n",
              "      <td>1.0</td>\n",
              "      <td>14.0</td>\n",
              "      <td>3.000002</td>\n",
              "      <td>True</td>\n",
              "      <td>REGULAR</td>\n",
              "      <td>USD</td>\n",
              "      <td>2025-01-01</td>\n",
              "      <td>AAPL</td>\n",
              "    </tr>\n",
              "    <tr>\n",
              "      <th>...</th>\n",
              "      <td>...</td>\n",
              "      <td>...</td>\n",
              "      <td>...</td>\n",
              "      <td>...</td>\n",
              "      <td>...</td>\n",
              "      <td>...</td>\n",
              "      <td>...</td>\n",
              "      <td>...</td>\n",
              "      <td>...</td>\n",
              "      <td>...</td>\n",
              "      <td>...</td>\n",
              "      <td>...</td>\n",
              "      <td>...</td>\n",
              "      <td>...</td>\n",
              "      <td>...</td>\n",
              "      <td>...</td>\n",
              "    </tr>\n",
              "    <tr>\n",
              "      <th>17135</th>\n",
              "      <td>TSLA251219P00350000</td>\n",
              "      <td>2023-05-19 15:38:02+00:00</td>\n",
              "      <td>350.0</td>\n",
              "      <td>173.90</td>\n",
              "      <td>168.55</td>\n",
              "      <td>172.35</td>\n",
              "      <td>0.000000</td>\n",
              "      <td>0.000000</td>\n",
              "      <td>1.0</td>\n",
              "      <td>27.0</td>\n",
              "      <td>0.335669</td>\n",
              "      <td>True</td>\n",
              "      <td>REGULAR</td>\n",
              "      <td>USD</td>\n",
              "      <td>2025-01-01</td>\n",
              "      <td>TSLA</td>\n",
              "    </tr>\n",
              "    <tr>\n",
              "      <th>17136</th>\n",
              "      <td>TSLA251219P00360000</td>\n",
              "      <td>2023-05-22 18:04:07+00:00</td>\n",
              "      <td>360.0</td>\n",
              "      <td>177.30</td>\n",
              "      <td>178.55</td>\n",
              "      <td>181.30</td>\n",
              "      <td>0.000000</td>\n",
              "      <td>0.000000</td>\n",
              "      <td>3.0</td>\n",
              "      <td>41.0</td>\n",
              "      <td>0.331000</td>\n",
              "      <td>True</td>\n",
              "      <td>REGULAR</td>\n",
              "      <td>USD</td>\n",
              "      <td>2025-01-01</td>\n",
              "      <td>TSLA</td>\n",
              "    </tr>\n",
              "    <tr>\n",
              "      <th>17137</th>\n",
              "      <td>TSLA251219P00370000</td>\n",
              "      <td>2023-05-23 16:09:44+00:00</td>\n",
              "      <td>370.0</td>\n",
              "      <td>184.10</td>\n",
              "      <td>186.30</td>\n",
              "      <td>190.45</td>\n",
              "      <td>0.000000</td>\n",
              "      <td>0.000000</td>\n",
              "      <td>1.0</td>\n",
              "      <td>42.0</td>\n",
              "      <td>0.327643</td>\n",
              "      <td>True</td>\n",
              "      <td>REGULAR</td>\n",
              "      <td>USD</td>\n",
              "      <td>2025-01-01</td>\n",
              "      <td>TSLA</td>\n",
              "    </tr>\n",
              "    <tr>\n",
              "      <th>17138</th>\n",
              "      <td>TSLA251219P00380000</td>\n",
              "      <td>2023-05-23 19:28:09+00:00</td>\n",
              "      <td>380.0</td>\n",
              "      <td>197.10</td>\n",
              "      <td>195.45</td>\n",
              "      <td>199.55</td>\n",
              "      <td>0.000000</td>\n",
              "      <td>0.000000</td>\n",
              "      <td>1.0</td>\n",
              "      <td>28.0</td>\n",
              "      <td>0.322150</td>\n",
              "      <td>True</td>\n",
              "      <td>REGULAR</td>\n",
              "      <td>USD</td>\n",
              "      <td>2025-01-01</td>\n",
              "      <td>TSLA</td>\n",
              "    </tr>\n",
              "    <tr>\n",
              "      <th>17139</th>\n",
              "      <td>TSLA251219P00390000</td>\n",
              "      <td>2023-05-25 14:29:38+00:00</td>\n",
              "      <td>390.0</td>\n",
              "      <td>208.99</td>\n",
              "      <td>205.95</td>\n",
              "      <td>208.85</td>\n",
              "      <td>4.440002</td>\n",
              "      <td>2.170619</td>\n",
              "      <td>10.0</td>\n",
              "      <td>69.0</td>\n",
              "      <td>0.318305</td>\n",
              "      <td>True</td>\n",
              "      <td>REGULAR</td>\n",
              "      <td>USD</td>\n",
              "      <td>2025-01-01</td>\n",
              "      <td>TSLA</td>\n",
              "    </tr>\n",
              "  </tbody>\n",
              "</table>\n",
              "<p>17140 rows × 16 columns</p>\n",
              "</div>\n",
              "      <button class=\"colab-df-convert\" onclick=\"convertToInteractive('df-4eaa64d8-510a-4ba8-b0ac-c039c61ed66f')\"\n",
              "              title=\"Convert this dataframe to an interactive table.\"\n",
              "              style=\"display:none;\">\n",
              "        \n",
              "  <svg xmlns=\"http://www.w3.org/2000/svg\" height=\"24px\"viewBox=\"0 0 24 24\"\n",
              "       width=\"24px\">\n",
              "    <path d=\"M0 0h24v24H0V0z\" fill=\"none\"/>\n",
              "    <path d=\"M18.56 5.44l.94 2.06.94-2.06 2.06-.94-2.06-.94-.94-2.06-.94 2.06-2.06.94zm-11 1L8.5 8.5l.94-2.06 2.06-.94-2.06-.94L8.5 2.5l-.94 2.06-2.06.94zm10 10l.94 2.06.94-2.06 2.06-.94-2.06-.94-.94-2.06-.94 2.06-2.06.94z\"/><path d=\"M17.41 7.96l-1.37-1.37c-.4-.4-.92-.59-1.43-.59-.52 0-1.04.2-1.43.59L10.3 9.45l-7.72 7.72c-.78.78-.78 2.05 0 2.83L4 21.41c.39.39.9.59 1.41.59.51 0 1.02-.2 1.41-.59l7.78-7.78 2.81-2.81c.8-.78.8-2.07 0-2.86zM5.41 20L4 18.59l7.72-7.72 1.47 1.35L5.41 20z\"/>\n",
              "  </svg>\n",
              "      </button>\n",
              "      \n",
              "  <style>\n",
              "    .colab-df-container {\n",
              "      display:flex;\n",
              "      flex-wrap:wrap;\n",
              "      gap: 12px;\n",
              "    }\n",
              "\n",
              "    .colab-df-convert {\n",
              "      background-color: #E8F0FE;\n",
              "      border: none;\n",
              "      border-radius: 50%;\n",
              "      cursor: pointer;\n",
              "      display: none;\n",
              "      fill: #1967D2;\n",
              "      height: 32px;\n",
              "      padding: 0 0 0 0;\n",
              "      width: 32px;\n",
              "    }\n",
              "\n",
              "    .colab-df-convert:hover {\n",
              "      background-color: #E2EBFA;\n",
              "      box-shadow: 0px 1px 2px rgba(60, 64, 67, 0.3), 0px 1px 3px 1px rgba(60, 64, 67, 0.15);\n",
              "      fill: #174EA6;\n",
              "    }\n",
              "\n",
              "    [theme=dark] .colab-df-convert {\n",
              "      background-color: #3B4455;\n",
              "      fill: #D2E3FC;\n",
              "    }\n",
              "\n",
              "    [theme=dark] .colab-df-convert:hover {\n",
              "      background-color: #434B5C;\n",
              "      box-shadow: 0px 1px 3px 1px rgba(0, 0, 0, 0.15);\n",
              "      filter: drop-shadow(0px 1px 2px rgba(0, 0, 0, 0.3));\n",
              "      fill: #FFFFFF;\n",
              "    }\n",
              "  </style>\n",
              "\n",
              "      <script>\n",
              "        const buttonEl =\n",
              "          document.querySelector('#df-4eaa64d8-510a-4ba8-b0ac-c039c61ed66f button.colab-df-convert');\n",
              "        buttonEl.style.display =\n",
              "          google.colab.kernel.accessAllowed ? 'block' : 'none';\n",
              "\n",
              "        async function convertToInteractive(key) {\n",
              "          const element = document.querySelector('#df-4eaa64d8-510a-4ba8-b0ac-c039c61ed66f');\n",
              "          const dataTable =\n",
              "            await google.colab.kernel.invokeFunction('convertToInteractive',\n",
              "                                                     [key], {});\n",
              "          if (!dataTable) return;\n",
              "\n",
              "          const docLinkHtml = 'Like what you see? Visit the ' +\n",
              "            '<a target=\"_blank\" href=https://colab.research.google.com/notebooks/data_table.ipynb>data table notebook</a>'\n",
              "            + ' to learn more about interactive tables.';\n",
              "          element.innerHTML = '';\n",
              "          dataTable['output_type'] = 'display_data';\n",
              "          await google.colab.output.renderOutput(dataTable, element);\n",
              "          const docLink = document.createElement('div');\n",
              "          docLink.innerHTML = docLinkHtml;\n",
              "          element.appendChild(docLink);\n",
              "        }\n",
              "      </script>\n",
              "    </div>\n",
              "  </div>\n",
              "  "
            ]
          },
          "metadata": {},
          "execution_count": 4
        }
      ]
    },
    {
      "cell_type": "code",
      "source": [
        "#Le hace  un tratamiento a la columna \"lastTradeDate\" y elimina el timezone\n",
        "optionsX['lastTradeDate'] = optionsX['lastTradeDate'].dt.tz_localize(None)"
      ],
      "metadata": {
        "id": "i7JD0xcVzPlu"
      },
      "execution_count": 5,
      "outputs": []
    },
    {
      "cell_type": "code",
      "source": [
        "optionsX"
      ],
      "metadata": {
        "colab": {
          "base_uri": "https://localhost:8080/",
          "height": 661
        },
        "id": "yrLCq6RYzxfl",
        "outputId": "1ca92a94-8920-4394-9837-c962d2e8a03c"
      },
      "execution_count": 6,
      "outputs": [
        {
          "output_type": "execute_result",
          "data": {
            "text/plain": [
              "            contractSymbol       lastTradeDate  strike  lastPrice     bid  \\\n",
              "0      AAPL230526C00090000 2023-05-22 17:53:08    90.0      84.30   83.35   \n",
              "1      AAPL230526C00095000 2023-05-22 17:53:08    95.0      79.55   78.30   \n",
              "2      AAPL230526C00100000 2023-05-24 19:20:03   100.0      72.00   73.30   \n",
              "3      AAPL230526C00105000 2023-05-25 14:21:55   105.0      66.81   68.30   \n",
              "4      AAPL230526C00110000 2023-05-23 15:27:10   110.0      63.04   63.35   \n",
              "...                    ...                 ...     ...        ...     ...   \n",
              "17135  TSLA251219P00350000 2023-05-19 15:38:02   350.0     173.90  168.55   \n",
              "17136  TSLA251219P00360000 2023-05-22 18:04:07   360.0     177.30  178.55   \n",
              "17137  TSLA251219P00370000 2023-05-23 16:09:44   370.0     184.10  186.30   \n",
              "17138  TSLA251219P00380000 2023-05-23 19:28:09   380.0     197.10  195.45   \n",
              "17139  TSLA251219P00390000 2023-05-25 14:29:38   390.0     208.99  205.95   \n",
              "\n",
              "          ask    change  percentChange  volume  openInterest  \\\n",
              "0       83.75  0.000000       0.000000    10.0          15.0   \n",
              "1       78.50  0.000000       0.000000     5.0          12.0   \n",
              "2       73.50  0.000000       0.000000    15.0          12.0   \n",
              "3       68.75  0.209999       0.315314     1.0           4.0   \n",
              "4       63.55  0.000000       0.000000     1.0          14.0   \n",
              "...       ...       ...            ...     ...           ...   \n",
              "17135  172.35  0.000000       0.000000     1.0          27.0   \n",
              "17136  181.30  0.000000       0.000000     3.0          41.0   \n",
              "17137  190.45  0.000000       0.000000     1.0          42.0   \n",
              "17138  199.55  0.000000       0.000000     1.0          28.0   \n",
              "17139  208.85  4.440002       2.170619    10.0          69.0   \n",
              "\n",
              "       impliedVolatility  inTheMoney contractSize currency expirationDate  \\\n",
              "0               4.394536        True      REGULAR      USD     2025-01-01   \n",
              "1               3.718751        True      REGULAR      USD     2025-01-01   \n",
              "2               3.429689        True      REGULAR      USD     2025-01-01   \n",
              "3               3.417970        True      REGULAR      USD     2025-01-01   \n",
              "4               3.000002        True      REGULAR      USD     2025-01-01   \n",
              "...                  ...         ...          ...      ...            ...   \n",
              "17135           0.335669        True      REGULAR      USD     2025-01-01   \n",
              "17136           0.331000        True      REGULAR      USD     2025-01-01   \n",
              "17137           0.327643        True      REGULAR      USD     2025-01-01   \n",
              "17138           0.322150        True      REGULAR      USD     2025-01-01   \n",
              "17139           0.318305        True      REGULAR      USD     2025-01-01   \n",
              "\n",
              "      Symbol  \n",
              "0       AAPL  \n",
              "1       AAPL  \n",
              "2       AAPL  \n",
              "3       AAPL  \n",
              "4       AAPL  \n",
              "...      ...  \n",
              "17135   TSLA  \n",
              "17136   TSLA  \n",
              "17137   TSLA  \n",
              "17138   TSLA  \n",
              "17139   TSLA  \n",
              "\n",
              "[17140 rows x 16 columns]"
            ],
            "text/html": [
              "\n",
              "  <div id=\"df-19f65a05-3878-49ca-acf7-4b3ac9103695\">\n",
              "    <div class=\"colab-df-container\">\n",
              "      <div>\n",
              "<style scoped>\n",
              "    .dataframe tbody tr th:only-of-type {\n",
              "        vertical-align: middle;\n",
              "    }\n",
              "\n",
              "    .dataframe tbody tr th {\n",
              "        vertical-align: top;\n",
              "    }\n",
              "\n",
              "    .dataframe thead th {\n",
              "        text-align: right;\n",
              "    }\n",
              "</style>\n",
              "<table border=\"1\" class=\"dataframe\">\n",
              "  <thead>\n",
              "    <tr style=\"text-align: right;\">\n",
              "      <th></th>\n",
              "      <th>contractSymbol</th>\n",
              "      <th>lastTradeDate</th>\n",
              "      <th>strike</th>\n",
              "      <th>lastPrice</th>\n",
              "      <th>bid</th>\n",
              "      <th>ask</th>\n",
              "      <th>change</th>\n",
              "      <th>percentChange</th>\n",
              "      <th>volume</th>\n",
              "      <th>openInterest</th>\n",
              "      <th>impliedVolatility</th>\n",
              "      <th>inTheMoney</th>\n",
              "      <th>contractSize</th>\n",
              "      <th>currency</th>\n",
              "      <th>expirationDate</th>\n",
              "      <th>Symbol</th>\n",
              "    </tr>\n",
              "  </thead>\n",
              "  <tbody>\n",
              "    <tr>\n",
              "      <th>0</th>\n",
              "      <td>AAPL230526C00090000</td>\n",
              "      <td>2023-05-22 17:53:08</td>\n",
              "      <td>90.0</td>\n",
              "      <td>84.30</td>\n",
              "      <td>83.35</td>\n",
              "      <td>83.75</td>\n",
              "      <td>0.000000</td>\n",
              "      <td>0.000000</td>\n",
              "      <td>10.0</td>\n",
              "      <td>15.0</td>\n",
              "      <td>4.394536</td>\n",
              "      <td>True</td>\n",
              "      <td>REGULAR</td>\n",
              "      <td>USD</td>\n",
              "      <td>2025-01-01</td>\n",
              "      <td>AAPL</td>\n",
              "    </tr>\n",
              "    <tr>\n",
              "      <th>1</th>\n",
              "      <td>AAPL230526C00095000</td>\n",
              "      <td>2023-05-22 17:53:08</td>\n",
              "      <td>95.0</td>\n",
              "      <td>79.55</td>\n",
              "      <td>78.30</td>\n",
              "      <td>78.50</td>\n",
              "      <td>0.000000</td>\n",
              "      <td>0.000000</td>\n",
              "      <td>5.0</td>\n",
              "      <td>12.0</td>\n",
              "      <td>3.718751</td>\n",
              "      <td>True</td>\n",
              "      <td>REGULAR</td>\n",
              "      <td>USD</td>\n",
              "      <td>2025-01-01</td>\n",
              "      <td>AAPL</td>\n",
              "    </tr>\n",
              "    <tr>\n",
              "      <th>2</th>\n",
              "      <td>AAPL230526C00100000</td>\n",
              "      <td>2023-05-24 19:20:03</td>\n",
              "      <td>100.0</td>\n",
              "      <td>72.00</td>\n",
              "      <td>73.30</td>\n",
              "      <td>73.50</td>\n",
              "      <td>0.000000</td>\n",
              "      <td>0.000000</td>\n",
              "      <td>15.0</td>\n",
              "      <td>12.0</td>\n",
              "      <td>3.429689</td>\n",
              "      <td>True</td>\n",
              "      <td>REGULAR</td>\n",
              "      <td>USD</td>\n",
              "      <td>2025-01-01</td>\n",
              "      <td>AAPL</td>\n",
              "    </tr>\n",
              "    <tr>\n",
              "      <th>3</th>\n",
              "      <td>AAPL230526C00105000</td>\n",
              "      <td>2023-05-25 14:21:55</td>\n",
              "      <td>105.0</td>\n",
              "      <td>66.81</td>\n",
              "      <td>68.30</td>\n",
              "      <td>68.75</td>\n",
              "      <td>0.209999</td>\n",
              "      <td>0.315314</td>\n",
              "      <td>1.0</td>\n",
              "      <td>4.0</td>\n",
              "      <td>3.417970</td>\n",
              "      <td>True</td>\n",
              "      <td>REGULAR</td>\n",
              "      <td>USD</td>\n",
              "      <td>2025-01-01</td>\n",
              "      <td>AAPL</td>\n",
              "    </tr>\n",
              "    <tr>\n",
              "      <th>4</th>\n",
              "      <td>AAPL230526C00110000</td>\n",
              "      <td>2023-05-23 15:27:10</td>\n",
              "      <td>110.0</td>\n",
              "      <td>63.04</td>\n",
              "      <td>63.35</td>\n",
              "      <td>63.55</td>\n",
              "      <td>0.000000</td>\n",
              "      <td>0.000000</td>\n",
              "      <td>1.0</td>\n",
              "      <td>14.0</td>\n",
              "      <td>3.000002</td>\n",
              "      <td>True</td>\n",
              "      <td>REGULAR</td>\n",
              "      <td>USD</td>\n",
              "      <td>2025-01-01</td>\n",
              "      <td>AAPL</td>\n",
              "    </tr>\n",
              "    <tr>\n",
              "      <th>...</th>\n",
              "      <td>...</td>\n",
              "      <td>...</td>\n",
              "      <td>...</td>\n",
              "      <td>...</td>\n",
              "      <td>...</td>\n",
              "      <td>...</td>\n",
              "      <td>...</td>\n",
              "      <td>...</td>\n",
              "      <td>...</td>\n",
              "      <td>...</td>\n",
              "      <td>...</td>\n",
              "      <td>...</td>\n",
              "      <td>...</td>\n",
              "      <td>...</td>\n",
              "      <td>...</td>\n",
              "      <td>...</td>\n",
              "    </tr>\n",
              "    <tr>\n",
              "      <th>17135</th>\n",
              "      <td>TSLA251219P00350000</td>\n",
              "      <td>2023-05-19 15:38:02</td>\n",
              "      <td>350.0</td>\n",
              "      <td>173.90</td>\n",
              "      <td>168.55</td>\n",
              "      <td>172.35</td>\n",
              "      <td>0.000000</td>\n",
              "      <td>0.000000</td>\n",
              "      <td>1.0</td>\n",
              "      <td>27.0</td>\n",
              "      <td>0.335669</td>\n",
              "      <td>True</td>\n",
              "      <td>REGULAR</td>\n",
              "      <td>USD</td>\n",
              "      <td>2025-01-01</td>\n",
              "      <td>TSLA</td>\n",
              "    </tr>\n",
              "    <tr>\n",
              "      <th>17136</th>\n",
              "      <td>TSLA251219P00360000</td>\n",
              "      <td>2023-05-22 18:04:07</td>\n",
              "      <td>360.0</td>\n",
              "      <td>177.30</td>\n",
              "      <td>178.55</td>\n",
              "      <td>181.30</td>\n",
              "      <td>0.000000</td>\n",
              "      <td>0.000000</td>\n",
              "      <td>3.0</td>\n",
              "      <td>41.0</td>\n",
              "      <td>0.331000</td>\n",
              "      <td>True</td>\n",
              "      <td>REGULAR</td>\n",
              "      <td>USD</td>\n",
              "      <td>2025-01-01</td>\n",
              "      <td>TSLA</td>\n",
              "    </tr>\n",
              "    <tr>\n",
              "      <th>17137</th>\n",
              "      <td>TSLA251219P00370000</td>\n",
              "      <td>2023-05-23 16:09:44</td>\n",
              "      <td>370.0</td>\n",
              "      <td>184.10</td>\n",
              "      <td>186.30</td>\n",
              "      <td>190.45</td>\n",
              "      <td>0.000000</td>\n",
              "      <td>0.000000</td>\n",
              "      <td>1.0</td>\n",
              "      <td>42.0</td>\n",
              "      <td>0.327643</td>\n",
              "      <td>True</td>\n",
              "      <td>REGULAR</td>\n",
              "      <td>USD</td>\n",
              "      <td>2025-01-01</td>\n",
              "      <td>TSLA</td>\n",
              "    </tr>\n",
              "    <tr>\n",
              "      <th>17138</th>\n",
              "      <td>TSLA251219P00380000</td>\n",
              "      <td>2023-05-23 19:28:09</td>\n",
              "      <td>380.0</td>\n",
              "      <td>197.10</td>\n",
              "      <td>195.45</td>\n",
              "      <td>199.55</td>\n",
              "      <td>0.000000</td>\n",
              "      <td>0.000000</td>\n",
              "      <td>1.0</td>\n",
              "      <td>28.0</td>\n",
              "      <td>0.322150</td>\n",
              "      <td>True</td>\n",
              "      <td>REGULAR</td>\n",
              "      <td>USD</td>\n",
              "      <td>2025-01-01</td>\n",
              "      <td>TSLA</td>\n",
              "    </tr>\n",
              "    <tr>\n",
              "      <th>17139</th>\n",
              "      <td>TSLA251219P00390000</td>\n",
              "      <td>2023-05-25 14:29:38</td>\n",
              "      <td>390.0</td>\n",
              "      <td>208.99</td>\n",
              "      <td>205.95</td>\n",
              "      <td>208.85</td>\n",
              "      <td>4.440002</td>\n",
              "      <td>2.170619</td>\n",
              "      <td>10.0</td>\n",
              "      <td>69.0</td>\n",
              "      <td>0.318305</td>\n",
              "      <td>True</td>\n",
              "      <td>REGULAR</td>\n",
              "      <td>USD</td>\n",
              "      <td>2025-01-01</td>\n",
              "      <td>TSLA</td>\n",
              "    </tr>\n",
              "  </tbody>\n",
              "</table>\n",
              "<p>17140 rows × 16 columns</p>\n",
              "</div>\n",
              "      <button class=\"colab-df-convert\" onclick=\"convertToInteractive('df-19f65a05-3878-49ca-acf7-4b3ac9103695')\"\n",
              "              title=\"Convert this dataframe to an interactive table.\"\n",
              "              style=\"display:none;\">\n",
              "        \n",
              "  <svg xmlns=\"http://www.w3.org/2000/svg\" height=\"24px\"viewBox=\"0 0 24 24\"\n",
              "       width=\"24px\">\n",
              "    <path d=\"M0 0h24v24H0V0z\" fill=\"none\"/>\n",
              "    <path d=\"M18.56 5.44l.94 2.06.94-2.06 2.06-.94-2.06-.94-.94-2.06-.94 2.06-2.06.94zm-11 1L8.5 8.5l.94-2.06 2.06-.94-2.06-.94L8.5 2.5l-.94 2.06-2.06.94zm10 10l.94 2.06.94-2.06 2.06-.94-2.06-.94-.94-2.06-.94 2.06-2.06.94z\"/><path d=\"M17.41 7.96l-1.37-1.37c-.4-.4-.92-.59-1.43-.59-.52 0-1.04.2-1.43.59L10.3 9.45l-7.72 7.72c-.78.78-.78 2.05 0 2.83L4 21.41c.39.39.9.59 1.41.59.51 0 1.02-.2 1.41-.59l7.78-7.78 2.81-2.81c.8-.78.8-2.07 0-2.86zM5.41 20L4 18.59l7.72-7.72 1.47 1.35L5.41 20z\"/>\n",
              "  </svg>\n",
              "      </button>\n",
              "      \n",
              "  <style>\n",
              "    .colab-df-container {\n",
              "      display:flex;\n",
              "      flex-wrap:wrap;\n",
              "      gap: 12px;\n",
              "    }\n",
              "\n",
              "    .colab-df-convert {\n",
              "      background-color: #E8F0FE;\n",
              "      border: none;\n",
              "      border-radius: 50%;\n",
              "      cursor: pointer;\n",
              "      display: none;\n",
              "      fill: #1967D2;\n",
              "      height: 32px;\n",
              "      padding: 0 0 0 0;\n",
              "      width: 32px;\n",
              "    }\n",
              "\n",
              "    .colab-df-convert:hover {\n",
              "      background-color: #E2EBFA;\n",
              "      box-shadow: 0px 1px 2px rgba(60, 64, 67, 0.3), 0px 1px 3px 1px rgba(60, 64, 67, 0.15);\n",
              "      fill: #174EA6;\n",
              "    }\n",
              "\n",
              "    [theme=dark] .colab-df-convert {\n",
              "      background-color: #3B4455;\n",
              "      fill: #D2E3FC;\n",
              "    }\n",
              "\n",
              "    [theme=dark] .colab-df-convert:hover {\n",
              "      background-color: #434B5C;\n",
              "      box-shadow: 0px 1px 3px 1px rgba(0, 0, 0, 0.15);\n",
              "      filter: drop-shadow(0px 1px 2px rgba(0, 0, 0, 0.3));\n",
              "      fill: #FFFFFF;\n",
              "    }\n",
              "  </style>\n",
              "\n",
              "      <script>\n",
              "        const buttonEl =\n",
              "          document.querySelector('#df-19f65a05-3878-49ca-acf7-4b3ac9103695 button.colab-df-convert');\n",
              "        buttonEl.style.display =\n",
              "          google.colab.kernel.accessAllowed ? 'block' : 'none';\n",
              "\n",
              "        async function convertToInteractive(key) {\n",
              "          const element = document.querySelector('#df-19f65a05-3878-49ca-acf7-4b3ac9103695');\n",
              "          const dataTable =\n",
              "            await google.colab.kernel.invokeFunction('convertToInteractive',\n",
              "                                                     [key], {});\n",
              "          if (!dataTable) return;\n",
              "\n",
              "          const docLinkHtml = 'Like what you see? Visit the ' +\n",
              "            '<a target=\"_blank\" href=https://colab.research.google.com/notebooks/data_table.ipynb>data table notebook</a>'\n",
              "            + ' to learn more about interactive tables.';\n",
              "          element.innerHTML = '';\n",
              "          dataTable['output_type'] = 'display_data';\n",
              "          await google.colab.output.renderOutput(dataTable, element);\n",
              "          const docLink = document.createElement('div');\n",
              "          docLink.innerHTML = docLinkHtml;\n",
              "          element.appendChild(docLink);\n",
              "        }\n",
              "      </script>\n",
              "    </div>\n",
              "  </div>\n",
              "  "
            ]
          },
          "metadata": {},
          "execution_count": 6
        }
      ]
    },
    {
      "cell_type": "code",
      "source": [
        "#baja el dataframe optionsX a excel\n",
        "optionsX.to_excel(\"Options_listFetching_expdate_20250101.xlsx\")"
      ],
      "metadata": {
        "id": "6WFsjk961Dhx"
      },
      "execution_count": 12,
      "outputs": []
    },
    {
      "cell_type": "code",
      "source": [
        "optionsX.to_csv('Options_ListFethcing_expdate_20250101.csv', sep=\";\")"
      ],
      "metadata": {
        "id": "GKcWl9SKz112"
      },
      "execution_count": 9,
      "outputs": []
    },
    {
      "cell_type": "markdown",
      "source": [
        "# Nueva sección"
      ],
      "metadata": {
        "id": "JXGqqAP00-4E"
      }
    },
    {
      "cell_type": "code",
      "source": [],
      "metadata": {
        "id": "dzn0BtBQ0_dq"
      },
      "execution_count": null,
      "outputs": []
    }
  ]
}