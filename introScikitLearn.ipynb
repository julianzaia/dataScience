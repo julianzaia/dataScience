{
  "nbformat": 4,
  "nbformat_minor": 0,
  "metadata": {
    "colab": {
      "name": "introScikitLearn.ipynb",
      "provenance": [],
      "authorship_tag": "ABX9TyPtwK/bNSaY7ogbc8QfcX6Q",
      "include_colab_link": true
    },
    "kernelspec": {
      "name": "python3",
      "display_name": "Python 3"
    },
    "language_info": {
      "name": "python"
    }
  },
  "cells": [
    {
      "cell_type": "markdown",
      "metadata": {
        "id": "view-in-github",
        "colab_type": "text"
      },
      "source": [
        "<a href=\"https://colab.research.google.com/github/julianzaia/dataScience/blob/main/introScikitLearn.ipynb\" target=\"_parent\"><img src=\"https://colab.research.google.com/assets/colab-badge.svg\" alt=\"Open In Colab\"/></a>"
      ]
    },
    {
      "cell_type": "code",
      "execution_count": 1,
      "metadata": {
        "id": "055DVJuIeVLx"
      },
      "outputs": [],
      "source": [
        "import pandas as pd\n",
        "import numpy as np"
      ]
    },
    {
      "cell_type": "markdown",
      "source": [
        "Clase 2: Introducción a Scikit-Learn y Aplicación\n",
        "En este notebook vamos a profundizar sobre los siguientes temas vistos hasta la clase 2 con foco en ponerlos en práctica. Este notebook trabaja sobre:\n",
        "\n",
        "Introducción a Scikit-learn\n",
        "Feature engineering (imputaciones, encodings, preprocesamientos)\n",
        "Validación cruzada\n",
        "Métricas\n",
        "Regresión lineal\n",
        "Introducción a modelos basados en árboles\n"
      ],
      "metadata": {
        "id": "kUJWlaW8itnG"
      }
    },
    {
      "cell_type": "code",
      "source": [
        "# Obtenemos el dataset del repositorio original del libro\n",
        "URL = 'https://raw.githubusercontent.com/stedy/Machine-Learning-with-R-datasets/master/insurance.csv'\n",
        "insurance_data = pd.read_csv(URL)\n"
      ],
      "metadata": {
        "id": "2gGmb-wviwRE"
      },
      "execution_count": 2,
      "outputs": []
    },
    {
      "cell_type": "code",
      "source": [
        "insurance_data\n"
      ],
      "metadata": {
        "colab": {
          "base_uri": "https://localhost:8080/",
          "height": 424
        },
        "id": "qsiqIT8MjWxX",
        "outputId": "0995901d-3432-479b-88e1-531f0d23341b"
      },
      "execution_count": 3,
      "outputs": [
        {
          "output_type": "execute_result",
          "data": {
            "text/plain": [
              "      age     sex     bmi  children smoker     region      charges\n",
              "0      19  female  27.900         0    yes  southwest  16884.92400\n",
              "1      18    male  33.770         1     no  southeast   1725.55230\n",
              "2      28    male  33.000         3     no  southeast   4449.46200\n",
              "3      33    male  22.705         0     no  northwest  21984.47061\n",
              "4      32    male  28.880         0     no  northwest   3866.85520\n",
              "...   ...     ...     ...       ...    ...        ...          ...\n",
              "1333   50    male  30.970         3     no  northwest  10600.54830\n",
              "1334   18  female  31.920         0     no  northeast   2205.98080\n",
              "1335   18  female  36.850         0     no  southeast   1629.83350\n",
              "1336   21  female  25.800         0     no  southwest   2007.94500\n",
              "1337   61  female  29.070         0    yes  northwest  29141.36030\n",
              "\n",
              "[1338 rows x 7 columns]"
            ],
            "text/html": [
              "\n",
              "  <div id=\"df-ef1d4141-82c5-477a-aa3f-74b739538f6d\">\n",
              "    <div class=\"colab-df-container\">\n",
              "      <div>\n",
              "<style scoped>\n",
              "    .dataframe tbody tr th:only-of-type {\n",
              "        vertical-align: middle;\n",
              "    }\n",
              "\n",
              "    .dataframe tbody tr th {\n",
              "        vertical-align: top;\n",
              "    }\n",
              "\n",
              "    .dataframe thead th {\n",
              "        text-align: right;\n",
              "    }\n",
              "</style>\n",
              "<table border=\"1\" class=\"dataframe\">\n",
              "  <thead>\n",
              "    <tr style=\"text-align: right;\">\n",
              "      <th></th>\n",
              "      <th>age</th>\n",
              "      <th>sex</th>\n",
              "      <th>bmi</th>\n",
              "      <th>children</th>\n",
              "      <th>smoker</th>\n",
              "      <th>region</th>\n",
              "      <th>charges</th>\n",
              "    </tr>\n",
              "  </thead>\n",
              "  <tbody>\n",
              "    <tr>\n",
              "      <th>0</th>\n",
              "      <td>19</td>\n",
              "      <td>female</td>\n",
              "      <td>27.900</td>\n",
              "      <td>0</td>\n",
              "      <td>yes</td>\n",
              "      <td>southwest</td>\n",
              "      <td>16884.92400</td>\n",
              "    </tr>\n",
              "    <tr>\n",
              "      <th>1</th>\n",
              "      <td>18</td>\n",
              "      <td>male</td>\n",
              "      <td>33.770</td>\n",
              "      <td>1</td>\n",
              "      <td>no</td>\n",
              "      <td>southeast</td>\n",
              "      <td>1725.55230</td>\n",
              "    </tr>\n",
              "    <tr>\n",
              "      <th>2</th>\n",
              "      <td>28</td>\n",
              "      <td>male</td>\n",
              "      <td>33.000</td>\n",
              "      <td>3</td>\n",
              "      <td>no</td>\n",
              "      <td>southeast</td>\n",
              "      <td>4449.46200</td>\n",
              "    </tr>\n",
              "    <tr>\n",
              "      <th>3</th>\n",
              "      <td>33</td>\n",
              "      <td>male</td>\n",
              "      <td>22.705</td>\n",
              "      <td>0</td>\n",
              "      <td>no</td>\n",
              "      <td>northwest</td>\n",
              "      <td>21984.47061</td>\n",
              "    </tr>\n",
              "    <tr>\n",
              "      <th>4</th>\n",
              "      <td>32</td>\n",
              "      <td>male</td>\n",
              "      <td>28.880</td>\n",
              "      <td>0</td>\n",
              "      <td>no</td>\n",
              "      <td>northwest</td>\n",
              "      <td>3866.85520</td>\n",
              "    </tr>\n",
              "    <tr>\n",
              "      <th>...</th>\n",
              "      <td>...</td>\n",
              "      <td>...</td>\n",
              "      <td>...</td>\n",
              "      <td>...</td>\n",
              "      <td>...</td>\n",
              "      <td>...</td>\n",
              "      <td>...</td>\n",
              "    </tr>\n",
              "    <tr>\n",
              "      <th>1333</th>\n",
              "      <td>50</td>\n",
              "      <td>male</td>\n",
              "      <td>30.970</td>\n",
              "      <td>3</td>\n",
              "      <td>no</td>\n",
              "      <td>northwest</td>\n",
              "      <td>10600.54830</td>\n",
              "    </tr>\n",
              "    <tr>\n",
              "      <th>1334</th>\n",
              "      <td>18</td>\n",
              "      <td>female</td>\n",
              "      <td>31.920</td>\n",
              "      <td>0</td>\n",
              "      <td>no</td>\n",
              "      <td>northeast</td>\n",
              "      <td>2205.98080</td>\n",
              "    </tr>\n",
              "    <tr>\n",
              "      <th>1335</th>\n",
              "      <td>18</td>\n",
              "      <td>female</td>\n",
              "      <td>36.850</td>\n",
              "      <td>0</td>\n",
              "      <td>no</td>\n",
              "      <td>southeast</td>\n",
              "      <td>1629.83350</td>\n",
              "    </tr>\n",
              "    <tr>\n",
              "      <th>1336</th>\n",
              "      <td>21</td>\n",
              "      <td>female</td>\n",
              "      <td>25.800</td>\n",
              "      <td>0</td>\n",
              "      <td>no</td>\n",
              "      <td>southwest</td>\n",
              "      <td>2007.94500</td>\n",
              "    </tr>\n",
              "    <tr>\n",
              "      <th>1337</th>\n",
              "      <td>61</td>\n",
              "      <td>female</td>\n",
              "      <td>29.070</td>\n",
              "      <td>0</td>\n",
              "      <td>yes</td>\n",
              "      <td>northwest</td>\n",
              "      <td>29141.36030</td>\n",
              "    </tr>\n",
              "  </tbody>\n",
              "</table>\n",
              "<p>1338 rows × 7 columns</p>\n",
              "</div>\n",
              "      <button class=\"colab-df-convert\" onclick=\"convertToInteractive('df-ef1d4141-82c5-477a-aa3f-74b739538f6d')\"\n",
              "              title=\"Convert this dataframe to an interactive table.\"\n",
              "              style=\"display:none;\">\n",
              "        \n",
              "  <svg xmlns=\"http://www.w3.org/2000/svg\" height=\"24px\"viewBox=\"0 0 24 24\"\n",
              "       width=\"24px\">\n",
              "    <path d=\"M0 0h24v24H0V0z\" fill=\"none\"/>\n",
              "    <path d=\"M18.56 5.44l.94 2.06.94-2.06 2.06-.94-2.06-.94-.94-2.06-.94 2.06-2.06.94zm-11 1L8.5 8.5l.94-2.06 2.06-.94-2.06-.94L8.5 2.5l-.94 2.06-2.06.94zm10 10l.94 2.06.94-2.06 2.06-.94-2.06-.94-.94-2.06-.94 2.06-2.06.94z\"/><path d=\"M17.41 7.96l-1.37-1.37c-.4-.4-.92-.59-1.43-.59-.52 0-1.04.2-1.43.59L10.3 9.45l-7.72 7.72c-.78.78-.78 2.05 0 2.83L4 21.41c.39.39.9.59 1.41.59.51 0 1.02-.2 1.41-.59l7.78-7.78 2.81-2.81c.8-.78.8-2.07 0-2.86zM5.41 20L4 18.59l7.72-7.72 1.47 1.35L5.41 20z\"/>\n",
              "  </svg>\n",
              "      </button>\n",
              "      \n",
              "  <style>\n",
              "    .colab-df-container {\n",
              "      display:flex;\n",
              "      flex-wrap:wrap;\n",
              "      gap: 12px;\n",
              "    }\n",
              "\n",
              "    .colab-df-convert {\n",
              "      background-color: #E8F0FE;\n",
              "      border: none;\n",
              "      border-radius: 50%;\n",
              "      cursor: pointer;\n",
              "      display: none;\n",
              "      fill: #1967D2;\n",
              "      height: 32px;\n",
              "      padding: 0 0 0 0;\n",
              "      width: 32px;\n",
              "    }\n",
              "\n",
              "    .colab-df-convert:hover {\n",
              "      background-color: #E2EBFA;\n",
              "      box-shadow: 0px 1px 2px rgba(60, 64, 67, 0.3), 0px 1px 3px 1px rgba(60, 64, 67, 0.15);\n",
              "      fill: #174EA6;\n",
              "    }\n",
              "\n",
              "    [theme=dark] .colab-df-convert {\n",
              "      background-color: #3B4455;\n",
              "      fill: #D2E3FC;\n",
              "    }\n",
              "\n",
              "    [theme=dark] .colab-df-convert:hover {\n",
              "      background-color: #434B5C;\n",
              "      box-shadow: 0px 1px 3px 1px rgba(0, 0, 0, 0.15);\n",
              "      filter: drop-shadow(0px 1px 2px rgba(0, 0, 0, 0.3));\n",
              "      fill: #FFFFFF;\n",
              "    }\n",
              "  </style>\n",
              "\n",
              "      <script>\n",
              "        const buttonEl =\n",
              "          document.querySelector('#df-ef1d4141-82c5-477a-aa3f-74b739538f6d button.colab-df-convert');\n",
              "        buttonEl.style.display =\n",
              "          google.colab.kernel.accessAllowed ? 'block' : 'none';\n",
              "\n",
              "        async function convertToInteractive(key) {\n",
              "          const element = document.querySelector('#df-ef1d4141-82c5-477a-aa3f-74b739538f6d');\n",
              "          const dataTable =\n",
              "            await google.colab.kernel.invokeFunction('convertToInteractive',\n",
              "                                                     [key], {});\n",
              "          if (!dataTable) return;\n",
              "\n",
              "          const docLinkHtml = 'Like what you see? Visit the ' +\n",
              "            '<a target=\"_blank\" href=https://colab.research.google.com/notebooks/data_table.ipynb>data table notebook</a>'\n",
              "            + ' to learn more about interactive tables.';\n",
              "          element.innerHTML = '';\n",
              "          dataTable['output_type'] = 'display_data';\n",
              "          await google.colab.output.renderOutput(dataTable, element);\n",
              "          const docLink = document.createElement('div');\n",
              "          docLink.innerHTML = docLinkHtml;\n",
              "          element.appendChild(docLink);\n",
              "        }\n",
              "      </script>\n",
              "    </div>\n",
              "  </div>\n",
              "  "
            ]
          },
          "metadata": {},
          "execution_count": 3
        }
      ]
    },
    {
      "cell_type": "markdown",
      "source": [
        "Veamos si hay datos faltantes, y algunas estadísticas descriptivas de cada atributo:\n"
      ],
      "metadata": {
        "id": "2oAJJcwtjfVr"
      }
    },
    {
      "cell_type": "code",
      "source": [
        "insurance_data.describe(include=\"all\")"
      ],
      "metadata": {
        "colab": {
          "base_uri": "https://localhost:8080/",
          "height": 394
        },
        "id": "SHyT4bpljhxF",
        "outputId": "f589f7d4-a3eb-4541-a1dc-612c26e512c3"
      },
      "execution_count": 4,
      "outputs": [
        {
          "output_type": "execute_result",
          "data": {
            "text/plain": [
              "                age   sex          bmi     children smoker     region  \\\n",
              "count   1338.000000  1338  1338.000000  1338.000000   1338       1338   \n",
              "unique          NaN     2          NaN          NaN      2          4   \n",
              "top             NaN  male          NaN          NaN     no  southeast   \n",
              "freq            NaN   676          NaN          NaN   1064        364   \n",
              "mean      39.207025   NaN    30.663397     1.094918    NaN        NaN   \n",
              "std       14.049960   NaN     6.098187     1.205493    NaN        NaN   \n",
              "min       18.000000   NaN    15.960000     0.000000    NaN        NaN   \n",
              "25%       27.000000   NaN    26.296250     0.000000    NaN        NaN   \n",
              "50%       39.000000   NaN    30.400000     1.000000    NaN        NaN   \n",
              "75%       51.000000   NaN    34.693750     2.000000    NaN        NaN   \n",
              "max       64.000000   NaN    53.130000     5.000000    NaN        NaN   \n",
              "\n",
              "             charges  \n",
              "count    1338.000000  \n",
              "unique           NaN  \n",
              "top              NaN  \n",
              "freq             NaN  \n",
              "mean    13270.422265  \n",
              "std     12110.011237  \n",
              "min      1121.873900  \n",
              "25%      4740.287150  \n",
              "50%      9382.033000  \n",
              "75%     16639.912515  \n",
              "max     63770.428010  "
            ],
            "text/html": [
              "\n",
              "  <div id=\"df-6ba6d7b7-2886-40f4-8b5a-d25a785d7fe5\">\n",
              "    <div class=\"colab-df-container\">\n",
              "      <div>\n",
              "<style scoped>\n",
              "    .dataframe tbody tr th:only-of-type {\n",
              "        vertical-align: middle;\n",
              "    }\n",
              "\n",
              "    .dataframe tbody tr th {\n",
              "        vertical-align: top;\n",
              "    }\n",
              "\n",
              "    .dataframe thead th {\n",
              "        text-align: right;\n",
              "    }\n",
              "</style>\n",
              "<table border=\"1\" class=\"dataframe\">\n",
              "  <thead>\n",
              "    <tr style=\"text-align: right;\">\n",
              "      <th></th>\n",
              "      <th>age</th>\n",
              "      <th>sex</th>\n",
              "      <th>bmi</th>\n",
              "      <th>children</th>\n",
              "      <th>smoker</th>\n",
              "      <th>region</th>\n",
              "      <th>charges</th>\n",
              "    </tr>\n",
              "  </thead>\n",
              "  <tbody>\n",
              "    <tr>\n",
              "      <th>count</th>\n",
              "      <td>1338.000000</td>\n",
              "      <td>1338</td>\n",
              "      <td>1338.000000</td>\n",
              "      <td>1338.000000</td>\n",
              "      <td>1338</td>\n",
              "      <td>1338</td>\n",
              "      <td>1338.000000</td>\n",
              "    </tr>\n",
              "    <tr>\n",
              "      <th>unique</th>\n",
              "      <td>NaN</td>\n",
              "      <td>2</td>\n",
              "      <td>NaN</td>\n",
              "      <td>NaN</td>\n",
              "      <td>2</td>\n",
              "      <td>4</td>\n",
              "      <td>NaN</td>\n",
              "    </tr>\n",
              "    <tr>\n",
              "      <th>top</th>\n",
              "      <td>NaN</td>\n",
              "      <td>male</td>\n",
              "      <td>NaN</td>\n",
              "      <td>NaN</td>\n",
              "      <td>no</td>\n",
              "      <td>southeast</td>\n",
              "      <td>NaN</td>\n",
              "    </tr>\n",
              "    <tr>\n",
              "      <th>freq</th>\n",
              "      <td>NaN</td>\n",
              "      <td>676</td>\n",
              "      <td>NaN</td>\n",
              "      <td>NaN</td>\n",
              "      <td>1064</td>\n",
              "      <td>364</td>\n",
              "      <td>NaN</td>\n",
              "    </tr>\n",
              "    <tr>\n",
              "      <th>mean</th>\n",
              "      <td>39.207025</td>\n",
              "      <td>NaN</td>\n",
              "      <td>30.663397</td>\n",
              "      <td>1.094918</td>\n",
              "      <td>NaN</td>\n",
              "      <td>NaN</td>\n",
              "      <td>13270.422265</td>\n",
              "    </tr>\n",
              "    <tr>\n",
              "      <th>std</th>\n",
              "      <td>14.049960</td>\n",
              "      <td>NaN</td>\n",
              "      <td>6.098187</td>\n",
              "      <td>1.205493</td>\n",
              "      <td>NaN</td>\n",
              "      <td>NaN</td>\n",
              "      <td>12110.011237</td>\n",
              "    </tr>\n",
              "    <tr>\n",
              "      <th>min</th>\n",
              "      <td>18.000000</td>\n",
              "      <td>NaN</td>\n",
              "      <td>15.960000</td>\n",
              "      <td>0.000000</td>\n",
              "      <td>NaN</td>\n",
              "      <td>NaN</td>\n",
              "      <td>1121.873900</td>\n",
              "    </tr>\n",
              "    <tr>\n",
              "      <th>25%</th>\n",
              "      <td>27.000000</td>\n",
              "      <td>NaN</td>\n",
              "      <td>26.296250</td>\n",
              "      <td>0.000000</td>\n",
              "      <td>NaN</td>\n",
              "      <td>NaN</td>\n",
              "      <td>4740.287150</td>\n",
              "    </tr>\n",
              "    <tr>\n",
              "      <th>50%</th>\n",
              "      <td>39.000000</td>\n",
              "      <td>NaN</td>\n",
              "      <td>30.400000</td>\n",
              "      <td>1.000000</td>\n",
              "      <td>NaN</td>\n",
              "      <td>NaN</td>\n",
              "      <td>9382.033000</td>\n",
              "    </tr>\n",
              "    <tr>\n",
              "      <th>75%</th>\n",
              "      <td>51.000000</td>\n",
              "      <td>NaN</td>\n",
              "      <td>34.693750</td>\n",
              "      <td>2.000000</td>\n",
              "      <td>NaN</td>\n",
              "      <td>NaN</td>\n",
              "      <td>16639.912515</td>\n",
              "    </tr>\n",
              "    <tr>\n",
              "      <th>max</th>\n",
              "      <td>64.000000</td>\n",
              "      <td>NaN</td>\n",
              "      <td>53.130000</td>\n",
              "      <td>5.000000</td>\n",
              "      <td>NaN</td>\n",
              "      <td>NaN</td>\n",
              "      <td>63770.428010</td>\n",
              "    </tr>\n",
              "  </tbody>\n",
              "</table>\n",
              "</div>\n",
              "      <button class=\"colab-df-convert\" onclick=\"convertToInteractive('df-6ba6d7b7-2886-40f4-8b5a-d25a785d7fe5')\"\n",
              "              title=\"Convert this dataframe to an interactive table.\"\n",
              "              style=\"display:none;\">\n",
              "        \n",
              "  <svg xmlns=\"http://www.w3.org/2000/svg\" height=\"24px\"viewBox=\"0 0 24 24\"\n",
              "       width=\"24px\">\n",
              "    <path d=\"M0 0h24v24H0V0z\" fill=\"none\"/>\n",
              "    <path d=\"M18.56 5.44l.94 2.06.94-2.06 2.06-.94-2.06-.94-.94-2.06-.94 2.06-2.06.94zm-11 1L8.5 8.5l.94-2.06 2.06-.94-2.06-.94L8.5 2.5l-.94 2.06-2.06.94zm10 10l.94 2.06.94-2.06 2.06-.94-2.06-.94-.94-2.06-.94 2.06-2.06.94z\"/><path d=\"M17.41 7.96l-1.37-1.37c-.4-.4-.92-.59-1.43-.59-.52 0-1.04.2-1.43.59L10.3 9.45l-7.72 7.72c-.78.78-.78 2.05 0 2.83L4 21.41c.39.39.9.59 1.41.59.51 0 1.02-.2 1.41-.59l7.78-7.78 2.81-2.81c.8-.78.8-2.07 0-2.86zM5.41 20L4 18.59l7.72-7.72 1.47 1.35L5.41 20z\"/>\n",
              "  </svg>\n",
              "      </button>\n",
              "      \n",
              "  <style>\n",
              "    .colab-df-container {\n",
              "      display:flex;\n",
              "      flex-wrap:wrap;\n",
              "      gap: 12px;\n",
              "    }\n",
              "\n",
              "    .colab-df-convert {\n",
              "      background-color: #E8F0FE;\n",
              "      border: none;\n",
              "      border-radius: 50%;\n",
              "      cursor: pointer;\n",
              "      display: none;\n",
              "      fill: #1967D2;\n",
              "      height: 32px;\n",
              "      padding: 0 0 0 0;\n",
              "      width: 32px;\n",
              "    }\n",
              "\n",
              "    .colab-df-convert:hover {\n",
              "      background-color: #E2EBFA;\n",
              "      box-shadow: 0px 1px 2px rgba(60, 64, 67, 0.3), 0px 1px 3px 1px rgba(60, 64, 67, 0.15);\n",
              "      fill: #174EA6;\n",
              "    }\n",
              "\n",
              "    [theme=dark] .colab-df-convert {\n",
              "      background-color: #3B4455;\n",
              "      fill: #D2E3FC;\n",
              "    }\n",
              "\n",
              "    [theme=dark] .colab-df-convert:hover {\n",
              "      background-color: #434B5C;\n",
              "      box-shadow: 0px 1px 3px 1px rgba(0, 0, 0, 0.15);\n",
              "      filter: drop-shadow(0px 1px 2px rgba(0, 0, 0, 0.3));\n",
              "      fill: #FFFFFF;\n",
              "    }\n",
              "  </style>\n",
              "\n",
              "      <script>\n",
              "        const buttonEl =\n",
              "          document.querySelector('#df-6ba6d7b7-2886-40f4-8b5a-d25a785d7fe5 button.colab-df-convert');\n",
              "        buttonEl.style.display =\n",
              "          google.colab.kernel.accessAllowed ? 'block' : 'none';\n",
              "\n",
              "        async function convertToInteractive(key) {\n",
              "          const element = document.querySelector('#df-6ba6d7b7-2886-40f4-8b5a-d25a785d7fe5');\n",
              "          const dataTable =\n",
              "            await google.colab.kernel.invokeFunction('convertToInteractive',\n",
              "                                                     [key], {});\n",
              "          if (!dataTable) return;\n",
              "\n",
              "          const docLinkHtml = 'Like what you see? Visit the ' +\n",
              "            '<a target=\"_blank\" href=https://colab.research.google.com/notebooks/data_table.ipynb>data table notebook</a>'\n",
              "            + ' to learn more about interactive tables.';\n",
              "          element.innerHTML = '';\n",
              "          dataTable['output_type'] = 'display_data';\n",
              "          await google.colab.output.renderOutput(dataTable, element);\n",
              "          const docLink = document.createElement('div');\n",
              "          docLink.innerHTML = docLinkHtml;\n",
              "          element.appendChild(docLink);\n",
              "        }\n",
              "      </script>\n",
              "    </div>\n",
              "  </div>\n",
              "  "
            ]
          },
          "metadata": {},
          "execution_count": 4
        }
      ]
    },
    {
      "cell_type": "markdown",
      "source": [
        "No hay datos faltantes! Introduzcamos algunos:\n"
      ],
      "metadata": {
        "id": "_WOiYYZDjtLU"
      }
    },
    {
      "cell_type": "code",
      "source": [
        "insurance_data_with_missing = insurance_data.copy()\n",
        "insurance_data_with_missing.loc[np.random.random(len(insurance_data)) < 0.05, \"bmi\"] = np.nan\n",
        "insurance_data_with_missing.describe(include=\"all\")"
      ],
      "metadata": {
        "colab": {
          "base_uri": "https://localhost:8080/",
          "height": 394
        },
        "id": "jzlwMfvZjuTU",
        "outputId": "1d0cc0a7-db1a-4bfe-e328-d2deb8632f2a"
      },
      "execution_count": 5,
      "outputs": [
        {
          "output_type": "execute_result",
          "data": {
            "text/plain": [
              "                age   sex          bmi     children smoker     region  \\\n",
              "count   1338.000000  1338  1288.000000  1338.000000   1338       1338   \n",
              "unique          NaN     2          NaN          NaN      2          4   \n",
              "top             NaN  male          NaN          NaN     no  southeast   \n",
              "freq            NaN   676          NaN          NaN   1064        364   \n",
              "mean      39.207025   NaN    30.688618     1.094918    NaN        NaN   \n",
              "std       14.049960   NaN     6.074465     1.205493    NaN        NaN   \n",
              "min       18.000000   NaN    15.960000     0.000000    NaN        NaN   \n",
              "25%       27.000000   NaN    26.315000     0.000000    NaN        NaN   \n",
              "50%       39.000000   NaN    30.380000     1.000000    NaN        NaN   \n",
              "75%       51.000000   NaN    34.681250     2.000000    NaN        NaN   \n",
              "max       64.000000   NaN    53.130000     5.000000    NaN        NaN   \n",
              "\n",
              "             charges  \n",
              "count    1338.000000  \n",
              "unique           NaN  \n",
              "top              NaN  \n",
              "freq             NaN  \n",
              "mean    13270.422265  \n",
              "std     12110.011237  \n",
              "min      1121.873900  \n",
              "25%      4740.287150  \n",
              "50%      9382.033000  \n",
              "75%     16639.912515  \n",
              "max     63770.428010  "
            ],
            "text/html": [
              "\n",
              "  <div id=\"df-a3f9e8f6-ca4b-4943-b5de-601b63ae7425\">\n",
              "    <div class=\"colab-df-container\">\n",
              "      <div>\n",
              "<style scoped>\n",
              "    .dataframe tbody tr th:only-of-type {\n",
              "        vertical-align: middle;\n",
              "    }\n",
              "\n",
              "    .dataframe tbody tr th {\n",
              "        vertical-align: top;\n",
              "    }\n",
              "\n",
              "    .dataframe thead th {\n",
              "        text-align: right;\n",
              "    }\n",
              "</style>\n",
              "<table border=\"1\" class=\"dataframe\">\n",
              "  <thead>\n",
              "    <tr style=\"text-align: right;\">\n",
              "      <th></th>\n",
              "      <th>age</th>\n",
              "      <th>sex</th>\n",
              "      <th>bmi</th>\n",
              "      <th>children</th>\n",
              "      <th>smoker</th>\n",
              "      <th>region</th>\n",
              "      <th>charges</th>\n",
              "    </tr>\n",
              "  </thead>\n",
              "  <tbody>\n",
              "    <tr>\n",
              "      <th>count</th>\n",
              "      <td>1338.000000</td>\n",
              "      <td>1338</td>\n",
              "      <td>1288.000000</td>\n",
              "      <td>1338.000000</td>\n",
              "      <td>1338</td>\n",
              "      <td>1338</td>\n",
              "      <td>1338.000000</td>\n",
              "    </tr>\n",
              "    <tr>\n",
              "      <th>unique</th>\n",
              "      <td>NaN</td>\n",
              "      <td>2</td>\n",
              "      <td>NaN</td>\n",
              "      <td>NaN</td>\n",
              "      <td>2</td>\n",
              "      <td>4</td>\n",
              "      <td>NaN</td>\n",
              "    </tr>\n",
              "    <tr>\n",
              "      <th>top</th>\n",
              "      <td>NaN</td>\n",
              "      <td>male</td>\n",
              "      <td>NaN</td>\n",
              "      <td>NaN</td>\n",
              "      <td>no</td>\n",
              "      <td>southeast</td>\n",
              "      <td>NaN</td>\n",
              "    </tr>\n",
              "    <tr>\n",
              "      <th>freq</th>\n",
              "      <td>NaN</td>\n",
              "      <td>676</td>\n",
              "      <td>NaN</td>\n",
              "      <td>NaN</td>\n",
              "      <td>1064</td>\n",
              "      <td>364</td>\n",
              "      <td>NaN</td>\n",
              "    </tr>\n",
              "    <tr>\n",
              "      <th>mean</th>\n",
              "      <td>39.207025</td>\n",
              "      <td>NaN</td>\n",
              "      <td>30.688618</td>\n",
              "      <td>1.094918</td>\n",
              "      <td>NaN</td>\n",
              "      <td>NaN</td>\n",
              "      <td>13270.422265</td>\n",
              "    </tr>\n",
              "    <tr>\n",
              "      <th>std</th>\n",
              "      <td>14.049960</td>\n",
              "      <td>NaN</td>\n",
              "      <td>6.074465</td>\n",
              "      <td>1.205493</td>\n",
              "      <td>NaN</td>\n",
              "      <td>NaN</td>\n",
              "      <td>12110.011237</td>\n",
              "    </tr>\n",
              "    <tr>\n",
              "      <th>min</th>\n",
              "      <td>18.000000</td>\n",
              "      <td>NaN</td>\n",
              "      <td>15.960000</td>\n",
              "      <td>0.000000</td>\n",
              "      <td>NaN</td>\n",
              "      <td>NaN</td>\n",
              "      <td>1121.873900</td>\n",
              "    </tr>\n",
              "    <tr>\n",
              "      <th>25%</th>\n",
              "      <td>27.000000</td>\n",
              "      <td>NaN</td>\n",
              "      <td>26.315000</td>\n",
              "      <td>0.000000</td>\n",
              "      <td>NaN</td>\n",
              "      <td>NaN</td>\n",
              "      <td>4740.287150</td>\n",
              "    </tr>\n",
              "    <tr>\n",
              "      <th>50%</th>\n",
              "      <td>39.000000</td>\n",
              "      <td>NaN</td>\n",
              "      <td>30.380000</td>\n",
              "      <td>1.000000</td>\n",
              "      <td>NaN</td>\n",
              "      <td>NaN</td>\n",
              "      <td>9382.033000</td>\n",
              "    </tr>\n",
              "    <tr>\n",
              "      <th>75%</th>\n",
              "      <td>51.000000</td>\n",
              "      <td>NaN</td>\n",
              "      <td>34.681250</td>\n",
              "      <td>2.000000</td>\n",
              "      <td>NaN</td>\n",
              "      <td>NaN</td>\n",
              "      <td>16639.912515</td>\n",
              "    </tr>\n",
              "    <tr>\n",
              "      <th>max</th>\n",
              "      <td>64.000000</td>\n",
              "      <td>NaN</td>\n",
              "      <td>53.130000</td>\n",
              "      <td>5.000000</td>\n",
              "      <td>NaN</td>\n",
              "      <td>NaN</td>\n",
              "      <td>63770.428010</td>\n",
              "    </tr>\n",
              "  </tbody>\n",
              "</table>\n",
              "</div>\n",
              "      <button class=\"colab-df-convert\" onclick=\"convertToInteractive('df-a3f9e8f6-ca4b-4943-b5de-601b63ae7425')\"\n",
              "              title=\"Convert this dataframe to an interactive table.\"\n",
              "              style=\"display:none;\">\n",
              "        \n",
              "  <svg xmlns=\"http://www.w3.org/2000/svg\" height=\"24px\"viewBox=\"0 0 24 24\"\n",
              "       width=\"24px\">\n",
              "    <path d=\"M0 0h24v24H0V0z\" fill=\"none\"/>\n",
              "    <path d=\"M18.56 5.44l.94 2.06.94-2.06 2.06-.94-2.06-.94-.94-2.06-.94 2.06-2.06.94zm-11 1L8.5 8.5l.94-2.06 2.06-.94-2.06-.94L8.5 2.5l-.94 2.06-2.06.94zm10 10l.94 2.06.94-2.06 2.06-.94-2.06-.94-.94-2.06-.94 2.06-2.06.94z\"/><path d=\"M17.41 7.96l-1.37-1.37c-.4-.4-.92-.59-1.43-.59-.52 0-1.04.2-1.43.59L10.3 9.45l-7.72 7.72c-.78.78-.78 2.05 0 2.83L4 21.41c.39.39.9.59 1.41.59.51 0 1.02-.2 1.41-.59l7.78-7.78 2.81-2.81c.8-.78.8-2.07 0-2.86zM5.41 20L4 18.59l7.72-7.72 1.47 1.35L5.41 20z\"/>\n",
              "  </svg>\n",
              "      </button>\n",
              "      \n",
              "  <style>\n",
              "    .colab-df-container {\n",
              "      display:flex;\n",
              "      flex-wrap:wrap;\n",
              "      gap: 12px;\n",
              "    }\n",
              "\n",
              "    .colab-df-convert {\n",
              "      background-color: #E8F0FE;\n",
              "      border: none;\n",
              "      border-radius: 50%;\n",
              "      cursor: pointer;\n",
              "      display: none;\n",
              "      fill: #1967D2;\n",
              "      height: 32px;\n",
              "      padding: 0 0 0 0;\n",
              "      width: 32px;\n",
              "    }\n",
              "\n",
              "    .colab-df-convert:hover {\n",
              "      background-color: #E2EBFA;\n",
              "      box-shadow: 0px 1px 2px rgba(60, 64, 67, 0.3), 0px 1px 3px 1px rgba(60, 64, 67, 0.15);\n",
              "      fill: #174EA6;\n",
              "    }\n",
              "\n",
              "    [theme=dark] .colab-df-convert {\n",
              "      background-color: #3B4455;\n",
              "      fill: #D2E3FC;\n",
              "    }\n",
              "\n",
              "    [theme=dark] .colab-df-convert:hover {\n",
              "      background-color: #434B5C;\n",
              "      box-shadow: 0px 1px 3px 1px rgba(0, 0, 0, 0.15);\n",
              "      filter: drop-shadow(0px 1px 2px rgba(0, 0, 0, 0.3));\n",
              "      fill: #FFFFFF;\n",
              "    }\n",
              "  </style>\n",
              "\n",
              "      <script>\n",
              "        const buttonEl =\n",
              "          document.querySelector('#df-a3f9e8f6-ca4b-4943-b5de-601b63ae7425 button.colab-df-convert');\n",
              "        buttonEl.style.display =\n",
              "          google.colab.kernel.accessAllowed ? 'block' : 'none';\n",
              "\n",
              "        async function convertToInteractive(key) {\n",
              "          const element = document.querySelector('#df-a3f9e8f6-ca4b-4943-b5de-601b63ae7425');\n",
              "          const dataTable =\n",
              "            await google.colab.kernel.invokeFunction('convertToInteractive',\n",
              "                                                     [key], {});\n",
              "          if (!dataTable) return;\n",
              "\n",
              "          const docLinkHtml = 'Like what you see? Visit the ' +\n",
              "            '<a target=\"_blank\" href=https://colab.research.google.com/notebooks/data_table.ipynb>data table notebook</a>'\n",
              "            + ' to learn more about interactive tables.';\n",
              "          element.innerHTML = '';\n",
              "          dataTable['output_type'] = 'display_data';\n",
              "          await google.colab.output.renderOutput(dataTable, element);\n",
              "          const docLink = document.createElement('div');\n",
              "          docLink.innerHTML = docLinkHtml;\n",
              "          element.appendChild(docLink);\n",
              "        }\n",
              "      </script>\n",
              "    </div>\n",
              "  </div>\n",
              "  "
            ]
          },
          "metadata": {},
          "execution_count": 5
        }
      ]
    },
    {
      "cell_type": "markdown",
      "source": [
        "Separación en train y test\n",
        "Para evitar sesgos, no sólo el entrenamiento del modelo debe ser sobre un subconjunto de los datos apartado. También los análisis que hagamos y el feature engineering que implementemos.\n"
      ],
      "metadata": {
        "id": "AppNZ9Okj_qA"
      }
    },
    {
      "cell_type": "code",
      "source": [
        "from sklearn.model_selection import train_test_split"
      ],
      "metadata": {
        "id": "ZDTT4K5bkA_Z"
      },
      "execution_count": 6,
      "outputs": []
    },
    {
      "cell_type": "code",
      "source": [
        "train, test = train_test_split(\n",
        "    insurance_data_with_missing, \n",
        "    test_size=0.3, \n",
        "    random_state=42, \n",
        "    shuffle=True\n",
        ")\n",
        "train.head()"
      ],
      "metadata": {
        "colab": {
          "base_uri": "https://localhost:8080/",
          "height": 206
        },
        "id": "4m_zkzDDkJtp",
        "outputId": "d4a4de17-2c49-4e39-9e56-67f21afa6570"
      },
      "execution_count": 7,
      "outputs": [
        {
          "output_type": "execute_result",
          "data": {
            "text/plain": [
              "     age     sex     bmi  children smoker     region      charges\n",
              "332   61  female  31.160         0     no  northwest  13429.03540\n",
              "355   46    male  27.600         0     no  southwest  24603.04837\n",
              "138   54  female  31.900         3     no  southeast  27322.73386\n",
              "381   55    male  30.685         0    yes  northeast  42303.69215\n",
              "292   25    male  45.540         2    yes  southeast  42112.23560"
            ],
            "text/html": [
              "\n",
              "  <div id=\"df-2848f370-6e3a-491e-bd0d-c438355744fa\">\n",
              "    <div class=\"colab-df-container\">\n",
              "      <div>\n",
              "<style scoped>\n",
              "    .dataframe tbody tr th:only-of-type {\n",
              "        vertical-align: middle;\n",
              "    }\n",
              "\n",
              "    .dataframe tbody tr th {\n",
              "        vertical-align: top;\n",
              "    }\n",
              "\n",
              "    .dataframe thead th {\n",
              "        text-align: right;\n",
              "    }\n",
              "</style>\n",
              "<table border=\"1\" class=\"dataframe\">\n",
              "  <thead>\n",
              "    <tr style=\"text-align: right;\">\n",
              "      <th></th>\n",
              "      <th>age</th>\n",
              "      <th>sex</th>\n",
              "      <th>bmi</th>\n",
              "      <th>children</th>\n",
              "      <th>smoker</th>\n",
              "      <th>region</th>\n",
              "      <th>charges</th>\n",
              "    </tr>\n",
              "  </thead>\n",
              "  <tbody>\n",
              "    <tr>\n",
              "      <th>332</th>\n",
              "      <td>61</td>\n",
              "      <td>female</td>\n",
              "      <td>31.160</td>\n",
              "      <td>0</td>\n",
              "      <td>no</td>\n",
              "      <td>northwest</td>\n",
              "      <td>13429.03540</td>\n",
              "    </tr>\n",
              "    <tr>\n",
              "      <th>355</th>\n",
              "      <td>46</td>\n",
              "      <td>male</td>\n",
              "      <td>27.600</td>\n",
              "      <td>0</td>\n",
              "      <td>no</td>\n",
              "      <td>southwest</td>\n",
              "      <td>24603.04837</td>\n",
              "    </tr>\n",
              "    <tr>\n",
              "      <th>138</th>\n",
              "      <td>54</td>\n",
              "      <td>female</td>\n",
              "      <td>31.900</td>\n",
              "      <td>3</td>\n",
              "      <td>no</td>\n",
              "      <td>southeast</td>\n",
              "      <td>27322.73386</td>\n",
              "    </tr>\n",
              "    <tr>\n",
              "      <th>381</th>\n",
              "      <td>55</td>\n",
              "      <td>male</td>\n",
              "      <td>30.685</td>\n",
              "      <td>0</td>\n",
              "      <td>yes</td>\n",
              "      <td>northeast</td>\n",
              "      <td>42303.69215</td>\n",
              "    </tr>\n",
              "    <tr>\n",
              "      <th>292</th>\n",
              "      <td>25</td>\n",
              "      <td>male</td>\n",
              "      <td>45.540</td>\n",
              "      <td>2</td>\n",
              "      <td>yes</td>\n",
              "      <td>southeast</td>\n",
              "      <td>42112.23560</td>\n",
              "    </tr>\n",
              "  </tbody>\n",
              "</table>\n",
              "</div>\n",
              "      <button class=\"colab-df-convert\" onclick=\"convertToInteractive('df-2848f370-6e3a-491e-bd0d-c438355744fa')\"\n",
              "              title=\"Convert this dataframe to an interactive table.\"\n",
              "              style=\"display:none;\">\n",
              "        \n",
              "  <svg xmlns=\"http://www.w3.org/2000/svg\" height=\"24px\"viewBox=\"0 0 24 24\"\n",
              "       width=\"24px\">\n",
              "    <path d=\"M0 0h24v24H0V0z\" fill=\"none\"/>\n",
              "    <path d=\"M18.56 5.44l.94 2.06.94-2.06 2.06-.94-2.06-.94-.94-2.06-.94 2.06-2.06.94zm-11 1L8.5 8.5l.94-2.06 2.06-.94-2.06-.94L8.5 2.5l-.94 2.06-2.06.94zm10 10l.94 2.06.94-2.06 2.06-.94-2.06-.94-.94-2.06-.94 2.06-2.06.94z\"/><path d=\"M17.41 7.96l-1.37-1.37c-.4-.4-.92-.59-1.43-.59-.52 0-1.04.2-1.43.59L10.3 9.45l-7.72 7.72c-.78.78-.78 2.05 0 2.83L4 21.41c.39.39.9.59 1.41.59.51 0 1.02-.2 1.41-.59l7.78-7.78 2.81-2.81c.8-.78.8-2.07 0-2.86zM5.41 20L4 18.59l7.72-7.72 1.47 1.35L5.41 20z\"/>\n",
              "  </svg>\n",
              "      </button>\n",
              "      \n",
              "  <style>\n",
              "    .colab-df-container {\n",
              "      display:flex;\n",
              "      flex-wrap:wrap;\n",
              "      gap: 12px;\n",
              "    }\n",
              "\n",
              "    .colab-df-convert {\n",
              "      background-color: #E8F0FE;\n",
              "      border: none;\n",
              "      border-radius: 50%;\n",
              "      cursor: pointer;\n",
              "      display: none;\n",
              "      fill: #1967D2;\n",
              "      height: 32px;\n",
              "      padding: 0 0 0 0;\n",
              "      width: 32px;\n",
              "    }\n",
              "\n",
              "    .colab-df-convert:hover {\n",
              "      background-color: #E2EBFA;\n",
              "      box-shadow: 0px 1px 2px rgba(60, 64, 67, 0.3), 0px 1px 3px 1px rgba(60, 64, 67, 0.15);\n",
              "      fill: #174EA6;\n",
              "    }\n",
              "\n",
              "    [theme=dark] .colab-df-convert {\n",
              "      background-color: #3B4455;\n",
              "      fill: #D2E3FC;\n",
              "    }\n",
              "\n",
              "    [theme=dark] .colab-df-convert:hover {\n",
              "      background-color: #434B5C;\n",
              "      box-shadow: 0px 1px 3px 1px rgba(0, 0, 0, 0.15);\n",
              "      filter: drop-shadow(0px 1px 2px rgba(0, 0, 0, 0.3));\n",
              "      fill: #FFFFFF;\n",
              "    }\n",
              "  </style>\n",
              "\n",
              "      <script>\n",
              "        const buttonEl =\n",
              "          document.querySelector('#df-2848f370-6e3a-491e-bd0d-c438355744fa button.colab-df-convert');\n",
              "        buttonEl.style.display =\n",
              "          google.colab.kernel.accessAllowed ? 'block' : 'none';\n",
              "\n",
              "        async function convertToInteractive(key) {\n",
              "          const element = document.querySelector('#df-2848f370-6e3a-491e-bd0d-c438355744fa');\n",
              "          const dataTable =\n",
              "            await google.colab.kernel.invokeFunction('convertToInteractive',\n",
              "                                                     [key], {});\n",
              "          if (!dataTable) return;\n",
              "\n",
              "          const docLinkHtml = 'Like what you see? Visit the ' +\n",
              "            '<a target=\"_blank\" href=https://colab.research.google.com/notebooks/data_table.ipynb>data table notebook</a>'\n",
              "            + ' to learn more about interactive tables.';\n",
              "          element.innerHTML = '';\n",
              "          dataTable['output_type'] = 'display_data';\n",
              "          await google.colab.output.renderOutput(dataTable, element);\n",
              "          const docLink = document.createElement('div');\n",
              "          docLink.innerHTML = docLinkHtml;\n",
              "          element.appendChild(docLink);\n",
              "        }\n",
              "      </script>\n",
              "    </div>\n",
              "  </div>\n",
              "  "
            ]
          },
          "metadata": {},
          "execution_count": 7
        }
      ]
    },
    {
      "cell_type": "code",
      "source": [
        "train.describe(include=\"all\")\n"
      ],
      "metadata": {
        "colab": {
          "base_uri": "https://localhost:8080/",
          "height": 394
        },
        "id": "L5ImLSJbkQZz",
        "outputId": "aa91f9a7-cf63-46b4-eece-c912edc52b89"
      },
      "execution_count": 8,
      "outputs": [
        {
          "output_type": "execute_result",
          "data": {
            "text/plain": [
              "              age   sex        bmi    children smoker     region       charges\n",
              "count   936.00000   936  903.00000  936.000000    936        936    936.000000\n",
              "unique        NaN     2        NaN         NaN      2          4           NaN\n",
              "top           NaN  male        NaN         NaN     no  southeast           NaN\n",
              "freq          NaN   480        NaN         NaN    741        244           NaN\n",
              "mean     39.19765   NaN   30.54459    1.108974    NaN        NaN  13379.157307\n",
              "std      14.12399   NaN    5.99278    1.212627    NaN        NaN  12108.882855\n",
              "min      18.00000   NaN   15.96000    0.000000    NaN        NaN   1121.873900\n",
              "25%      27.00000   NaN   26.25500    0.000000    NaN        NaN   4819.842913\n",
              "50%      39.00000   NaN   30.20000    1.000000    NaN        NaN   9526.937700\n",
              "75%      52.00000   NaN   34.41500    2.000000    NaN        NaN  17222.181875\n",
              "max      64.00000   NaN   53.13000    5.000000    NaN        NaN  62592.873090"
            ],
            "text/html": [
              "\n",
              "  <div id=\"df-0ec3c89a-b615-4894-8c01-ee3ef8cdb7e0\">\n",
              "    <div class=\"colab-df-container\">\n",
              "      <div>\n",
              "<style scoped>\n",
              "    .dataframe tbody tr th:only-of-type {\n",
              "        vertical-align: middle;\n",
              "    }\n",
              "\n",
              "    .dataframe tbody tr th {\n",
              "        vertical-align: top;\n",
              "    }\n",
              "\n",
              "    .dataframe thead th {\n",
              "        text-align: right;\n",
              "    }\n",
              "</style>\n",
              "<table border=\"1\" class=\"dataframe\">\n",
              "  <thead>\n",
              "    <tr style=\"text-align: right;\">\n",
              "      <th></th>\n",
              "      <th>age</th>\n",
              "      <th>sex</th>\n",
              "      <th>bmi</th>\n",
              "      <th>children</th>\n",
              "      <th>smoker</th>\n",
              "      <th>region</th>\n",
              "      <th>charges</th>\n",
              "    </tr>\n",
              "  </thead>\n",
              "  <tbody>\n",
              "    <tr>\n",
              "      <th>count</th>\n",
              "      <td>936.00000</td>\n",
              "      <td>936</td>\n",
              "      <td>903.00000</td>\n",
              "      <td>936.000000</td>\n",
              "      <td>936</td>\n",
              "      <td>936</td>\n",
              "      <td>936.000000</td>\n",
              "    </tr>\n",
              "    <tr>\n",
              "      <th>unique</th>\n",
              "      <td>NaN</td>\n",
              "      <td>2</td>\n",
              "      <td>NaN</td>\n",
              "      <td>NaN</td>\n",
              "      <td>2</td>\n",
              "      <td>4</td>\n",
              "      <td>NaN</td>\n",
              "    </tr>\n",
              "    <tr>\n",
              "      <th>top</th>\n",
              "      <td>NaN</td>\n",
              "      <td>male</td>\n",
              "      <td>NaN</td>\n",
              "      <td>NaN</td>\n",
              "      <td>no</td>\n",
              "      <td>southeast</td>\n",
              "      <td>NaN</td>\n",
              "    </tr>\n",
              "    <tr>\n",
              "      <th>freq</th>\n",
              "      <td>NaN</td>\n",
              "      <td>480</td>\n",
              "      <td>NaN</td>\n",
              "      <td>NaN</td>\n",
              "      <td>741</td>\n",
              "      <td>244</td>\n",
              "      <td>NaN</td>\n",
              "    </tr>\n",
              "    <tr>\n",
              "      <th>mean</th>\n",
              "      <td>39.19765</td>\n",
              "      <td>NaN</td>\n",
              "      <td>30.54459</td>\n",
              "      <td>1.108974</td>\n",
              "      <td>NaN</td>\n",
              "      <td>NaN</td>\n",
              "      <td>13379.157307</td>\n",
              "    </tr>\n",
              "    <tr>\n",
              "      <th>std</th>\n",
              "      <td>14.12399</td>\n",
              "      <td>NaN</td>\n",
              "      <td>5.99278</td>\n",
              "      <td>1.212627</td>\n",
              "      <td>NaN</td>\n",
              "      <td>NaN</td>\n",
              "      <td>12108.882855</td>\n",
              "    </tr>\n",
              "    <tr>\n",
              "      <th>min</th>\n",
              "      <td>18.00000</td>\n",
              "      <td>NaN</td>\n",
              "      <td>15.96000</td>\n",
              "      <td>0.000000</td>\n",
              "      <td>NaN</td>\n",
              "      <td>NaN</td>\n",
              "      <td>1121.873900</td>\n",
              "    </tr>\n",
              "    <tr>\n",
              "      <th>25%</th>\n",
              "      <td>27.00000</td>\n",
              "      <td>NaN</td>\n",
              "      <td>26.25500</td>\n",
              "      <td>0.000000</td>\n",
              "      <td>NaN</td>\n",
              "      <td>NaN</td>\n",
              "      <td>4819.842913</td>\n",
              "    </tr>\n",
              "    <tr>\n",
              "      <th>50%</th>\n",
              "      <td>39.00000</td>\n",
              "      <td>NaN</td>\n",
              "      <td>30.20000</td>\n",
              "      <td>1.000000</td>\n",
              "      <td>NaN</td>\n",
              "      <td>NaN</td>\n",
              "      <td>9526.937700</td>\n",
              "    </tr>\n",
              "    <tr>\n",
              "      <th>75%</th>\n",
              "      <td>52.00000</td>\n",
              "      <td>NaN</td>\n",
              "      <td>34.41500</td>\n",
              "      <td>2.000000</td>\n",
              "      <td>NaN</td>\n",
              "      <td>NaN</td>\n",
              "      <td>17222.181875</td>\n",
              "    </tr>\n",
              "    <tr>\n",
              "      <th>max</th>\n",
              "      <td>64.00000</td>\n",
              "      <td>NaN</td>\n",
              "      <td>53.13000</td>\n",
              "      <td>5.000000</td>\n",
              "      <td>NaN</td>\n",
              "      <td>NaN</td>\n",
              "      <td>62592.873090</td>\n",
              "    </tr>\n",
              "  </tbody>\n",
              "</table>\n",
              "</div>\n",
              "      <button class=\"colab-df-convert\" onclick=\"convertToInteractive('df-0ec3c89a-b615-4894-8c01-ee3ef8cdb7e0')\"\n",
              "              title=\"Convert this dataframe to an interactive table.\"\n",
              "              style=\"display:none;\">\n",
              "        \n",
              "  <svg xmlns=\"http://www.w3.org/2000/svg\" height=\"24px\"viewBox=\"0 0 24 24\"\n",
              "       width=\"24px\">\n",
              "    <path d=\"M0 0h24v24H0V0z\" fill=\"none\"/>\n",
              "    <path d=\"M18.56 5.44l.94 2.06.94-2.06 2.06-.94-2.06-.94-.94-2.06-.94 2.06-2.06.94zm-11 1L8.5 8.5l.94-2.06 2.06-.94-2.06-.94L8.5 2.5l-.94 2.06-2.06.94zm10 10l.94 2.06.94-2.06 2.06-.94-2.06-.94-.94-2.06-.94 2.06-2.06.94z\"/><path d=\"M17.41 7.96l-1.37-1.37c-.4-.4-.92-.59-1.43-.59-.52 0-1.04.2-1.43.59L10.3 9.45l-7.72 7.72c-.78.78-.78 2.05 0 2.83L4 21.41c.39.39.9.59 1.41.59.51 0 1.02-.2 1.41-.59l7.78-7.78 2.81-2.81c.8-.78.8-2.07 0-2.86zM5.41 20L4 18.59l7.72-7.72 1.47 1.35L5.41 20z\"/>\n",
              "  </svg>\n",
              "      </button>\n",
              "      \n",
              "  <style>\n",
              "    .colab-df-container {\n",
              "      display:flex;\n",
              "      flex-wrap:wrap;\n",
              "      gap: 12px;\n",
              "    }\n",
              "\n",
              "    .colab-df-convert {\n",
              "      background-color: #E8F0FE;\n",
              "      border: none;\n",
              "      border-radius: 50%;\n",
              "      cursor: pointer;\n",
              "      display: none;\n",
              "      fill: #1967D2;\n",
              "      height: 32px;\n",
              "      padding: 0 0 0 0;\n",
              "      width: 32px;\n",
              "    }\n",
              "\n",
              "    .colab-df-convert:hover {\n",
              "      background-color: #E2EBFA;\n",
              "      box-shadow: 0px 1px 2px rgba(60, 64, 67, 0.3), 0px 1px 3px 1px rgba(60, 64, 67, 0.15);\n",
              "      fill: #174EA6;\n",
              "    }\n",
              "\n",
              "    [theme=dark] .colab-df-convert {\n",
              "      background-color: #3B4455;\n",
              "      fill: #D2E3FC;\n",
              "    }\n",
              "\n",
              "    [theme=dark] .colab-df-convert:hover {\n",
              "      background-color: #434B5C;\n",
              "      box-shadow: 0px 1px 3px 1px rgba(0, 0, 0, 0.15);\n",
              "      filter: drop-shadow(0px 1px 2px rgba(0, 0, 0, 0.3));\n",
              "      fill: #FFFFFF;\n",
              "    }\n",
              "  </style>\n",
              "\n",
              "      <script>\n",
              "        const buttonEl =\n",
              "          document.querySelector('#df-0ec3c89a-b615-4894-8c01-ee3ef8cdb7e0 button.colab-df-convert');\n",
              "        buttonEl.style.display =\n",
              "          google.colab.kernel.accessAllowed ? 'block' : 'none';\n",
              "\n",
              "        async function convertToInteractive(key) {\n",
              "          const element = document.querySelector('#df-0ec3c89a-b615-4894-8c01-ee3ef8cdb7e0');\n",
              "          const dataTable =\n",
              "            await google.colab.kernel.invokeFunction('convertToInteractive',\n",
              "                                                     [key], {});\n",
              "          if (!dataTable) return;\n",
              "\n",
              "          const docLinkHtml = 'Like what you see? Visit the ' +\n",
              "            '<a target=\"_blank\" href=https://colab.research.google.com/notebooks/data_table.ipynb>data table notebook</a>'\n",
              "            + ' to learn more about interactive tables.';\n",
              "          element.innerHTML = '';\n",
              "          dataTable['output_type'] = 'display_data';\n",
              "          await google.colab.output.renderOutput(dataTable, element);\n",
              "          const docLink = document.createElement('div');\n",
              "          docLink.innerHTML = docLinkHtml;\n",
              "          element.appendChild(docLink);\n",
              "        }\n",
              "      </script>\n",
              "    </div>\n",
              "  </div>\n",
              "  "
            ]
          },
          "metadata": {},
          "execution_count": 8
        }
      ]
    },
    {
      "cell_type": "markdown",
      "source": [
        "Imputación de datos\n",
        "Imputemos los datos faltantes con un promedio:\n"
      ],
      "metadata": {
        "id": "soRxG-kTkaBv"
      }
    },
    {
      "cell_type": "code",
      "source": [
        "from sklearn.impute import SimpleImputer"
      ],
      "metadata": {
        "id": "_W5Vn8bukbCQ"
      },
      "execution_count": 9,
      "outputs": []
    },
    {
      "cell_type": "code",
      "source": [
        "imp = SimpleImputer(missing_values=np.nan, strategy=\"mean\")\n",
        "train.loc[:, \"bmi\"] = imp.fit_transform(train.loc[:, [\"bmi\"]])"
      ],
      "metadata": {
        "id": "7ljJxGy2khvZ"
      },
      "execution_count": 10,
      "outputs": []
    },
    {
      "cell_type": "markdown",
      "source": [
        "Ahora vemos que están todos los datos para BMI:"
      ],
      "metadata": {
        "id": "I92bCCggksDn"
      }
    },
    {
      "cell_type": "code",
      "source": [
        "train.describe(include=\"all\")"
      ],
      "metadata": {
        "colab": {
          "base_uri": "https://localhost:8080/",
          "height": 394
        },
        "id": "kbZbjXSyktUF",
        "outputId": "96e7b737-255d-4b06-8740-3e2e5cee5b72"
      },
      "execution_count": 11,
      "outputs": [
        {
          "output_type": "execute_result",
          "data": {
            "text/plain": [
              "              age   sex         bmi    children smoker     region  \\\n",
              "count   936.00000   936  936.000000  936.000000    936        936   \n",
              "unique        NaN     2         NaN         NaN      2          4   \n",
              "top           NaN  male         NaN         NaN     no  southeast   \n",
              "freq          NaN   480         NaN         NaN    741        244   \n",
              "mean     39.19765   NaN   30.544590    1.108974    NaN        NaN   \n",
              "std      14.12399   NaN    5.886075    1.212627    NaN        NaN   \n",
              "min      18.00000   NaN   15.960000    0.000000    NaN        NaN   \n",
              "25%      27.00000   NaN   26.410000    0.000000    NaN        NaN   \n",
              "50%      39.00000   NaN   30.495000    1.000000    NaN        NaN   \n",
              "75%      52.00000   NaN   34.210000    2.000000    NaN        NaN   \n",
              "max      64.00000   NaN   53.130000    5.000000    NaN        NaN   \n",
              "\n",
              "             charges  \n",
              "count     936.000000  \n",
              "unique           NaN  \n",
              "top              NaN  \n",
              "freq             NaN  \n",
              "mean    13379.157307  \n",
              "std     12108.882855  \n",
              "min      1121.873900  \n",
              "25%      4819.842913  \n",
              "50%      9526.937700  \n",
              "75%     17222.181875  \n",
              "max     62592.873090  "
            ],
            "text/html": [
              "\n",
              "  <div id=\"df-26f40bcf-a91c-4c34-b7d1-924e0b6a21d7\">\n",
              "    <div class=\"colab-df-container\">\n",
              "      <div>\n",
              "<style scoped>\n",
              "    .dataframe tbody tr th:only-of-type {\n",
              "        vertical-align: middle;\n",
              "    }\n",
              "\n",
              "    .dataframe tbody tr th {\n",
              "        vertical-align: top;\n",
              "    }\n",
              "\n",
              "    .dataframe thead th {\n",
              "        text-align: right;\n",
              "    }\n",
              "</style>\n",
              "<table border=\"1\" class=\"dataframe\">\n",
              "  <thead>\n",
              "    <tr style=\"text-align: right;\">\n",
              "      <th></th>\n",
              "      <th>age</th>\n",
              "      <th>sex</th>\n",
              "      <th>bmi</th>\n",
              "      <th>children</th>\n",
              "      <th>smoker</th>\n",
              "      <th>region</th>\n",
              "      <th>charges</th>\n",
              "    </tr>\n",
              "  </thead>\n",
              "  <tbody>\n",
              "    <tr>\n",
              "      <th>count</th>\n",
              "      <td>936.00000</td>\n",
              "      <td>936</td>\n",
              "      <td>936.000000</td>\n",
              "      <td>936.000000</td>\n",
              "      <td>936</td>\n",
              "      <td>936</td>\n",
              "      <td>936.000000</td>\n",
              "    </tr>\n",
              "    <tr>\n",
              "      <th>unique</th>\n",
              "      <td>NaN</td>\n",
              "      <td>2</td>\n",
              "      <td>NaN</td>\n",
              "      <td>NaN</td>\n",
              "      <td>2</td>\n",
              "      <td>4</td>\n",
              "      <td>NaN</td>\n",
              "    </tr>\n",
              "    <tr>\n",
              "      <th>top</th>\n",
              "      <td>NaN</td>\n",
              "      <td>male</td>\n",
              "      <td>NaN</td>\n",
              "      <td>NaN</td>\n",
              "      <td>no</td>\n",
              "      <td>southeast</td>\n",
              "      <td>NaN</td>\n",
              "    </tr>\n",
              "    <tr>\n",
              "      <th>freq</th>\n",
              "      <td>NaN</td>\n",
              "      <td>480</td>\n",
              "      <td>NaN</td>\n",
              "      <td>NaN</td>\n",
              "      <td>741</td>\n",
              "      <td>244</td>\n",
              "      <td>NaN</td>\n",
              "    </tr>\n",
              "    <tr>\n",
              "      <th>mean</th>\n",
              "      <td>39.19765</td>\n",
              "      <td>NaN</td>\n",
              "      <td>30.544590</td>\n",
              "      <td>1.108974</td>\n",
              "      <td>NaN</td>\n",
              "      <td>NaN</td>\n",
              "      <td>13379.157307</td>\n",
              "    </tr>\n",
              "    <tr>\n",
              "      <th>std</th>\n",
              "      <td>14.12399</td>\n",
              "      <td>NaN</td>\n",
              "      <td>5.886075</td>\n",
              "      <td>1.212627</td>\n",
              "      <td>NaN</td>\n",
              "      <td>NaN</td>\n",
              "      <td>12108.882855</td>\n",
              "    </tr>\n",
              "    <tr>\n",
              "      <th>min</th>\n",
              "      <td>18.00000</td>\n",
              "      <td>NaN</td>\n",
              "      <td>15.960000</td>\n",
              "      <td>0.000000</td>\n",
              "      <td>NaN</td>\n",
              "      <td>NaN</td>\n",
              "      <td>1121.873900</td>\n",
              "    </tr>\n",
              "    <tr>\n",
              "      <th>25%</th>\n",
              "      <td>27.00000</td>\n",
              "      <td>NaN</td>\n",
              "      <td>26.410000</td>\n",
              "      <td>0.000000</td>\n",
              "      <td>NaN</td>\n",
              "      <td>NaN</td>\n",
              "      <td>4819.842913</td>\n",
              "    </tr>\n",
              "    <tr>\n",
              "      <th>50%</th>\n",
              "      <td>39.00000</td>\n",
              "      <td>NaN</td>\n",
              "      <td>30.495000</td>\n",
              "      <td>1.000000</td>\n",
              "      <td>NaN</td>\n",
              "      <td>NaN</td>\n",
              "      <td>9526.937700</td>\n",
              "    </tr>\n",
              "    <tr>\n",
              "      <th>75%</th>\n",
              "      <td>52.00000</td>\n",
              "      <td>NaN</td>\n",
              "      <td>34.210000</td>\n",
              "      <td>2.000000</td>\n",
              "      <td>NaN</td>\n",
              "      <td>NaN</td>\n",
              "      <td>17222.181875</td>\n",
              "    </tr>\n",
              "    <tr>\n",
              "      <th>max</th>\n",
              "      <td>64.00000</td>\n",
              "      <td>NaN</td>\n",
              "      <td>53.130000</td>\n",
              "      <td>5.000000</td>\n",
              "      <td>NaN</td>\n",
              "      <td>NaN</td>\n",
              "      <td>62592.873090</td>\n",
              "    </tr>\n",
              "  </tbody>\n",
              "</table>\n",
              "</div>\n",
              "      <button class=\"colab-df-convert\" onclick=\"convertToInteractive('df-26f40bcf-a91c-4c34-b7d1-924e0b6a21d7')\"\n",
              "              title=\"Convert this dataframe to an interactive table.\"\n",
              "              style=\"display:none;\">\n",
              "        \n",
              "  <svg xmlns=\"http://www.w3.org/2000/svg\" height=\"24px\"viewBox=\"0 0 24 24\"\n",
              "       width=\"24px\">\n",
              "    <path d=\"M0 0h24v24H0V0z\" fill=\"none\"/>\n",
              "    <path d=\"M18.56 5.44l.94 2.06.94-2.06 2.06-.94-2.06-.94-.94-2.06-.94 2.06-2.06.94zm-11 1L8.5 8.5l.94-2.06 2.06-.94-2.06-.94L8.5 2.5l-.94 2.06-2.06.94zm10 10l.94 2.06.94-2.06 2.06-.94-2.06-.94-.94-2.06-.94 2.06-2.06.94z\"/><path d=\"M17.41 7.96l-1.37-1.37c-.4-.4-.92-.59-1.43-.59-.52 0-1.04.2-1.43.59L10.3 9.45l-7.72 7.72c-.78.78-.78 2.05 0 2.83L4 21.41c.39.39.9.59 1.41.59.51 0 1.02-.2 1.41-.59l7.78-7.78 2.81-2.81c.8-.78.8-2.07 0-2.86zM5.41 20L4 18.59l7.72-7.72 1.47 1.35L5.41 20z\"/>\n",
              "  </svg>\n",
              "      </button>\n",
              "      \n",
              "  <style>\n",
              "    .colab-df-container {\n",
              "      display:flex;\n",
              "      flex-wrap:wrap;\n",
              "      gap: 12px;\n",
              "    }\n",
              "\n",
              "    .colab-df-convert {\n",
              "      background-color: #E8F0FE;\n",
              "      border: none;\n",
              "      border-radius: 50%;\n",
              "      cursor: pointer;\n",
              "      display: none;\n",
              "      fill: #1967D2;\n",
              "      height: 32px;\n",
              "      padding: 0 0 0 0;\n",
              "      width: 32px;\n",
              "    }\n",
              "\n",
              "    .colab-df-convert:hover {\n",
              "      background-color: #E2EBFA;\n",
              "      box-shadow: 0px 1px 2px rgba(60, 64, 67, 0.3), 0px 1px 3px 1px rgba(60, 64, 67, 0.15);\n",
              "      fill: #174EA6;\n",
              "    }\n",
              "\n",
              "    [theme=dark] .colab-df-convert {\n",
              "      background-color: #3B4455;\n",
              "      fill: #D2E3FC;\n",
              "    }\n",
              "\n",
              "    [theme=dark] .colab-df-convert:hover {\n",
              "      background-color: #434B5C;\n",
              "      box-shadow: 0px 1px 3px 1px rgba(0, 0, 0, 0.15);\n",
              "      filter: drop-shadow(0px 1px 2px rgba(0, 0, 0, 0.3));\n",
              "      fill: #FFFFFF;\n",
              "    }\n",
              "  </style>\n",
              "\n",
              "      <script>\n",
              "        const buttonEl =\n",
              "          document.querySelector('#df-26f40bcf-a91c-4c34-b7d1-924e0b6a21d7 button.colab-df-convert');\n",
              "        buttonEl.style.display =\n",
              "          google.colab.kernel.accessAllowed ? 'block' : 'none';\n",
              "\n",
              "        async function convertToInteractive(key) {\n",
              "          const element = document.querySelector('#df-26f40bcf-a91c-4c34-b7d1-924e0b6a21d7');\n",
              "          const dataTable =\n",
              "            await google.colab.kernel.invokeFunction('convertToInteractive',\n",
              "                                                     [key], {});\n",
              "          if (!dataTable) return;\n",
              "\n",
              "          const docLinkHtml = 'Like what you see? Visit the ' +\n",
              "            '<a target=\"_blank\" href=https://colab.research.google.com/notebooks/data_table.ipynb>data table notebook</a>'\n",
              "            + ' to learn more about interactive tables.';\n",
              "          element.innerHTML = '';\n",
              "          dataTable['output_type'] = 'display_data';\n",
              "          await google.colab.output.renderOutput(dataTable, element);\n",
              "          const docLink = document.createElement('div');\n",
              "          docLink.innerHTML = docLinkHtml;\n",
              "          element.appendChild(docLink);\n",
              "        }\n",
              "      </script>\n",
              "    </div>\n",
              "  </div>\n",
              "  "
            ]
          },
          "metadata": {},
          "execution_count": 11
        }
      ]
    },
    {
      "cell_type": "markdown",
      "source": [
        "Encodings y preprocesamiento\n",
        "Si vamos a utilizar una regresión lineal no podemos pasarle los atributos categóricos. Para no descartar esa información, deberíamos aplicar algún encoding:\n"
      ],
      "metadata": {
        "id": "Gsr17Kunk4O8"
      }
    },
    {
      "cell_type": "code",
      "source": [
        "from sklearn import preprocessing"
      ],
      "metadata": {
        "id": "Ivz9jBDZk5Zs"
      },
      "execution_count": 12,
      "outputs": []
    },
    {
      "cell_type": "markdown",
      "source": [
        "One Hot Encoding"
      ],
      "metadata": {
        "id": "GzXE0yV3lBRj"
      }
    },
    {
      "cell_type": "code",
      "source": [
        "train.loc[:, [\"smoker\", \"region\", \"sex\"]]"
      ],
      "metadata": {
        "colab": {
          "base_uri": "https://localhost:8080/",
          "height": 424
        },
        "id": "lA-ExZAQlGcf",
        "outputId": "6a66b379-4494-4199-ebc7-455c563741b2"
      },
      "execution_count": 13,
      "outputs": [
        {
          "output_type": "execute_result",
          "data": {
            "text/plain": [
              "     smoker     region     sex\n",
              "332      no  northwest  female\n",
              "355      no  southwest    male\n",
              "138      no  southeast  female\n",
              "381     yes  northeast    male\n",
              "292     yes  southeast    male\n",
              "...     ...        ...     ...\n",
              "1095     no  northeast  female\n",
              "1130     no  southeast  female\n",
              "1294     no  northeast    male\n",
              "860     yes  southwest  female\n",
              "1126     no  southwest    male\n",
              "\n",
              "[936 rows x 3 columns]"
            ],
            "text/html": [
              "\n",
              "  <div id=\"df-33bec6c9-f509-4fe4-8f28-7cc5fb06900c\">\n",
              "    <div class=\"colab-df-container\">\n",
              "      <div>\n",
              "<style scoped>\n",
              "    .dataframe tbody tr th:only-of-type {\n",
              "        vertical-align: middle;\n",
              "    }\n",
              "\n",
              "    .dataframe tbody tr th {\n",
              "        vertical-align: top;\n",
              "    }\n",
              "\n",
              "    .dataframe thead th {\n",
              "        text-align: right;\n",
              "    }\n",
              "</style>\n",
              "<table border=\"1\" class=\"dataframe\">\n",
              "  <thead>\n",
              "    <tr style=\"text-align: right;\">\n",
              "      <th></th>\n",
              "      <th>smoker</th>\n",
              "      <th>region</th>\n",
              "      <th>sex</th>\n",
              "    </tr>\n",
              "  </thead>\n",
              "  <tbody>\n",
              "    <tr>\n",
              "      <th>332</th>\n",
              "      <td>no</td>\n",
              "      <td>northwest</td>\n",
              "      <td>female</td>\n",
              "    </tr>\n",
              "    <tr>\n",
              "      <th>355</th>\n",
              "      <td>no</td>\n",
              "      <td>southwest</td>\n",
              "      <td>male</td>\n",
              "    </tr>\n",
              "    <tr>\n",
              "      <th>138</th>\n",
              "      <td>no</td>\n",
              "      <td>southeast</td>\n",
              "      <td>female</td>\n",
              "    </tr>\n",
              "    <tr>\n",
              "      <th>381</th>\n",
              "      <td>yes</td>\n",
              "      <td>northeast</td>\n",
              "      <td>male</td>\n",
              "    </tr>\n",
              "    <tr>\n",
              "      <th>292</th>\n",
              "      <td>yes</td>\n",
              "      <td>southeast</td>\n",
              "      <td>male</td>\n",
              "    </tr>\n",
              "    <tr>\n",
              "      <th>...</th>\n",
              "      <td>...</td>\n",
              "      <td>...</td>\n",
              "      <td>...</td>\n",
              "    </tr>\n",
              "    <tr>\n",
              "      <th>1095</th>\n",
              "      <td>no</td>\n",
              "      <td>northeast</td>\n",
              "      <td>female</td>\n",
              "    </tr>\n",
              "    <tr>\n",
              "      <th>1130</th>\n",
              "      <td>no</td>\n",
              "      <td>southeast</td>\n",
              "      <td>female</td>\n",
              "    </tr>\n",
              "    <tr>\n",
              "      <th>1294</th>\n",
              "      <td>no</td>\n",
              "      <td>northeast</td>\n",
              "      <td>male</td>\n",
              "    </tr>\n",
              "    <tr>\n",
              "      <th>860</th>\n",
              "      <td>yes</td>\n",
              "      <td>southwest</td>\n",
              "      <td>female</td>\n",
              "    </tr>\n",
              "    <tr>\n",
              "      <th>1126</th>\n",
              "      <td>no</td>\n",
              "      <td>southwest</td>\n",
              "      <td>male</td>\n",
              "    </tr>\n",
              "  </tbody>\n",
              "</table>\n",
              "<p>936 rows × 3 columns</p>\n",
              "</div>\n",
              "      <button class=\"colab-df-convert\" onclick=\"convertToInteractive('df-33bec6c9-f509-4fe4-8f28-7cc5fb06900c')\"\n",
              "              title=\"Convert this dataframe to an interactive table.\"\n",
              "              style=\"display:none;\">\n",
              "        \n",
              "  <svg xmlns=\"http://www.w3.org/2000/svg\" height=\"24px\"viewBox=\"0 0 24 24\"\n",
              "       width=\"24px\">\n",
              "    <path d=\"M0 0h24v24H0V0z\" fill=\"none\"/>\n",
              "    <path d=\"M18.56 5.44l.94 2.06.94-2.06 2.06-.94-2.06-.94-.94-2.06-.94 2.06-2.06.94zm-11 1L8.5 8.5l.94-2.06 2.06-.94-2.06-.94L8.5 2.5l-.94 2.06-2.06.94zm10 10l.94 2.06.94-2.06 2.06-.94-2.06-.94-.94-2.06-.94 2.06-2.06.94z\"/><path d=\"M17.41 7.96l-1.37-1.37c-.4-.4-.92-.59-1.43-.59-.52 0-1.04.2-1.43.59L10.3 9.45l-7.72 7.72c-.78.78-.78 2.05 0 2.83L4 21.41c.39.39.9.59 1.41.59.51 0 1.02-.2 1.41-.59l7.78-7.78 2.81-2.81c.8-.78.8-2.07 0-2.86zM5.41 20L4 18.59l7.72-7.72 1.47 1.35L5.41 20z\"/>\n",
              "  </svg>\n",
              "      </button>\n",
              "      \n",
              "  <style>\n",
              "    .colab-df-container {\n",
              "      display:flex;\n",
              "      flex-wrap:wrap;\n",
              "      gap: 12px;\n",
              "    }\n",
              "\n",
              "    .colab-df-convert {\n",
              "      background-color: #E8F0FE;\n",
              "      border: none;\n",
              "      border-radius: 50%;\n",
              "      cursor: pointer;\n",
              "      display: none;\n",
              "      fill: #1967D2;\n",
              "      height: 32px;\n",
              "      padding: 0 0 0 0;\n",
              "      width: 32px;\n",
              "    }\n",
              "\n",
              "    .colab-df-convert:hover {\n",
              "      background-color: #E2EBFA;\n",
              "      box-shadow: 0px 1px 2px rgba(60, 64, 67, 0.3), 0px 1px 3px 1px rgba(60, 64, 67, 0.15);\n",
              "      fill: #174EA6;\n",
              "    }\n",
              "\n",
              "    [theme=dark] .colab-df-convert {\n",
              "      background-color: #3B4455;\n",
              "      fill: #D2E3FC;\n",
              "    }\n",
              "\n",
              "    [theme=dark] .colab-df-convert:hover {\n",
              "      background-color: #434B5C;\n",
              "      box-shadow: 0px 1px 3px 1px rgba(0, 0, 0, 0.15);\n",
              "      filter: drop-shadow(0px 1px 2px rgba(0, 0, 0, 0.3));\n",
              "      fill: #FFFFFF;\n",
              "    }\n",
              "  </style>\n",
              "\n",
              "      <script>\n",
              "        const buttonEl =\n",
              "          document.querySelector('#df-33bec6c9-f509-4fe4-8f28-7cc5fb06900c button.colab-df-convert');\n",
              "        buttonEl.style.display =\n",
              "          google.colab.kernel.accessAllowed ? 'block' : 'none';\n",
              "\n",
              "        async function convertToInteractive(key) {\n",
              "          const element = document.querySelector('#df-33bec6c9-f509-4fe4-8f28-7cc5fb06900c');\n",
              "          const dataTable =\n",
              "            await google.colab.kernel.invokeFunction('convertToInteractive',\n",
              "                                                     [key], {});\n",
              "          if (!dataTable) return;\n",
              "\n",
              "          const docLinkHtml = 'Like what you see? Visit the ' +\n",
              "            '<a target=\"_blank\" href=https://colab.research.google.com/notebooks/data_table.ipynb>data table notebook</a>'\n",
              "            + ' to learn more about interactive tables.';\n",
              "          element.innerHTML = '';\n",
              "          dataTable['output_type'] = 'display_data';\n",
              "          await google.colab.output.renderOutput(dataTable, element);\n",
              "          const docLink = document.createElement('div');\n",
              "          docLink.innerHTML = docLinkHtml;\n",
              "          element.appendChild(docLink);\n",
              "        }\n",
              "      </script>\n",
              "    </div>\n",
              "  </div>\n",
              "  "
            ]
          },
          "metadata": {},
          "execution_count": 13
        }
      ]
    },
    {
      "cell_type": "code",
      "source": [
        "ohe = preprocessing.OneHotEncoder(drop=\"if_binary\", sparse=False)\n",
        "ohe.fit_transform(train.loc[:, [\"smoker\", \"region\", \"sex\"]])"
      ],
      "metadata": {
        "colab": {
          "base_uri": "https://localhost:8080/"
        },
        "id": "S3iRk4QolPOD",
        "outputId": "c162feda-f6f0-4071-9087-6ed38c259d6e"
      },
      "execution_count": 14,
      "outputs": [
        {
          "output_type": "execute_result",
          "data": {
            "text/plain": [
              "array([[0., 0., 1., 0., 0., 0.],\n",
              "       [0., 0., 0., 0., 1., 1.],\n",
              "       [0., 0., 0., 1., 0., 0.],\n",
              "       ...,\n",
              "       [0., 1., 0., 0., 0., 1.],\n",
              "       [1., 0., 0., 0., 1., 0.],\n",
              "       [0., 0., 0., 0., 1., 1.]])"
            ]
          },
          "metadata": {},
          "execution_count": 14
        }
      ]
    },
    {
      "cell_type": "markdown",
      "source": [
        "Escalado\n",
        "Como la regresión lineal no puede ajustar una ordenada por cada variable, si una variable no está normalizada puede ser más difícil de utilizar:\n"
      ],
      "metadata": {
        "id": "3hn07gp1lW8P"
      }
    },
    {
      "cell_type": "code",
      "source": [
        "ss = preprocessing.StandardScaler()\n",
        "ss.fit_transform(train.loc[:, [\"age\", \"bmi\", \"children\"]])\n"
      ],
      "metadata": {
        "colab": {
          "base_uri": "https://localhost:8080/"
        },
        "id": "rnyOIPXjlZ78",
        "outputId": "258242a4-e4bb-45b7-afcc-5bc91616668c"
      },
      "execution_count": 15,
      "outputs": [
        {
          "output_type": "execute_result",
          "data": {
            "text/plain": [
              "array([[ 1.54446486,  0.1046094 , -0.91501097],\n",
              "       [ 0.48187425, -0.50053128, -0.91501097],\n",
              "       [ 1.04858924,  0.23039707,  1.56027883],\n",
              "       ...,\n",
              "       [ 1.33194673,  0.        , -0.91501097],\n",
              "       [-0.15568012,  2.89913548,  0.73518223],\n",
              "       [ 1.11942861, -0.1095696 , -0.91501097]])"
            ]
          },
          "metadata": {},
          "execution_count": 15
        }
      ]
    },
    {
      "cell_type": "markdown",
      "source": [
        "Nuevas variables\n",
        "Tal vez es útil para el modelo codificar directamente si una persona no tiene hijos:"
      ],
      "metadata": {
        "id": "Z9ppPoqYldoO"
      }
    },
    {
      "cell_type": "code",
      "source": [
        "train.loc[:, \"children\"] < 1"
      ],
      "metadata": {
        "colab": {
          "base_uri": "https://localhost:8080/"
        },
        "id": "T2SkcQwZlf9o",
        "outputId": "de068a61-6d78-45ec-9961-30dec8e2f512"
      },
      "execution_count": 16,
      "outputs": [
        {
          "output_type": "execute_result",
          "data": {
            "text/plain": [
              "332      True\n",
              "355      True\n",
              "138     False\n",
              "381      True\n",
              "292     False\n",
              "        ...  \n",
              "1095    False\n",
              "1130    False\n",
              "1294     True\n",
              "860     False\n",
              "1126     True\n",
              "Name: children, Length: 936, dtype: bool"
            ]
          },
          "metadata": {},
          "execution_count": 16
        }
      ]
    },
    {
      "cell_type": "markdown",
      "source": [
        "La forma estándar\n",
        "La forma fácil para entrenar un modelo tras todos estos pasos de feature engineering es armar un dataframe con las columnas nuevas y luego hacer el fit-transform.\n",
        "\n",
        "La forma linda"
      ],
      "metadata": {
        "id": "Ukllj3BWlobc"
      }
    },
    {
      "cell_type": "code",
      "source": [
        "import pandas as pd\n",
        "from sklearn.pipeline import Pipeline\n",
        "from sklearn.compose import ColumnTransformer\n",
        "from sklearn.linear_model import LinearRegression\n",
        "\n",
        "\n",
        "def add_child_free_column(col):\n",
        "    return col < 1\n",
        "\n",
        "scale_and_impute = Pipeline(\n",
        "    [\n",
        "        (\"mean_imputer\", SimpleImputer(missing_values=np.nan, strategy=\"mean\")),\n",
        "        (\"scaler\", preprocessing.StandardScaler()),\n",
        "    ]\n",
        ")\n",
        "\n",
        "ct = ColumnTransformer(\n",
        "    [\n",
        "        (\"impute_and_scale\", scale_and_impute, [\"bmi\"]),\n",
        "        (\"scaler\", preprocessing.StandardScaler(), [\"age\", \"children\"]),\n",
        "        (\"one_hot_encoder\", preprocessing.OneHotEncoder(), [\"smoker\", \"region\", \"sex\"]),\n",
        "        (\"feature_adder\", preprocessing.FunctionTransformer(add_child_free_column), [\"children\"])\n",
        "        # también: drop o passthrough\n",
        "    ]\n",
        ")\n",
        "\n",
        "pipeline = Pipeline([\n",
        "    (\"column_transformer\", ct),\n",
        "    (\"linear_regression\", LinearRegression())\n",
        "])"
      ],
      "metadata": {
        "id": "VOWK5Dy6lpNG"
      },
      "execution_count": 17,
      "outputs": []
    },
    {
      "cell_type": "code",
      "source": [
        "ct.fit_transform(train).shape"
      ],
      "metadata": {
        "colab": {
          "base_uri": "https://localhost:8080/"
        },
        "id": "j-5Rn6VRlydm",
        "outputId": "987de377-17f0-48fd-c69d-3fa476eda325"
      },
      "execution_count": 18,
      "outputs": [
        {
          "output_type": "execute_result",
          "data": {
            "text/plain": [
              "(936, 12)"
            ]
          },
          "metadata": {},
          "execution_count": 18
        }
      ]
    },
    {
      "cell_type": "code",
      "source": [
        "# pipeline.inverse_transform (!!!)"
      ],
      "metadata": {
        "id": "ljEeKF03l2dI"
      },
      "execution_count": 19,
      "outputs": []
    },
    {
      "cell_type": "code",
      "source": [
        "train.columns"
      ],
      "metadata": {
        "colab": {
          "base_uri": "https://localhost:8080/"
        },
        "id": "8jCOgccwl5FZ",
        "outputId": "b53b98ad-560a-49cf-889c-2b5bd359d480"
      },
      "execution_count": 20,
      "outputs": [
        {
          "output_type": "execute_result",
          "data": {
            "text/plain": [
              "Index(['age', 'sex', 'bmi', 'children', 'smoker', 'region', 'charges'], dtype='object')"
            ]
          },
          "metadata": {},
          "execution_count": 20
        }
      ]
    },
    {
      "cell_type": "code",
      "source": [
        "pipeline.fit(train, train.charges)}"
      ],
      "metadata": {
        "colab": {
          "base_uri": "https://localhost:8080/"
        },
        "id": "H3QSyHool9oy",
        "outputId": "7c13c02f-6e50-47ff-8202-9d228d94d78f"
      },
      "execution_count": 21,
      "outputs": [
        {
          "output_type": "execute_result",
          "data": {
            "text/plain": [
              "Pipeline(steps=[('column_transformer',\n",
              "                 ColumnTransformer(transformers=[('impute_and_scale',\n",
              "                                                  Pipeline(steps=[('mean_imputer',\n",
              "                                                                   SimpleImputer()),\n",
              "                                                                  ('scaler',\n",
              "                                                                   StandardScaler())]),\n",
              "                                                  ['bmi']),\n",
              "                                                 ('scaler', StandardScaler(),\n",
              "                                                  ['age', 'children']),\n",
              "                                                 ('one_hot_encoder',\n",
              "                                                  OneHotEncoder(),\n",
              "                                                  ['smoker', 'region', 'sex']),\n",
              "                                                 ('feature_adder',\n",
              "                                                  FunctionTransformer(func=<function add_child_free_column at 0x7f26ea78c7a0>),\n",
              "                                                  ['children'])])),\n",
              "                ('linear_regression', LinearRegression())])"
            ]
          },
          "metadata": {},
          "execution_count": 21
        }
      ]
    },
    {
      "cell_type": "code",
      "source": [
        "pipeline.predict(train)[:10]"
      ],
      "metadata": {
        "colab": {
          "base_uri": "https://localhost:8080/"
        },
        "id": "JjnAupgorCBI",
        "outputId": "8607473d-020d-4296-f8d7-74632f22742b"
      },
      "execution_count": 22,
      "outputs": [
        {
          "output_type": "execute_result",
          "data": {
            "text/plain": [
              "array([13842.51158066,  8452.55529664, 13205.08042364, 36407.55825717,\n",
              "       33571.45114919, 35263.5976217 ,  5881.10764018,  6299.02708444,\n",
              "       16457.48186482,  8494.23383713])"
            ]
          },
          "metadata": {},
          "execution_count": 22
        }
      ]
    },
    {
      "cell_type": "code",
      "source": [
        "pipeline.predict(test)[:10]"
      ],
      "metadata": {
        "colab": {
          "base_uri": "https://localhost:8080/"
        },
        "id": "ouazPkqmrHuF",
        "outputId": "b2b2192c-b2dc-4deb-a1c6-e7b2990a5141"
      },
      "execution_count": 23,
      "outputs": [
        {
          "output_type": "execute_result",
          "data": {
            "text/plain": [
              "array([10896.63237778,  6914.55832819, 36849.95518512,  9539.89586356,\n",
              "       26876.59789855, 10981.24153216,   -55.26735867, 17010.11815722,\n",
              "        5516.35326632, 11313.80593661])"
            ]
          },
          "metadata": {},
          "execution_count": 23
        }
      ]
    },
    {
      "cell_type": "code",
      "source": [
        "from sklearn import set_config\n",
        "set_config(display=\"diagram\")\n",
        "pipeline\n",
        "#set_config(display=\"text\")"
      ],
      "metadata": {
        "colab": {
          "base_uri": "https://localhost:8080/",
          "height": 296
        },
        "id": "iYQD38tArLfR",
        "outputId": "65f1ebea-2b72-4a19-c000-3693f8607483"
      },
      "execution_count": 24,
      "outputs": [
        {
          "output_type": "execute_result",
          "data": {
            "text/plain": [
              "Pipeline(steps=[('column_transformer',\n",
              "                 ColumnTransformer(transformers=[('impute_and_scale',\n",
              "                                                  Pipeline(steps=[('mean_imputer',\n",
              "                                                                   SimpleImputer()),\n",
              "                                                                  ('scaler',\n",
              "                                                                   StandardScaler())]),\n",
              "                                                  ['bmi']),\n",
              "                                                 ('scaler', StandardScaler(),\n",
              "                                                  ['age', 'children']),\n",
              "                                                 ('one_hot_encoder',\n",
              "                                                  OneHotEncoder(),\n",
              "                                                  ['smoker', 'region', 'sex']),\n",
              "                                                 ('feature_adder',\n",
              "                                                  FunctionTransformer(func=<function add_child_free_column at 0x7f26ea78c7a0>),\n",
              "                                                  ['children'])])),\n",
              "                ('linear_regression', LinearRegression())])"
            ],
            "text/html": [
              "<style>#sk-1e54f54e-57e8-4788-9d0c-6755d1c0576f {color: black;background-color: white;}#sk-1e54f54e-57e8-4788-9d0c-6755d1c0576f pre{padding: 0;}#sk-1e54f54e-57e8-4788-9d0c-6755d1c0576f div.sk-toggleable {background-color: white;}#sk-1e54f54e-57e8-4788-9d0c-6755d1c0576f label.sk-toggleable__label {cursor: pointer;display: block;width: 100%;margin-bottom: 0;padding: 0.3em;box-sizing: border-box;text-align: center;}#sk-1e54f54e-57e8-4788-9d0c-6755d1c0576f label.sk-toggleable__label-arrow:before {content: \"▸\";float: left;margin-right: 0.25em;color: #696969;}#sk-1e54f54e-57e8-4788-9d0c-6755d1c0576f label.sk-toggleable__label-arrow:hover:before {color: black;}#sk-1e54f54e-57e8-4788-9d0c-6755d1c0576f div.sk-estimator:hover label.sk-toggleable__label-arrow:before {color: black;}#sk-1e54f54e-57e8-4788-9d0c-6755d1c0576f div.sk-toggleable__content {max-height: 0;max-width: 0;overflow: hidden;text-align: left;background-color: #f0f8ff;}#sk-1e54f54e-57e8-4788-9d0c-6755d1c0576f div.sk-toggleable__content pre {margin: 0.2em;color: black;border-radius: 0.25em;background-color: #f0f8ff;}#sk-1e54f54e-57e8-4788-9d0c-6755d1c0576f input.sk-toggleable__control:checked~div.sk-toggleable__content {max-height: 200px;max-width: 100%;overflow: auto;}#sk-1e54f54e-57e8-4788-9d0c-6755d1c0576f input.sk-toggleable__control:checked~label.sk-toggleable__label-arrow:before {content: \"▾\";}#sk-1e54f54e-57e8-4788-9d0c-6755d1c0576f div.sk-estimator input.sk-toggleable__control:checked~label.sk-toggleable__label {background-color: #d4ebff;}#sk-1e54f54e-57e8-4788-9d0c-6755d1c0576f div.sk-label input.sk-toggleable__control:checked~label.sk-toggleable__label {background-color: #d4ebff;}#sk-1e54f54e-57e8-4788-9d0c-6755d1c0576f input.sk-hidden--visually {border: 0;clip: rect(1px 1px 1px 1px);clip: rect(1px, 1px, 1px, 1px);height: 1px;margin: -1px;overflow: hidden;padding: 0;position: absolute;width: 1px;}#sk-1e54f54e-57e8-4788-9d0c-6755d1c0576f div.sk-estimator {font-family: monospace;background-color: #f0f8ff;border: 1px dotted black;border-radius: 0.25em;box-sizing: border-box;margin-bottom: 0.5em;}#sk-1e54f54e-57e8-4788-9d0c-6755d1c0576f div.sk-estimator:hover {background-color: #d4ebff;}#sk-1e54f54e-57e8-4788-9d0c-6755d1c0576f div.sk-parallel-item::after {content: \"\";width: 100%;border-bottom: 1px solid gray;flex-grow: 1;}#sk-1e54f54e-57e8-4788-9d0c-6755d1c0576f div.sk-label:hover label.sk-toggleable__label {background-color: #d4ebff;}#sk-1e54f54e-57e8-4788-9d0c-6755d1c0576f div.sk-serial::before {content: \"\";position: absolute;border-left: 1px solid gray;box-sizing: border-box;top: 2em;bottom: 0;left: 50%;}#sk-1e54f54e-57e8-4788-9d0c-6755d1c0576f div.sk-serial {display: flex;flex-direction: column;align-items: center;background-color: white;padding-right: 0.2em;padding-left: 0.2em;}#sk-1e54f54e-57e8-4788-9d0c-6755d1c0576f div.sk-item {z-index: 1;}#sk-1e54f54e-57e8-4788-9d0c-6755d1c0576f div.sk-parallel {display: flex;align-items: stretch;justify-content: center;background-color: white;}#sk-1e54f54e-57e8-4788-9d0c-6755d1c0576f div.sk-parallel::before {content: \"\";position: absolute;border-left: 1px solid gray;box-sizing: border-box;top: 2em;bottom: 0;left: 50%;}#sk-1e54f54e-57e8-4788-9d0c-6755d1c0576f div.sk-parallel-item {display: flex;flex-direction: column;position: relative;background-color: white;}#sk-1e54f54e-57e8-4788-9d0c-6755d1c0576f div.sk-parallel-item:first-child::after {align-self: flex-end;width: 50%;}#sk-1e54f54e-57e8-4788-9d0c-6755d1c0576f div.sk-parallel-item:last-child::after {align-self: flex-start;width: 50%;}#sk-1e54f54e-57e8-4788-9d0c-6755d1c0576f div.sk-parallel-item:only-child::after {width: 0;}#sk-1e54f54e-57e8-4788-9d0c-6755d1c0576f div.sk-dashed-wrapped {border: 1px dashed gray;margin: 0 0.4em 0.5em 0.4em;box-sizing: border-box;padding-bottom: 0.4em;background-color: white;position: relative;}#sk-1e54f54e-57e8-4788-9d0c-6755d1c0576f div.sk-label label {font-family: monospace;font-weight: bold;background-color: white;display: inline-block;line-height: 1.2em;}#sk-1e54f54e-57e8-4788-9d0c-6755d1c0576f div.sk-label-container {position: relative;z-index: 2;text-align: center;}#sk-1e54f54e-57e8-4788-9d0c-6755d1c0576f div.sk-container {/* jupyter's `normalize.less` sets `[hidden] { display: none; }` but bootstrap.min.css set `[hidden] { display: none !important; }` so we also need the `!important` here to be able to override the default hidden behavior on the sphinx rendered scikit-learn.org. See: https://github.com/scikit-learn/scikit-learn/issues/21755 */display: inline-block !important;position: relative;}#sk-1e54f54e-57e8-4788-9d0c-6755d1c0576f div.sk-text-repr-fallback {display: none;}</style><div id=\"sk-1e54f54e-57e8-4788-9d0c-6755d1c0576f\" class=\"sk-top-container\"><div class=\"sk-text-repr-fallback\"><pre>Pipeline(steps=[(&#x27;column_transformer&#x27;,\n",
              "                 ColumnTransformer(transformers=[(&#x27;impute_and_scale&#x27;,\n",
              "                                                  Pipeline(steps=[(&#x27;mean_imputer&#x27;,\n",
              "                                                                   SimpleImputer()),\n",
              "                                                                  (&#x27;scaler&#x27;,\n",
              "                                                                   StandardScaler())]),\n",
              "                                                  [&#x27;bmi&#x27;]),\n",
              "                                                 (&#x27;scaler&#x27;, StandardScaler(),\n",
              "                                                  [&#x27;age&#x27;, &#x27;children&#x27;]),\n",
              "                                                 (&#x27;one_hot_encoder&#x27;,\n",
              "                                                  OneHotEncoder(),\n",
              "                                                  [&#x27;smoker&#x27;, &#x27;region&#x27;, &#x27;sex&#x27;]),\n",
              "                                                 (&#x27;feature_adder&#x27;,\n",
              "                                                  FunctionTransformer(func=&lt;function add_child_free_column at 0x7f26ea78c7a0&gt;),\n",
              "                                                  [&#x27;children&#x27;])])),\n",
              "                (&#x27;linear_regression&#x27;, LinearRegression())])</pre><b>Please rerun this cell to show the HTML repr or trust the notebook.</b></div><div class=\"sk-container\" hidden><div class=\"sk-item sk-dashed-wrapped\"><div class=\"sk-label-container\"><div class=\"sk-label sk-toggleable\"><input class=\"sk-toggleable__control sk-hidden--visually\" id=\"0251cdb1-f362-4f97-a76a-0c86e14ac212\" type=\"checkbox\" ><label for=\"0251cdb1-f362-4f97-a76a-0c86e14ac212\" class=\"sk-toggleable__label sk-toggleable__label-arrow\">Pipeline</label><div class=\"sk-toggleable__content\"><pre>Pipeline(steps=[(&#x27;column_transformer&#x27;,\n",
              "                 ColumnTransformer(transformers=[(&#x27;impute_and_scale&#x27;,\n",
              "                                                  Pipeline(steps=[(&#x27;mean_imputer&#x27;,\n",
              "                                                                   SimpleImputer()),\n",
              "                                                                  (&#x27;scaler&#x27;,\n",
              "                                                                   StandardScaler())]),\n",
              "                                                  [&#x27;bmi&#x27;]),\n",
              "                                                 (&#x27;scaler&#x27;, StandardScaler(),\n",
              "                                                  [&#x27;age&#x27;, &#x27;children&#x27;]),\n",
              "                                                 (&#x27;one_hot_encoder&#x27;,\n",
              "                                                  OneHotEncoder(),\n",
              "                                                  [&#x27;smoker&#x27;, &#x27;region&#x27;, &#x27;sex&#x27;]),\n",
              "                                                 (&#x27;feature_adder&#x27;,\n",
              "                                                  FunctionTransformer(func=&lt;function add_child_free_column at 0x7f26ea78c7a0&gt;),\n",
              "                                                  [&#x27;children&#x27;])])),\n",
              "                (&#x27;linear_regression&#x27;, LinearRegression())])</pre></div></div></div><div class=\"sk-serial\"><div class=\"sk-item sk-dashed-wrapped\"><div class=\"sk-label-container\"><div class=\"sk-label sk-toggleable\"><input class=\"sk-toggleable__control sk-hidden--visually\" id=\"ea42bb58-3a4e-449b-81d8-2f9b7b228c8a\" type=\"checkbox\" ><label for=\"ea42bb58-3a4e-449b-81d8-2f9b7b228c8a\" class=\"sk-toggleable__label sk-toggleable__label-arrow\">column_transformer: ColumnTransformer</label><div class=\"sk-toggleable__content\"><pre>ColumnTransformer(transformers=[(&#x27;impute_and_scale&#x27;,\n",
              "                                 Pipeline(steps=[(&#x27;mean_imputer&#x27;,\n",
              "                                                  SimpleImputer()),\n",
              "                                                 (&#x27;scaler&#x27;, StandardScaler())]),\n",
              "                                 [&#x27;bmi&#x27;]),\n",
              "                                (&#x27;scaler&#x27;, StandardScaler(),\n",
              "                                 [&#x27;age&#x27;, &#x27;children&#x27;]),\n",
              "                                (&#x27;one_hot_encoder&#x27;, OneHotEncoder(),\n",
              "                                 [&#x27;smoker&#x27;, &#x27;region&#x27;, &#x27;sex&#x27;]),\n",
              "                                (&#x27;feature_adder&#x27;,\n",
              "                                 FunctionTransformer(func=&lt;function add_child_free_column at 0x7f26ea78c7a0&gt;),\n",
              "                                 [&#x27;children&#x27;])])</pre></div></div></div><div class=\"sk-parallel\"><div class=\"sk-parallel-item\"><div class=\"sk-item\"><div class=\"sk-label-container\"><div class=\"sk-label sk-toggleable\"><input class=\"sk-toggleable__control sk-hidden--visually\" id=\"8b9b02c0-2f9f-4f15-a867-5363bafd124f\" type=\"checkbox\" ><label for=\"8b9b02c0-2f9f-4f15-a867-5363bafd124f\" class=\"sk-toggleable__label sk-toggleable__label-arrow\">impute_and_scale</label><div class=\"sk-toggleable__content\"><pre>[&#x27;bmi&#x27;]</pre></div></div></div><div class=\"sk-serial\"><div class=\"sk-item\"><div class=\"sk-serial\"><div class=\"sk-item\"><div class=\"sk-estimator sk-toggleable\"><input class=\"sk-toggleable__control sk-hidden--visually\" id=\"4f5d3a46-b0c6-4fdb-8269-60fed0ceba66\" type=\"checkbox\" ><label for=\"4f5d3a46-b0c6-4fdb-8269-60fed0ceba66\" class=\"sk-toggleable__label sk-toggleable__label-arrow\">SimpleImputer</label><div class=\"sk-toggleable__content\"><pre>SimpleImputer()</pre></div></div></div><div class=\"sk-item\"><div class=\"sk-estimator sk-toggleable\"><input class=\"sk-toggleable__control sk-hidden--visually\" id=\"81c32927-649a-430f-a9b1-d9241e7960c1\" type=\"checkbox\" ><label for=\"81c32927-649a-430f-a9b1-d9241e7960c1\" class=\"sk-toggleable__label sk-toggleable__label-arrow\">StandardScaler</label><div class=\"sk-toggleable__content\"><pre>StandardScaler()</pre></div></div></div></div></div></div></div></div><div class=\"sk-parallel-item\"><div class=\"sk-item\"><div class=\"sk-label-container\"><div class=\"sk-label sk-toggleable\"><input class=\"sk-toggleable__control sk-hidden--visually\" id=\"5b6a3a9a-6b81-4065-a06a-01c2f119e51f\" type=\"checkbox\" ><label for=\"5b6a3a9a-6b81-4065-a06a-01c2f119e51f\" class=\"sk-toggleable__label sk-toggleable__label-arrow\">scaler</label><div class=\"sk-toggleable__content\"><pre>[&#x27;age&#x27;, &#x27;children&#x27;]</pre></div></div></div><div class=\"sk-serial\"><div class=\"sk-item\"><div class=\"sk-estimator sk-toggleable\"><input class=\"sk-toggleable__control sk-hidden--visually\" id=\"4952ba5d-4492-4a21-82a2-1784f93a5ea8\" type=\"checkbox\" ><label for=\"4952ba5d-4492-4a21-82a2-1784f93a5ea8\" class=\"sk-toggleable__label sk-toggleable__label-arrow\">StandardScaler</label><div class=\"sk-toggleable__content\"><pre>StandardScaler()</pre></div></div></div></div></div></div><div class=\"sk-parallel-item\"><div class=\"sk-item\"><div class=\"sk-label-container\"><div class=\"sk-label sk-toggleable\"><input class=\"sk-toggleable__control sk-hidden--visually\" id=\"3acd7eeb-625d-4140-910c-ab47f6357ea6\" type=\"checkbox\" ><label for=\"3acd7eeb-625d-4140-910c-ab47f6357ea6\" class=\"sk-toggleable__label sk-toggleable__label-arrow\">one_hot_encoder</label><div class=\"sk-toggleable__content\"><pre>[&#x27;smoker&#x27;, &#x27;region&#x27;, &#x27;sex&#x27;]</pre></div></div></div><div class=\"sk-serial\"><div class=\"sk-item\"><div class=\"sk-estimator sk-toggleable\"><input class=\"sk-toggleable__control sk-hidden--visually\" id=\"9131a067-12f5-420a-8880-a61d0e159432\" type=\"checkbox\" ><label for=\"9131a067-12f5-420a-8880-a61d0e159432\" class=\"sk-toggleable__label sk-toggleable__label-arrow\">OneHotEncoder</label><div class=\"sk-toggleable__content\"><pre>OneHotEncoder()</pre></div></div></div></div></div></div><div class=\"sk-parallel-item\"><div class=\"sk-item\"><div class=\"sk-label-container\"><div class=\"sk-label sk-toggleable\"><input class=\"sk-toggleable__control sk-hidden--visually\" id=\"fb0a832a-b619-429c-a7cb-762d02af37c6\" type=\"checkbox\" ><label for=\"fb0a832a-b619-429c-a7cb-762d02af37c6\" class=\"sk-toggleable__label sk-toggleable__label-arrow\">feature_adder</label><div class=\"sk-toggleable__content\"><pre>[&#x27;children&#x27;]</pre></div></div></div><div class=\"sk-serial\"><div class=\"sk-item\"><div class=\"sk-estimator sk-toggleable\"><input class=\"sk-toggleable__control sk-hidden--visually\" id=\"272fc1d3-b15d-40b7-ad13-f2cdfdf25db1\" type=\"checkbox\" ><label for=\"272fc1d3-b15d-40b7-ad13-f2cdfdf25db1\" class=\"sk-toggleable__label sk-toggleable__label-arrow\">FunctionTransformer</label><div class=\"sk-toggleable__content\"><pre>FunctionTransformer(func=&lt;function add_child_free_column at 0x7f26ea78c7a0&gt;)</pre></div></div></div></div></div></div></div></div><div class=\"sk-item\"><div class=\"sk-estimator sk-toggleable\"><input class=\"sk-toggleable__control sk-hidden--visually\" id=\"3dba7343-48d5-418e-89c1-888a3cfd6e34\" type=\"checkbox\" ><label for=\"3dba7343-48d5-418e-89c1-888a3cfd6e34\" class=\"sk-toggleable__label sk-toggleable__label-arrow\">LinearRegression</label><div class=\"sk-toggleable__content\"><pre>LinearRegression()</pre></div></div></div></div></div></div></div>"
            ]
          },
          "metadata": {},
          "execution_count": 24
        }
      ]
    },
    {
      "cell_type": "markdown",
      "source": [
        "¿Cuáles son los beneficios de usar un pipeline?\n",
        "\n",
        "Facilita la reproducibilidad\n",
        "No son celdas separadas: se corre siempre el mismo pipeline\n",
        "Deshabilitar un paso o agregar otro es trivial\n",
        "Es más fácil pasar el código de un notebook a una aplicación (cli, web app, etc.)\n",
        "Es imposible fittear parámetros del feature engineering sobre los datos de test\n",
        "Evita la duplicación de código y el código espagueti\n",
        "¿Cuáles son las desventajas?\n",
        "\n",
        "Para iterar al principio puede ser más lento\n",
        "Perdemos el detalle del paso a paso"
      ],
      "metadata": {
        "id": "EWpfFbstrbPj"
      }
    },
    {
      "cell_type": "code",
      "source": [
        "train_preds = pipeline.predict(train)\n",
        "test_preds = pipeline.predict(test)"
      ],
      "metadata": {
        "id": "6b39Pz6TsgN0"
      },
      "execution_count": 28,
      "outputs": []
    },
    {
      "cell_type": "code",
      "source": [
        "from sklearn import metrics\n",
        "\n",
        "def get_pipeline_preds(pipeline, train, test):\n",
        "    train_preds = pipeline.predict(train)\n",
        "    test_preds = pipeline.predict(test)\n",
        "    return train_preds, test_preds\n",
        "\n",
        "def print_metrics(train, train_preds, test, test_preds):\n",
        "\n",
        "    print(f\"Train MAE: {metrics.mean_absolute_error(train_preds, train.charges):.2f}\", )\n",
        "    print(f\"Test MAE: {metrics.mean_absolute_error(test_preds, test.charges):.2f}\")\n",
        "\n",
        "    print(f\"Train R2: {metrics.r2_score(train_preds, train.charges):.2f}\", )\n",
        "    print(f\"Test R2: {metrics.r2_score(test_preds, test.charges):.2f}\")\n",
        "\n",
        "train_preds, test_preds = get_pipeline_preds(pipeline, train, test)\n",
        "print_metrics(train, train_preds, test, test_preds)"
      ],
      "metadata": {
        "colab": {
          "base_uri": "https://localhost:8080/"
        },
        "id": "LmO_DlLGsjf8",
        "outputId": "ed330464-8dca-46ce-a599-e1a003c456c2"
      },
      "execution_count": 29,
      "outputs": [
        {
          "output_type": "stream",
          "name": "stdout",
          "text": [
            "Train MAE: 4249.40\n",
            "Test MAE: 4129.41\n",
            "Train R2: 0.65\n",
            "Test R2: 0.69\n"
          ]
        }
      ]
    },
    {
      "cell_type": "code",
      "source": [
        "from matplotlib import pyplot as plt\n",
        "\n",
        "plt.figure(dpi=150, facecolor=\"white\")\n",
        "plt.scatter(test_preds, test.charges, alpha=0.5)\n",
        "max_val = max(test_preds.max(), test.charges.max())\n",
        "plt.ylim(0, max_val)\n",
        "plt.xlim(0, max_val)\n",
        "plt.title(\"Prediction plot\")\n",
        "plt.xlabel(\"Predicted value\")\n",
        "plt.ylabel(\"Real value\")\n",
        "plt.grid()"
      ],
      "metadata": {
        "colab": {
          "base_uri": "https://localhost:8080/",
          "height": 594
        },
        "id": "jp_TUhw3smIG",
        "outputId": "18a280cf-74a6-407e-bf00-eb46a382be97"
      },
      "execution_count": 30,
      "outputs": [
        {
          "output_type": "display_data",
          "data": {
            "text/plain": [
              "<Figure size 900x600 with 1 Axes>"
            ],
            "image/png": "[encoded data removed]"
          },
          "metadata": {}
        }
      ]
    },
    {
      "cell_type": "markdown",
      "source": [
        "Usando validación cruzada"
      ],
      "metadata": {
        "id": "xpkVsc5CsuVh"
      }
    },
    {
      "cell_type": "code",
      "source": [
        "from sklearn.model_selection import cross_val_score\n",
        "\n",
        "val_scores = cross_val_score(\n",
        "    pipeline, \n",
        "    train, \n",
        "    train.charges, \n",
        "    cv=5, \n",
        "    scoring=metrics.make_scorer(metrics.mean_absolute_error)\n",
        ")\n",
        "val_scores"
      ],
      "metadata": {
        "colab": {
          "base_uri": "https://localhost:8080/"
        },
        "id": "OXeQp0cHsvGL",
        "outputId": "22069eb6-c36f-43ad-990c-a27755798176"
      },
      "execution_count": 31,
      "outputs": [
        {
          "output_type": "execute_result",
          "data": {
            "text/plain": [
              "array([4312.29699064, 4337.64238549, 4567.25542754, 4297.04860774,\n",
              "       3995.69086076])"
            ]
          },
          "metadata": {},
          "execution_count": 31
        }
      ]
    },
    {
      "cell_type": "code",
      "source": [
        "np.mean(val_scores)"
      ],
      "metadata": {
        "colab": {
          "base_uri": "https://localhost:8080/"
        },
        "id": "6y9qtjr4szxI",
        "outputId": "3dfa378e-c6d0-4862-d00f-618ab7831399"
      },
      "execution_count": 32,
      "outputs": [
        {
          "output_type": "execute_result",
          "data": {
            "text/plain": [
              "4301.98685443228"
            ]
          },
          "metadata": {},
          "execution_count": 32
        }
      ]
    },
    {
      "cell_type": "markdown",
      "source": [
        "Usando random forests\n",
        "No nos perdamos el árbol por ver el bosque\n",
        "Supongamos que queremos predecir los gastos médicos de un paciente basándonos en la edad y el índice de masa corporal de los pacientes (como en la figura de abajo).\n",
        "\n",
        "Para construir un modelo de árbol de decisión que nos permita realizar esta predicción debemos seguir los siguientes pasos:\n",
        "\n",
        "Definir un conjunto de regiones diviendo los pacientes por sus valores en alguno de estos atributos.\n",
        "Dentro de las regiones resultantes tomar como valor predicho de los gastos de un paciente al promedio de los gastos de todos los pacientes en esa región.\n",
        "A su vez se puede continuar iterando este algoritmo elegiendo otro atributo o el mismo y particionando cada región en subregiones. Este particionamiento define o puede ser representado como una estructura de árbol:\n",
        "\n",
        "Las regiones son los nodos terminales u hojas\n",
        "Los valores utilizados para partir al espacio de atributos son los nodos internos.\n",
        "Las aristas que conectan los nodos son las ramas.\n",
        "tree\n",
        "\n",
        "tree-cartesian\n",
        "\n",
        "¿Cómo definimos un poco más formalmente las regiones para construir un árbol?\n",
        "\n",
        "Buscamos \"rectangulos\" (o cajas) \n",
        " que minimicen el ECM\n",
        "\n",
        " \n",
        " \n",
        "Para ello tomamos un enfoque top-down y greedy -- empezamos con todas las observaciones en una única región y en cada etapa hacemos la mejor partición posible.\n",
        "\n",
        "Elegimos la variable \n",
        " y punto de corte  tal que partir el espacio de atributos en regiones \n",
        " y \n",
        " minimice el ECM\n",
        "Repetimos 1. para cada sub-region resultante hasta cumplir algún criterio de parada (por ejemplo una cota mínima de observaciones en cada región)\n",
        "Propuesta de ejercicio\n",
        "Como ejercicio, adaptar el Pipeline anterior para fittear un árbol. Identificar cuáles pasos de feature engineering no son necesarios para este modelo y eliminarlos.\n",
        "\n",
        "Como referencia para armar un árbol y visualizarlo, se puede ver la documentación de scikit-learn: https://scikit-learn.org/stable/modules/tree.html\n",
        "\n",
        "Ahora: el bosque\n",
        "rf"
      ],
      "metadata": {
        "id": "tlQXEMh6s4f1"
      }
    },
    {
      "cell_type": "code",
      "source": [
        "from sklearn.ensemble import RandomForestRegressor\n",
        "pipeline_rf = Pipeline([\n",
        "    (\"column_transformer\", ct),\n",
        "    (\"forest\", RandomForestRegressor(n_estimators=100))\n",
        "])"
      ],
      "metadata": {
        "id": "gvwEc-Zbs5kb"
      },
      "execution_count": 33,
      "outputs": []
    },
    {
      "cell_type": "code",
      "source": [
        "pipeline_rf.fit(train, train.charges)\n",
        ";"
      ],
      "metadata": {
        "colab": {
          "base_uri": "https://localhost:8080/",
          "height": 35
        },
        "id": "PHPHUMMZs9pf",
        "outputId": "8702deeb-d262-457b-b51e-76d1941f094c"
      },
      "execution_count": 34,
      "outputs": [
        {
          "output_type": "execute_result",
          "data": {
            "text/plain": [
              "''"
            ],
            "application/vnd.google.colaboratory.intrinsic+json": {
              "type": "string"
            }
          },
          "metadata": {},
          "execution_count": 34
        }
      ]
    },
    {
      "cell_type": "code",
      "source": [
        "train_preds, test_preds = get_pipeline_preds(pipeline_rf, train, test)\n",
        "\n",
        "print_metrics(train, train_preds, test, test_preds)"
      ],
      "metadata": {
        "colab": {
          "base_uri": "https://localhost:8080/"
        },
        "id": "I0Y54oWwtAIq",
        "outputId": "1d8bf28f-2df7-45e5-b76c-6e8f5408301c"
      },
      "execution_count": 35,
      "outputs": [
        {
          "output_type": "stream",
          "name": "stdout",
          "text": [
            "Train MAE: 1099.04\n",
            "Test MAE: 2637.98\n",
            "Train R2: 0.97\n",
            "Test R2: 0.83\n"
          ]
        }
      ]
    },
    {
      "cell_type": "markdown",
      "source": [
        "Buscando hiperparámetros con validación cruzada para evitar overfitting"
      ],
      "metadata": {
        "id": "SHm1qp7ctD5Z"
      }
    },
    {
      "cell_type": "code",
      "source": [
        "from sklearn.model_selection import GridSearchCV\n",
        "\n",
        "param_grid = {\n",
        "    \"forest__n_estimators\": [5, 10, 50, 100]\n",
        "}\n",
        "search = GridSearchCV(pipeline_rf, param_grid, n_jobs=1, scoring=metrics.make_scorer(metrics.mean_absolute_error))\n",
        "search.fit(train, train.charges)"
      ],
      "metadata": {
        "colab": {
          "base_uri": "https://localhost:8080/",
          "height": 228
        },
        "id": "w9v9OfLQtFFl",
        "outputId": "618194e5-edbc-457b-ad5e-720c52eefd80"
      },
      "execution_count": 36,
      "outputs": [
        {
          "output_type": "execute_result",
          "data": {
            "text/plain": [
              "GridSearchCV(estimator=Pipeline(steps=[('column_transformer',\n",
              "                                        ColumnTransformer(transformers=[('impute_and_scale',\n",
              "                                                                         Pipeline(steps=[('mean_imputer',\n",
              "                                                                                          SimpleImputer()),\n",
              "                                                                                         ('scaler',\n",
              "                                                                                          StandardScaler())]),\n",
              "                                                                         ['bmi']),\n",
              "                                                                        ('scaler',\n",
              "                                                                         StandardScaler(),\n",
              "                                                                         ['age',\n",
              "                                                                          'children']),\n",
              "                                                                        ('one_hot_encoder',\n",
              "                                                                         OneHotEncoder(),\n",
              "                                                                         ['smoker',\n",
              "                                                                          'region',\n",
              "                                                                          'sex']),\n",
              "                                                                        ('feature_adder',\n",
              "                                                                         FunctionTransformer(func=<function add_child_free_column at 0x7f26ea78c7a0>),\n",
              "                                                                         ['children'])])),\n",
              "                                       ('forest', RandomForestRegressor())]),\n",
              "             n_jobs=1, param_grid={'forest__n_estimators': [5, 10, 50, 100]},\n",
              "             scoring=make_scorer(mean_absolute_error))"
            ],
            "text/html": [
              "<style>#sk-cd1f8b57-d0fd-43b1-ad92-d16a8faf8a1b {color: black;background-color: white;}#sk-cd1f8b57-d0fd-43b1-ad92-d16a8faf8a1b pre{padding: 0;}#sk-cd1f8b57-d0fd-43b1-ad92-d16a8faf8a1b div.sk-toggleable {background-color: white;}#sk-cd1f8b57-d0fd-43b1-ad92-d16a8faf8a1b label.sk-toggleable__label {cursor: pointer;display: block;width: 100%;margin-bottom: 0;padding: 0.3em;box-sizing: border-box;text-align: center;}#sk-cd1f8b57-d0fd-43b1-ad92-d16a8faf8a1b label.sk-toggleable__label-arrow:before {content: \"▸\";float: left;margin-right: 0.25em;color: #696969;}#sk-cd1f8b57-d0fd-43b1-ad92-d16a8faf8a1b label.sk-toggleable__label-arrow:hover:before {color: black;}#sk-cd1f8b57-d0fd-43b1-ad92-d16a8faf8a1b div.sk-estimator:hover label.sk-toggleable__label-arrow:before {color: black;}#sk-cd1f8b57-d0fd-43b1-ad92-d16a8faf8a1b div.sk-toggleable__content {max-height: 0;max-width: 0;overflow: hidden;text-align: left;background-color: #f0f8ff;}#sk-cd1f8b57-d0fd-43b1-ad92-d16a8faf8a1b div.sk-toggleable__content pre {margin: 0.2em;color: black;border-radius: 0.25em;background-color: #f0f8ff;}#sk-cd1f8b57-d0fd-43b1-ad92-d16a8faf8a1b input.sk-toggleable__control:checked~div.sk-toggleable__content {max-height: 200px;max-width: 100%;overflow: auto;}#sk-cd1f8b57-d0fd-43b1-ad92-d16a8faf8a1b input.sk-toggleable__control:checked~label.sk-toggleable__label-arrow:before {content: \"▾\";}#sk-cd1f8b57-d0fd-43b1-ad92-d16a8faf8a1b div.sk-estimator input.sk-toggleable__control:checked~label.sk-toggleable__label {background-color: #d4ebff;}#sk-cd1f8b57-d0fd-43b1-ad92-d16a8faf8a1b div.sk-label input.sk-toggleable__control:checked~label.sk-toggleable__label {background-color: #d4ebff;}#sk-cd1f8b57-d0fd-43b1-ad92-d16a8faf8a1b input.sk-hidden--visually {border: 0;clip: rect(1px 1px 1px 1px);clip: rect(1px, 1px, 1px, 1px);height: 1px;margin: -1px;overflow: hidden;padding: 0;position: absolute;width: 1px;}#sk-cd1f8b57-d0fd-43b1-ad92-d16a8faf8a1b div.sk-estimator {font-family: monospace;background-color: #f0f8ff;border: 1px dotted black;border-radius: 0.25em;box-sizing: border-box;margin-bottom: 0.5em;}#sk-cd1f8b57-d0fd-43b1-ad92-d16a8faf8a1b div.sk-estimator:hover {background-color: #d4ebff;}#sk-cd1f8b57-d0fd-43b1-ad92-d16a8faf8a1b div.sk-parallel-item::after {content: \"\";width: 100%;border-bottom: 1px solid gray;flex-grow: 1;}#sk-cd1f8b57-d0fd-43b1-ad92-d16a8faf8a1b div.sk-label:hover label.sk-toggleable__label {background-color: #d4ebff;}#sk-cd1f8b57-d0fd-43b1-ad92-d16a8faf8a1b div.sk-serial::before {content: \"\";position: absolute;border-left: 1px solid gray;box-sizing: border-box;top: 2em;bottom: 0;left: 50%;}#sk-cd1f8b57-d0fd-43b1-ad92-d16a8faf8a1b div.sk-serial {display: flex;flex-direction: column;align-items: center;background-color: white;padding-right: 0.2em;padding-left: 0.2em;}#sk-cd1f8b57-d0fd-43b1-ad92-d16a8faf8a1b div.sk-item {z-index: 1;}#sk-cd1f8b57-d0fd-43b1-ad92-d16a8faf8a1b div.sk-parallel {display: flex;align-items: stretch;justify-content: center;background-color: white;}#sk-cd1f8b57-d0fd-43b1-ad92-d16a8faf8a1b div.sk-parallel::before {content: \"\";position: absolute;border-left: 1px solid gray;box-sizing: border-box;top: 2em;bottom: 0;left: 50%;}#sk-cd1f8b57-d0fd-43b1-ad92-d16a8faf8a1b div.sk-parallel-item {display: flex;flex-direction: column;position: relative;background-color: white;}#sk-cd1f8b57-d0fd-43b1-ad92-d16a8faf8a1b div.sk-parallel-item:first-child::after {align-self: flex-end;width: 50%;}#sk-cd1f8b57-d0fd-43b1-ad92-d16a8faf8a1b div.sk-parallel-item:last-child::after {align-self: flex-start;width: 50%;}#sk-cd1f8b57-d0fd-43b1-ad92-d16a8faf8a1b div.sk-parallel-item:only-child::after {width: 0;}#sk-cd1f8b57-d0fd-43b1-ad92-d16a8faf8a1b div.sk-dashed-wrapped {border: 1px dashed gray;margin: 0 0.4em 0.5em 0.4em;box-sizing: border-box;padding-bottom: 0.4em;background-color: white;position: relative;}#sk-cd1f8b57-d0fd-43b1-ad92-d16a8faf8a1b div.sk-label label {font-family: monospace;font-weight: bold;background-color: white;display: inline-block;line-height: 1.2em;}#sk-cd1f8b57-d0fd-43b1-ad92-d16a8faf8a1b div.sk-label-container {position: relative;z-index: 2;text-align: center;}#sk-cd1f8b57-d0fd-43b1-ad92-d16a8faf8a1b div.sk-container {/* jupyter's `normalize.less` sets `[hidden] { display: none; }` but bootstrap.min.css set `[hidden] { display: none !important; }` so we also need the `!important` here to be able to override the default hidden behavior on the sphinx rendered scikit-learn.org. See: https://github.com/scikit-learn/scikit-learn/issues/21755 */display: inline-block !important;position: relative;}#sk-cd1f8b57-d0fd-43b1-ad92-d16a8faf8a1b div.sk-text-repr-fallback {display: none;}</style><div id=\"sk-cd1f8b57-d0fd-43b1-ad92-d16a8faf8a1b\" class=\"sk-top-container\"><div class=\"sk-text-repr-fallback\"><pre>GridSearchCV(estimator=Pipeline(steps=[(&#x27;column_transformer&#x27;,\n",
              "                                        ColumnTransformer(transformers=[(&#x27;impute_and_scale&#x27;,\n",
              "                                                                         Pipeline(steps=[(&#x27;mean_imputer&#x27;,\n",
              "                                                                                          SimpleImputer()),\n",
              "                                                                                         (&#x27;scaler&#x27;,\n",
              "                                                                                          StandardScaler())]),\n",
              "                                                                         [&#x27;bmi&#x27;]),\n",
              "                                                                        (&#x27;scaler&#x27;,\n",
              "                                                                         StandardScaler(),\n",
              "                                                                         [&#x27;age&#x27;,\n",
              "                                                                          &#x27;children&#x27;]),\n",
              "                                                                        (&#x27;one_hot_encoder&#x27;,\n",
              "                                                                         OneHotEncoder(),\n",
              "                                                                         [&#x27;smoker&#x27;,\n",
              "                                                                          &#x27;region&#x27;,\n",
              "                                                                          &#x27;sex&#x27;]),\n",
              "                                                                        (&#x27;feature_adder&#x27;,\n",
              "                                                                         FunctionTransformer(func=&lt;function add_child_free_column at 0x7f26ea78c7a0&gt;),\n",
              "                                                                         [&#x27;children&#x27;])])),\n",
              "                                       (&#x27;forest&#x27;, RandomForestRegressor())]),\n",
              "             n_jobs=1, param_grid={&#x27;forest__n_estimators&#x27;: [5, 10, 50, 100]},\n",
              "             scoring=make_scorer(mean_absolute_error))</pre><b>Please rerun this cell to show the HTML repr or trust the notebook.</b></div><div class=\"sk-container\" hidden><div class=\"sk-item sk-dashed-wrapped\"><div class=\"sk-label-container\"><div class=\"sk-label sk-toggleable\"><input class=\"sk-toggleable__control sk-hidden--visually\" id=\"0e33ef05-db15-48af-b89f-1378a53d1b8d\" type=\"checkbox\" ><label for=\"0e33ef05-db15-48af-b89f-1378a53d1b8d\" class=\"sk-toggleable__label sk-toggleable__label-arrow\">GridSearchCV</label><div class=\"sk-toggleable__content\"><pre>GridSearchCV(estimator=Pipeline(steps=[(&#x27;column_transformer&#x27;,\n",
              "                                        ColumnTransformer(transformers=[(&#x27;impute_and_scale&#x27;,\n",
              "                                                                         Pipeline(steps=[(&#x27;mean_imputer&#x27;,\n",
              "                                                                                          SimpleImputer()),\n",
              "                                                                                         (&#x27;scaler&#x27;,\n",
              "                                                                                          StandardScaler())]),\n",
              "                                                                         [&#x27;bmi&#x27;]),\n",
              "                                                                        (&#x27;scaler&#x27;,\n",
              "                                                                         StandardScaler(),\n",
              "                                                                         [&#x27;age&#x27;,\n",
              "                                                                          &#x27;children&#x27;]),\n",
              "                                                                        (&#x27;one_hot_encoder&#x27;,\n",
              "                                                                         OneHotEncoder(),\n",
              "                                                                         [&#x27;smoker&#x27;,\n",
              "                                                                          &#x27;region&#x27;,\n",
              "                                                                          &#x27;sex&#x27;]),\n",
              "                                                                        (&#x27;feature_adder&#x27;,\n",
              "                                                                         FunctionTransformer(func=&lt;function add_child_free_column at 0x7f26ea78c7a0&gt;),\n",
              "                                                                         [&#x27;children&#x27;])])),\n",
              "                                       (&#x27;forest&#x27;, RandomForestRegressor())]),\n",
              "             n_jobs=1, param_grid={&#x27;forest__n_estimators&#x27;: [5, 10, 50, 100]},\n",
              "             scoring=make_scorer(mean_absolute_error))</pre></div></div></div><div class=\"sk-parallel\"><div class=\"sk-parallel-item\"><div class=\"sk-item\"><div class=\"sk-serial\"><div class=\"sk-item\"><div class=\"sk-serial\"><div class=\"sk-item sk-dashed-wrapped\"><div class=\"sk-label-container\"><div class=\"sk-label sk-toggleable\"><input class=\"sk-toggleable__control sk-hidden--visually\" id=\"395a01ab-fcf3-45de-a34c-f6089d04aa25\" type=\"checkbox\" ><label for=\"395a01ab-fcf3-45de-a34c-f6089d04aa25\" class=\"sk-toggleable__label sk-toggleable__label-arrow\">column_transformer: ColumnTransformer</label><div class=\"sk-toggleable__content\"><pre>ColumnTransformer(transformers=[(&#x27;impute_and_scale&#x27;,\n",
              "                                 Pipeline(steps=[(&#x27;mean_imputer&#x27;,\n",
              "                                                  SimpleImputer()),\n",
              "                                                 (&#x27;scaler&#x27;, StandardScaler())]),\n",
              "                                 [&#x27;bmi&#x27;]),\n",
              "                                (&#x27;scaler&#x27;, StandardScaler(),\n",
              "                                 [&#x27;age&#x27;, &#x27;children&#x27;]),\n",
              "                                (&#x27;one_hot_encoder&#x27;, OneHotEncoder(),\n",
              "                                 [&#x27;smoker&#x27;, &#x27;region&#x27;, &#x27;sex&#x27;]),\n",
              "                                (&#x27;feature_adder&#x27;,\n",
              "                                 FunctionTransformer(func=&lt;function add_child_free_column at 0x7f26ea78c7a0&gt;),\n",
              "                                 [&#x27;children&#x27;])])</pre></div></div></div><div class=\"sk-parallel\"><div class=\"sk-parallel-item\"><div class=\"sk-item\"><div class=\"sk-label-container\"><div class=\"sk-label sk-toggleable\"><input class=\"sk-toggleable__control sk-hidden--visually\" id=\"79baadac-27d3-4990-a36d-b1db72ed8350\" type=\"checkbox\" ><label for=\"79baadac-27d3-4990-a36d-b1db72ed8350\" class=\"sk-toggleable__label sk-toggleable__label-arrow\">impute_and_scale</label><div class=\"sk-toggleable__content\"><pre>[&#x27;bmi&#x27;]</pre></div></div></div><div class=\"sk-serial\"><div class=\"sk-item\"><div class=\"sk-serial\"><div class=\"sk-item\"><div class=\"sk-estimator sk-toggleable\"><input class=\"sk-toggleable__control sk-hidden--visually\" id=\"fde7102d-72b0-483a-8810-7b9ae423e65c\" type=\"checkbox\" ><label for=\"fde7102d-72b0-483a-8810-7b9ae423e65c\" class=\"sk-toggleable__label sk-toggleable__label-arrow\">SimpleImputer</label><div class=\"sk-toggleable__content\"><pre>SimpleImputer()</pre></div></div></div><div class=\"sk-item\"><div class=\"sk-estimator sk-toggleable\"><input class=\"sk-toggleable__control sk-hidden--visually\" id=\"94cee054-e8e9-4b0f-af7d-cce543b8cbd0\" type=\"checkbox\" ><label for=\"94cee054-e8e9-4b0f-af7d-cce543b8cbd0\" class=\"sk-toggleable__label sk-toggleable__label-arrow\">StandardScaler</label><div class=\"sk-toggleable__content\"><pre>StandardScaler()</pre></div></div></div></div></div></div></div></div><div class=\"sk-parallel-item\"><div class=\"sk-item\"><div class=\"sk-label-container\"><div class=\"sk-label sk-toggleable\"><input class=\"sk-toggleable__control sk-hidden--visually\" id=\"a1c01a7e-71cb-43a2-8b08-ab590e1d319c\" type=\"checkbox\" ><label for=\"a1c01a7e-71cb-43a2-8b08-ab590e1d319c\" class=\"sk-toggleable__label sk-toggleable__label-arrow\">scaler</label><div class=\"sk-toggleable__content\"><pre>[&#x27;age&#x27;, &#x27;children&#x27;]</pre></div></div></div><div class=\"sk-serial\"><div class=\"sk-item\"><div class=\"sk-estimator sk-toggleable\"><input class=\"sk-toggleable__control sk-hidden--visually\" id=\"7acdd576-c6b1-48a2-a74b-d8ab59551bd9\" type=\"checkbox\" ><label for=\"7acdd576-c6b1-48a2-a74b-d8ab59551bd9\" class=\"sk-toggleable__label sk-toggleable__label-arrow\">StandardScaler</label><div class=\"sk-toggleable__content\"><pre>StandardScaler()</pre></div></div></div></div></div></div><div class=\"sk-parallel-item\"><div class=\"sk-item\"><div class=\"sk-label-container\"><div class=\"sk-label sk-toggleable\"><input class=\"sk-toggleable__control sk-hidden--visually\" id=\"103edd43-284a-4977-8c9c-c293ebd62afb\" type=\"checkbox\" ><label for=\"103edd43-284a-4977-8c9c-c293ebd62afb\" class=\"sk-toggleable__label sk-toggleable__label-arrow\">one_hot_encoder</label><div class=\"sk-toggleable__content\"><pre>[&#x27;smoker&#x27;, &#x27;region&#x27;, &#x27;sex&#x27;]</pre></div></div></div><div class=\"sk-serial\"><div class=\"sk-item\"><div class=\"sk-estimator sk-toggleable\"><input class=\"sk-toggleable__control sk-hidden--visually\" id=\"ebef3373-8308-4b93-a4bd-354fda1b2cd8\" type=\"checkbox\" ><label for=\"ebef3373-8308-4b93-a4bd-354fda1b2cd8\" class=\"sk-toggleable__label sk-toggleable__label-arrow\">OneHotEncoder</label><div class=\"sk-toggleable__content\"><pre>OneHotEncoder()</pre></div></div></div></div></div></div><div class=\"sk-parallel-item\"><div class=\"sk-item\"><div class=\"sk-label-container\"><div class=\"sk-label sk-toggleable\"><input class=\"sk-toggleable__control sk-hidden--visually\" id=\"ffc214b2-c5b1-418e-9db8-f512ae50428c\" type=\"checkbox\" ><label for=\"ffc214b2-c5b1-418e-9db8-f512ae50428c\" class=\"sk-toggleable__label sk-toggleable__label-arrow\">feature_adder</label><div class=\"sk-toggleable__content\"><pre>[&#x27;children&#x27;]</pre></div></div></div><div class=\"sk-serial\"><div class=\"sk-item\"><div class=\"sk-estimator sk-toggleable\"><input class=\"sk-toggleable__control sk-hidden--visually\" id=\"6d975793-e83d-471d-9c7e-eb28e77389bd\" type=\"checkbox\" ><label for=\"6d975793-e83d-471d-9c7e-eb28e77389bd\" class=\"sk-toggleable__label sk-toggleable__label-arrow\">FunctionTransformer</label><div class=\"sk-toggleable__content\"><pre>FunctionTransformer(func=&lt;function add_child_free_column at 0x7f26ea78c7a0&gt;)</pre></div></div></div></div></div></div></div></div><div class=\"sk-item\"><div class=\"sk-estimator sk-toggleable\"><input class=\"sk-toggleable__control sk-hidden--visually\" id=\"0d26f407-1db7-462d-bd4c-a06ea6b3d1bb\" type=\"checkbox\" ><label for=\"0d26f407-1db7-462d-bd4c-a06ea6b3d1bb\" class=\"sk-toggleable__label sk-toggleable__label-arrow\">RandomForestRegressor</label><div class=\"sk-toggleable__content\"><pre>RandomForestRegressor()</pre></div></div></div></div></div></div></div></div></div></div></div></div>"
            ]
          },
          "metadata": {},
          "execution_count": 36
        }
      ]
    },
    {
      "cell_type": "code",
      "source": [
        "search.best_params_"
      ],
      "metadata": {
        "colab": {
          "base_uri": "https://localhost:8080/"
        },
        "id": "C_Vum6r9tOO1",
        "outputId": "e7519a4e-b0ee-40d0-d7de-8cd3633fb16f"
      },
      "execution_count": 37,
      "outputs": [
        {
          "output_type": "execute_result",
          "data": {
            "text/plain": [
              "{'forest__n_estimators': 5}"
            ]
          },
          "metadata": {},
          "execution_count": 37
        }
      ]
    },
    {
      "cell_type": "code",
      "source": [
        "search.cv_results_"
      ],
      "metadata": {
        "colab": {
          "base_uri": "https://localhost:8080/"
        },
        "id": "jBi-rfdVtQsC",
        "outputId": "c4385966-f1de-497d-9dd0-4c92fb791f4e"
      },
      "execution_count": 38,
      "outputs": [
        {
          "output_type": "execute_result",
          "data": {
            "text/plain": [
              "{'mean_fit_time': array([0.05912933, 0.08234229, 0.27417059, 0.54114051]),\n",
              " 'mean_score_time': array([0.01916819, 0.01945539, 0.02575541, 0.02553229]),\n",
              " 'mean_test_score': array([3425.31477564, 3290.45012643, 3123.14056024, 3103.2874878 ]),\n",
              " 'param_forest__n_estimators': masked_array(data=[5, 10, 50, 100],\n",
              "              mask=[False, False, False, False],\n",
              "        fill_value='?',\n",
              "             dtype=object),\n",
              " 'params': [{'forest__n_estimators': 5},\n",
              "  {'forest__n_estimators': 10},\n",
              "  {'forest__n_estimators': 50},\n",
              "  {'forest__n_estimators': 100}],\n",
              " 'rank_test_score': array([1, 2, 3, 4], dtype=int32),\n",
              " 'split0_test_score': array([3047.41099819, 2909.81219148, 2757.43603146, 2812.15987717]),\n",
              " 'split1_test_score': array([3261.88156598, 3676.62822545, 3226.38207114, 3294.62335488]),\n",
              " 'split2_test_score': array([3675.03282239, 3428.77003025, 3215.08019255, 3178.34262426]),\n",
              " 'split3_test_score': array([3590.45359129, 3093.60242069, 3096.6928299 , 2959.61851548]),\n",
              " 'split4_test_score': array([3551.79490036, 3343.43776427, 3320.11167617, 3271.69306722]),\n",
              " 'std_fit_time': array([0.01429266, 0.01259355, 0.02147728, 0.23111718]),\n",
              " 'std_score_time': array([0.00745971, 0.00290786, 0.00115166, 0.00690801]),\n",
              " 'std_test_score': array([234.58424171, 266.34859358, 196.13699849, 187.61619653])}"
            ]
          },
          "metadata": {},
          "execution_count": 38
        }
      ]
    }
  ]
}