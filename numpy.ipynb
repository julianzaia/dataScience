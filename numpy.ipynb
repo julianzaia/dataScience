{
  "nbformat": 4,
  "nbformat_minor": 0,
  "metadata": {
    "colab": {
      "name": "numpy.ipynb",
      "provenance": [],
      "authorship_tag": "ABX9TyMiZDfgjJpTqS21MesGfYkA",
      "include_colab_link": true
    },
    "kernelspec": {
      "name": "python3",
      "display_name": "Python 3"
    },
    "language_info": {
      "name": "python"
    }
  },
  "cells": [
    {
      "cell_type": "markdown",
      "metadata": {
        "id": "view-in-github",
        "colab_type": "text"
      },
      "source": [
        "<a href=\"https://colab.research.google.com/github/julianzaia/dataScience/blob/main/numpy.ipynb\" target=\"_parent\"><img src=\"https://colab.research.google.com/assets/colab-badge.svg\" alt=\"Open In Colab\"/></a>"
      ]
    },
    {
      "cell_type": "code",
      "execution_count": 4,
      "metadata": {
        "colab": {
          "base_uri": "https://localhost:8080/"
        },
        "id": "fRYj7J5HIY1C",
        "outputId": "8239f9b6-676d-4aa2-e454-20572cb7c07f"
      },
      "outputs": [
        {
          "output_type": "stream",
          "name": "stdout",
          "text": [
            "res:\n",
            "[[1 2 3 6]\n",
            " [4 5 6 9]]\n"
          ]
        }
      ],
      "source": [
        "import numpy as np\n",
        "x = np.array([[1, 2, 3, 6], [4, 5, 6, 9]])\n",
        "print(\"res:\\n{}\".format(x))\n"
      ]
    },
    {
      "cell_type": "code",
      "source": [
        "x = [2, 3, 4, 5, 6]\n",
        "nums3 = np.array(x)+1\n",
        "type(nums)\n",
        "print(nums3)"
      ],
      "metadata": {
        "colab": {
          "base_uri": "https://localhost:8080/"
        },
        "id": "7d1cPm4tJ9Wv",
        "outputId": "dab2ebdd-b6ed-42e0-b3a4-195ca2f4ad63"
      },
      "execution_count": 12,
      "outputs": [
        {
          "output_type": "stream",
          "name": "stdout",
          "text": [
            "[3 4 5 6 7]\n"
          ]
        }
      ]
    },
    {
      "cell_type": "code",
      "source": [
        "nums4 = np.arange(1, 16)\n",
        "nums4 = np.arange(1,101, 2 )\n",
        "\n",
        "print(nums4)"
      ],
      "metadata": {
        "colab": {
          "base_uri": "https://localhost:8080/"
        },
        "id": "rN2XV71rNXPV",
        "outputId": "c9328700-dca9-4b8e-9a6c-c3a154ce6466"
      },
      "execution_count": 27,
      "outputs": [
        {
          "output_type": "stream",
          "name": "stdout",
          "text": [
            "[ 1  3  5  7  9 11 13 15 17 19 21 23 25 27 29 31 33 35 37 39 41 43 45 47\n",
            " 49 51 53 55 57 59 61 63 65 67 69 71 73 75 77 79 81 83 85 87 89 91 93 95\n",
            " 97 99]\n"
          ]
        }
      ]
    },
    {
      "cell_type": "code",
      "source": [
        "zeros = np.zeros(5)\n",
        "print(zeros)"
      ],
      "metadata": {
        "colab": {
          "base_uri": "https://localhost:8080/"
        },
        "id": "KFg5PcYgN5Fh",
        "outputId": "26867728-b2bf-48c8-e1ce-35437da5511b"
      },
      "execution_count": 16,
      "outputs": [
        {
          "output_type": "stream",
          "name": "stdout",
          "text": [
            "[0. 0. 0. 0. 0.]\n"
          ]
        }
      ]
    },
    {
      "cell_type": "code",
      "source": [
        "zeros1 = np.zeros((5, 4))\n",
        "print(zeros1)\n"
      ],
      "metadata": {
        "colab": {
          "base_uri": "https://localhost:8080/"
        },
        "id": "1lmDIWN5OHLr",
        "outputId": "66754bbe-6cfb-4157-9f74-2fa3d8441fb1"
      },
      "execution_count": 17,
      "outputs": [
        {
          "output_type": "stream",
          "name": "stdout",
          "text": [
            "[[0. 0. 0. 0.]\n",
            " [0. 0. 0. 0.]\n",
            " [0. 0. 0. 0.]\n",
            " [0. 0. 0. 0.]\n",
            " [0. 0. 0. 0.]]\n"
          ]
        }
      ]
    },
    {
      "cell_type": "code",
      "source": [
        "ones = np.ones((5, 4))\n",
        "print(ones)"
      ],
      "metadata": {
        "colab": {
          "base_uri": "https://localhost:8080/"
        },
        "id": "B2o8q8wsOlss",
        "outputId": "9a8e7f8f-9548-4766-c44f-266371902b35"
      },
      "execution_count": 18,
      "outputs": [
        {
          "output_type": "stream",
          "name": "stdout",
          "text": [
            "[[1. 1. 1. 1.]\n",
            " [1. 1. 1. 1.]\n",
            " [1. 1. 1. 1.]\n",
            " [1. 1. 1. 1.]\n",
            " [1. 1. 1. 1.]]\n"
          ]
        }
      ]
    },
    {
      "cell_type": "code",
      "source": [
        "lin = np.linspace(0, 1, 100)\n",
        "print(lin)"
      ],
      "metadata": {
        "colab": {
          "base_uri": "https://localhost:8080/"
        },
        "id": "oIm3EOL3Oqls",
        "outputId": "c064107b-d553-48b7-d086-a708cb363071"
      },
      "execution_count": 20,
      "outputs": [
        {
          "output_type": "stream",
          "name": "stdout",
          "text": [
            "[0.         0.01010101 0.02020202 0.03030303 0.04040404 0.05050505\n",
            " 0.06060606 0.07070707 0.08080808 0.09090909 0.1010101  0.11111111\n",
            " 0.12121212 0.13131313 0.14141414 0.15151515 0.16161616 0.17171717\n",
            " 0.18181818 0.19191919 0.2020202  0.21212121 0.22222222 0.23232323\n",
            " 0.24242424 0.25252525 0.26262626 0.27272727 0.28282828 0.29292929\n",
            " 0.3030303  0.31313131 0.32323232 0.33333333 0.34343434 0.35353535\n",
            " 0.36363636 0.37373737 0.38383838 0.39393939 0.4040404  0.41414141\n",
            " 0.42424242 0.43434343 0.44444444 0.45454545 0.46464646 0.47474747\n",
            " 0.48484848 0.49494949 0.50505051 0.51515152 0.52525253 0.53535354\n",
            " 0.54545455 0.55555556 0.56565657 0.57575758 0.58585859 0.5959596\n",
            " 0.60606061 0.61616162 0.62626263 0.63636364 0.64646465 0.65656566\n",
            " 0.66666667 0.67676768 0.68686869 0.6969697  0.70707071 0.71717172\n",
            " 0.72727273 0.73737374 0.74747475 0.75757576 0.76767677 0.77777778\n",
            " 0.78787879 0.7979798  0.80808081 0.81818182 0.82828283 0.83838384\n",
            " 0.84848485 0.85858586 0.86868687 0.87878788 0.88888889 0.8989899\n",
            " 0.90909091 0.91919192 0.92929293 0.93939394 0.94949495 0.95959596\n",
            " 0.96969697 0.97979798 0.98989899 1.        ]\n"
          ]
        }
      ]
    },
    {
      "cell_type": "code",
      "source": [
        "idn = np.eye(4)\n",
        "print(idn)"
      ],
      "metadata": {
        "colab": {
          "base_uri": "https://localhost:8080/"
        },
        "id": "NtG-ehskO9L3",
        "outputId": "e756f4e1-f8a4-4a1b-8344-ded180d23426"
      },
      "execution_count": 21,
      "outputs": [
        {
          "output_type": "stream",
          "name": "stdout",
          "text": [
            "[[1. 0. 0. 0.]\n",
            " [0. 1. 0. 0.]\n",
            " [0. 0. 1. 0.]\n",
            " [0. 0. 0. 1.]]\n"
          ]
        }
      ]
    },
    {
      "cell_type": "code",
      "source": [
        "random = np.random.rand(2, 3)\n",
        "print(random)"
      ],
      "metadata": {
        "colab": {
          "base_uri": "https://localhost:8080/"
        },
        "id": "O49bH4JjPIJk",
        "outputId": "bb97636a-c5ea-496f-c398-586c04acb060"
      },
      "execution_count": 22,
      "outputs": [
        {
          "output_type": "stream",
          "name": "stdout",
          "text": [
            "[[0.25968319 0.40805456 0.44596652]\n",
            " [0.70828412 0.12253653 0.10701393]]\n"
          ]
        }
      ]
    },
    {
      "cell_type": "code",
      "source": [
        "random_gauss = np.random.randn(2, 3)\n",
        "print(random_gauss)"
      ],
      "metadata": {
        "colab": {
          "base_uri": "https://localhost:8080/"
        },
        "id": "4nTLNRd3PVzp",
        "outputId": "339ef8f5-53ce-4e54-fd33-c21448797ca0"
      },
      "execution_count": 23,
      "outputs": [
        {
          "output_type": "stream",
          "name": "stdout",
          "text": [
            "[[-0.26911242 -1.41478462  2.10458126]\n",
            " [-0.13408397 -0.95708563 -2.45109879]]\n"
          ]
        }
      ]
    },
    {
      "cell_type": "code",
      "source": [
        "random_int = np.random.randint(50, 100, 5)\n",
        "print(random_int)"
      ],
      "metadata": {
        "colab": {
          "base_uri": "https://localhost:8080/"
        },
        "id": "58RYJ8w1PnQO",
        "outputId": "55a9b878-f7ff-4b22-90d6-d4191ea902a9"
      },
      "execution_count": 24,
      "outputs": [
        {
          "output_type": "stream",
          "name": "stdout",
          "text": [
            "[62 70 69 62 54]\n"
          ]
        }
      ]
    },
    {
      "cell_type": "code",
      "source": [
        "nums6 = nums4.reshape(4, 4)\n",
        "print(nums2)"
      ],
      "metadata": {
        "colab": {
          "base_uri": "https://localhost:8080/",
          "height": 182
        },
        "id": "8pPKWInqP5Lg",
        "outputId": "26fdcc63-0e43-47a0-ecbf-728a0c134d3c"
      },
      "execution_count": 29,
      "outputs": [
        {
          "output_type": "error",
          "ename": "ValueError",
          "evalue": "ignored",
          "traceback": [
            "\u001b[0;31m---------------------------------------------------------------------------\u001b[0m",
            "\u001b[0;31mValueError\u001b[0m                                Traceback (most recent call last)",
            "\u001b[0;32m<ipython-input-29-b017870f6ba0>\u001b[0m in \u001b[0;36m<module>\u001b[0;34m()\u001b[0m\n\u001b[0;32m----> 1\u001b[0;31m \u001b[0mnums6\u001b[0m \u001b[0;34m=\u001b[0m \u001b[0mnums4\u001b[0m\u001b[0;34m.\u001b[0m\u001b[0mreshape\u001b[0m\u001b[0;34m(\u001b[0m\u001b[0;36m4\u001b[0m\u001b[0;34m,\u001b[0m \u001b[0;36m4\u001b[0m\u001b[0;34m)\u001b[0m\u001b[0;34m\u001b[0m\u001b[0;34m\u001b[0m\u001b[0m\n\u001b[0m\u001b[1;32m      2\u001b[0m \u001b[0mprint\u001b[0m\u001b[0;34m(\u001b[0m\u001b[0mnums2\u001b[0m\u001b[0;34m)\u001b[0m\u001b[0;34m\u001b[0m\u001b[0;34m\u001b[0m\u001b[0m\n",
            "\u001b[0;31mValueError\u001b[0m: cannot reshape array of size 50 into shape (4,4)"
          ]
        }
      ]
    },
    {
      "cell_type": "code",
      "source": [
        "import matplotlib.pyplot\n",
        "from matplotlib.pyplot import plot, show\n"
      ],
      "metadata": {
        "id": "uIYDMfZPQYVA"
      },
      "execution_count": 30,
      "outputs": []
    },
    {
      "cell_type": "code",
      "source": [
        "plot(random_gauss, random)\n",
        "show()"
      ],
      "metadata": {
        "colab": {
          "base_uri": "https://localhost:8080/",
          "height": 265
        },
        "id": "YsXJSqcZQeWL",
        "outputId": "ccd8263c-0646-4a52-dfbb-f5396b3a1908"
      },
      "execution_count": 32,
      "outputs": [
        {
          "output_type": "display_data",
          "data": {
            "text/plain": [
              "<Figure size 432x288 with 1 Axes>"
            ],
            "image/png": "[encoded data removed]"
          },
          "metadata": {
            "needs_background": "light"
          }
        }
      ]
    },
    {
      "cell_type": "code",
      "source": [
        "nums = np.array([2, 3, 4, 5, 6])\n",
        "nums2 = (nums + 1)\n",
        "print(nums2)"
      ],
      "metadata": {
        "colab": {
          "base_uri": "https://localhost:8080/"
        },
        "id": "cQaPOmnqJa6-",
        "outputId": "af5225d7-268e-4a32-fc00-b3b8f26b37f1"
      },
      "execution_count": 7,
      "outputs": [
        {
          "output_type": "stream",
          "name": "stdout",
          "text": [
            "[3 4 5 6 7]\n"
          ]
        }
      ]
    }
  ]
}