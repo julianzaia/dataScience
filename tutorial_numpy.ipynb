{
  "nbformat": 4,
  "nbformat_minor": 0,
  "metadata": {
    "colab": {
      "name": "tutorial_numpy.ipynb",
      "provenance": [],
      "authorship_tag": "ABX9TyOInNRB2nKKvYyJI1kpzgz5",
      "include_colab_link": true
    },
    "kernelspec": {
      "name": "python3",
      "display_name": "Python 3"
    },
    "language_info": {
      "name": "python"
    }
  },
  "cells": [
    {
      "cell_type": "markdown",
      "metadata": {
        "id": "view-in-github",
        "colab_type": "text"
      },
      "source": [
        "<a href=\"https://colab.research.google.com/github/julianzaia/dataScience/blob/main/tutorial_numpy.ipynb\" target=\"_parent\"><img src=\"https://colab.research.google.com/assets/colab-badge.svg\" alt=\"Open In Colab\"/></a>"
      ]
    },
    {
      "cell_type": "code",
      "source": [
        "\"\"\"Como  agregar un valor escalar a cada elemento de una lista\"\"\"\n",
        "\n",
        "import numpy as np\n",
        "nums = np.array([2, 3, 4, 5, 6])\n",
        "nums2 = nums + 2"
      ],
      "metadata": {
        "id": "3c934UQoSEJ0"
      },
      "execution_count": 1,
      "outputs": []
    },
    {
      "cell_type": "code",
      "source": [
        "print(nums2)"
      ],
      "metadata": {
        "colab": {
          "base_uri": "https://localhost:8080/"
        },
        "id": "viHVDRXdSQIO",
        "outputId": "7364095c-7cb1-4dbb-b587-dd76454467a0"
      },
      "execution_count": 3,
      "outputs": [
        {
          "output_type": "stream",
          "name": "stdout",
          "text": [
            "[4 5 6 7 8]\n"
          ]
        }
      ]
    }
  ]
}